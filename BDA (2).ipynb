{
  "nbformat": 4,
  "nbformat_minor": 0,
  "metadata": {
    "colab": {
      "provenance": []
    },
    "kernelspec": {
      "name": "python3",
      "display_name": "Python 3"
    },
    "language_info": {
      "name": "python"
    }
  },
  "cells": [
    {
      "cell_type": "markdown",
      "source": [
        "# **BIG DATA ANALYTICS LAB PROJECT**\n",
        "\n",
        "## Loan Default Prediciton using classifier models\n",
        "\n",
        "\n",
        "*   Logistic Regression\n",
        "\n",
        "*   Decision Tree\n",
        "*   Random Forest\n",
        "\n",
        "*   XGBoost\n",
        "\n",
        "\n",
        "\n",
        "\n",
        "### Liam Bopanna Machianda Muthanna - 210962178\n",
        "### Pranay Jaju - 210962146"
      ],
      "metadata": {
        "id": "eqbRz_LOFadX"
      }
    },
    {
      "cell_type": "code",
      "source": [
        "!pip install pyspark"
      ],
      "metadata": {
        "id": "rrWgXGafjPIL",
        "colab": {
          "base_uri": "https://localhost:8080/"
        },
        "outputId": "ccd33ccc-0fed-4650-f8fe-bc2d2d83c85d"
      },
      "execution_count": null,
      "outputs": [
        {
          "output_type": "stream",
          "name": "stdout",
          "text": [
            "Requirement already satisfied: pyspark in /usr/local/lib/python3.10/dist-packages (3.5.1)\n",
            "Requirement already satisfied: py4j==0.10.9.7 in /usr/local/lib/python3.10/dist-packages (from pyspark) (0.10.9.7)\n"
          ]
        }
      ]
    },
    {
      "cell_type": "code",
      "source": [
        "import pyspark\n",
        "from pyspark.sql import SparkSession\n",
        "from pyspark.sql.functions import col,split\n",
        "from pyspark import SparkConf\n",
        "conf=SparkConf().set('spark.driver.memory', '16g')\n",
        "spark=SparkSession.builder.config(conf=conf).getOrCreate()"
      ],
      "metadata": {
        "id": "zTKlYAPgfpEr"
      },
      "execution_count": null,
      "outputs": []
    },
    {
      "cell_type": "markdown",
      "source": [
        "# Read data"
      ],
      "metadata": {
        "id": "RRbrbERiF1_0"
      }
    },
    {
      "cell_type": "code",
      "source": [
        "data= spark.read.option(\"inferSchema\",\"True\").option(\"header\",\"True\").csv(\"/content/drive/MyDrive/BDA project/accepted_2007_to_2018Q4.csv\")\n"
      ],
      "metadata": {
        "id": "xuV2RS-cjl8P"
      },
      "execution_count": null,
      "outputs": []
    },
    {
      "cell_type": "code",
      "source": [
        "data.cache()"
      ],
      "metadata": {
        "colab": {
          "base_uri": "https://localhost:8080/"
        },
        "id": "Eq8_MuxScdtj",
        "outputId": "70fede19-172b-44f4-c803-baf862859ad7"
      },
      "execution_count": null,
      "outputs": [
        {
          "output_type": "execute_result",
          "data": {
            "text/plain": [
              "DataFrame[id: string, member_id: string, loan_amnt: double, funded_amnt: double, funded_amnt_inv: double, term: string, int_rate: double, installment: double, grade: string, sub_grade: string, emp_title: string, emp_length: string, home_ownership: string, annual_inc: string, verification_status: string, issue_d: string, loan_status: string, pymnt_plan: string, url: string, desc: string, purpose: string, title: string, zip_code: string, addr_state: string, dti: string, delinq_2yrs: string, earliest_cr_line: string, fico_range_low: string, fico_range_high: string, inq_last_6mths: string, mths_since_last_delinq: string, mths_since_last_record: string, open_acc: string, pub_rec: string, revol_bal: string, revol_util: string, total_acc: string, initial_list_status: string, out_prncp: string, out_prncp_inv: string, total_pymnt: string, total_pymnt_inv: string, total_rec_prncp: string, total_rec_int: string, total_rec_late_fee: string, recoveries: string, collection_recovery_fee: string, last_pymnt_d: string, last_pymnt_amnt: string, next_pymnt_d: string, last_credit_pull_d: string, last_fico_range_high: string, last_fico_range_low: string, collections_12_mths_ex_med: string, mths_since_last_major_derog: string, policy_code: string, application_type: string, annual_inc_joint: string, dti_joint: string, verification_status_joint: string, acc_now_delinq: string, tot_coll_amt: string, tot_cur_bal: string, open_acc_6m: string, open_act_il: string, open_il_12m: string, open_il_24m: string, mths_since_rcnt_il: string, total_bal_il: string, il_util: string, open_rv_12m: string, open_rv_24m: string, max_bal_bc: string, all_util: string, total_rev_hi_lim: string, inq_fi: string, total_cu_tl: string, inq_last_12m: double, acc_open_past_24mths: double, avg_cur_bal: string, bc_open_to_buy: double, bc_util: string, chargeoff_within_12_mths: double, delinq_amnt: double, mo_sin_old_il_acct: double, mo_sin_old_rev_tl_op: double, mo_sin_rcnt_rev_tl_op: double, mo_sin_rcnt_tl: double, mort_acc: double, mths_since_recent_bc: double, mths_since_recent_bc_dlq: double, mths_since_recent_inq: double, mths_since_recent_revol_delinq: double, num_accts_ever_120_pd: double, num_actv_bc_tl: double, num_actv_rev_tl: double, num_bc_sats: double, num_bc_tl: double, num_il_tl: double, num_op_rev_tl: double, num_rev_accts: double, num_rev_tl_bal_gt_0: double, num_sats: double, num_tl_120dpd_2m: double, num_tl_30dpd: double, num_tl_90g_dpd_24m: double, num_tl_op_past_12m: double, pct_tl_nvr_dlq: double, percent_bc_gt_75: double, pub_rec_bankruptcies: double, tax_liens: double, tot_hi_cred_lim: double, total_bal_ex_mort: double, total_bc_limit: double, total_il_high_credit_limit: double, revol_bal_joint: double, sec_app_fico_range_low: double, sec_app_fico_range_high: double, sec_app_earliest_cr_line: string, sec_app_inq_last_6mths: double, sec_app_mort_acc: double, sec_app_open_acc: double, sec_app_revol_util: double, sec_app_open_act_il: double, sec_app_num_rev_accts: double, sec_app_chargeoff_within_12_mths: double, sec_app_collections_12_mths_ex_med: double, sec_app_mths_since_last_major_derog: double, hardship_flag: string, hardship_type: string, hardship_reason: string, hardship_status: string, deferral_term: string, hardship_amount: string, hardship_start_date: string, hardship_end_date: string, payment_plan_start_date: string, hardship_length: string, hardship_dpd: string, hardship_loan_status: string, orig_projected_additional_accrued_interest: string, hardship_payoff_balance_amount: string, hardship_last_payment_amount: string, disbursement_method: string, debt_settlement_flag: string, debt_settlement_flag_date: string, settlement_status: string, settlement_date: string, settlement_amount: string, settlement_percentage: string, settlement_term: string]"
            ]
          },
          "metadata": {},
          "execution_count": 4
        }
      ]
    },
    {
      "cell_type": "code",
      "source": [
        "data.printSchema()"
      ],
      "metadata": {
        "colab": {
          "base_uri": "https://localhost:8080/"
        },
        "id": "YIgo3wuywNay",
        "outputId": "b551c583-0d98-40dc-e88e-ee447fb93256"
      },
      "execution_count": null,
      "outputs": [
        {
          "output_type": "stream",
          "name": "stdout",
          "text": [
            "root\n",
            " |-- id: string (nullable = true)\n",
            " |-- member_id: string (nullable = true)\n",
            " |-- loan_amnt: double (nullable = true)\n",
            " |-- funded_amnt: double (nullable = true)\n",
            " |-- funded_amnt_inv: double (nullable = true)\n",
            " |-- term: string (nullable = true)\n",
            " |-- int_rate: double (nullable = true)\n",
            " |-- installment: double (nullable = true)\n",
            " |-- grade: string (nullable = true)\n",
            " |-- sub_grade: string (nullable = true)\n",
            " |-- emp_title: string (nullable = true)\n",
            " |-- emp_length: string (nullable = true)\n",
            " |-- home_ownership: string (nullable = true)\n",
            " |-- annual_inc: string (nullable = true)\n",
            " |-- verification_status: string (nullable = true)\n",
            " |-- issue_d: string (nullable = true)\n",
            " |-- loan_status: string (nullable = true)\n",
            " |-- pymnt_plan: string (nullable = true)\n",
            " |-- url: string (nullable = true)\n",
            " |-- desc: string (nullable = true)\n",
            " |-- purpose: string (nullable = true)\n",
            " |-- title: string (nullable = true)\n",
            " |-- zip_code: string (nullable = true)\n",
            " |-- addr_state: string (nullable = true)\n",
            " |-- dti: string (nullable = true)\n",
            " |-- delinq_2yrs: string (nullable = true)\n",
            " |-- earliest_cr_line: string (nullable = true)\n",
            " |-- fico_range_low: string (nullable = true)\n",
            " |-- fico_range_high: string (nullable = true)\n",
            " |-- inq_last_6mths: string (nullable = true)\n",
            " |-- mths_since_last_delinq: string (nullable = true)\n",
            " |-- mths_since_last_record: string (nullable = true)\n",
            " |-- open_acc: string (nullable = true)\n",
            " |-- pub_rec: string (nullable = true)\n",
            " |-- revol_bal: string (nullable = true)\n",
            " |-- revol_util: string (nullable = true)\n",
            " |-- total_acc: string (nullable = true)\n",
            " |-- initial_list_status: string (nullable = true)\n",
            " |-- out_prncp: string (nullable = true)\n",
            " |-- out_prncp_inv: string (nullable = true)\n",
            " |-- total_pymnt: string (nullable = true)\n",
            " |-- total_pymnt_inv: string (nullable = true)\n",
            " |-- total_rec_prncp: string (nullable = true)\n",
            " |-- total_rec_int: string (nullable = true)\n",
            " |-- total_rec_late_fee: string (nullable = true)\n",
            " |-- recoveries: string (nullable = true)\n",
            " |-- collection_recovery_fee: string (nullable = true)\n",
            " |-- last_pymnt_d: string (nullable = true)\n",
            " |-- last_pymnt_amnt: string (nullable = true)\n",
            " |-- next_pymnt_d: string (nullable = true)\n",
            " |-- last_credit_pull_d: string (nullable = true)\n",
            " |-- last_fico_range_high: string (nullable = true)\n",
            " |-- last_fico_range_low: string (nullable = true)\n",
            " |-- collections_12_mths_ex_med: string (nullable = true)\n",
            " |-- mths_since_last_major_derog: string (nullable = true)\n",
            " |-- policy_code: string (nullable = true)\n",
            " |-- application_type: string (nullable = true)\n",
            " |-- annual_inc_joint: string (nullable = true)\n",
            " |-- dti_joint: string (nullable = true)\n",
            " |-- verification_status_joint: string (nullable = true)\n",
            " |-- acc_now_delinq: string (nullable = true)\n",
            " |-- tot_coll_amt: string (nullable = true)\n",
            " |-- tot_cur_bal: string (nullable = true)\n",
            " |-- open_acc_6m: string (nullable = true)\n",
            " |-- open_act_il: string (nullable = true)\n",
            " |-- open_il_12m: string (nullable = true)\n",
            " |-- open_il_24m: string (nullable = true)\n",
            " |-- mths_since_rcnt_il: string (nullable = true)\n",
            " |-- total_bal_il: string (nullable = true)\n",
            " |-- il_util: string (nullable = true)\n",
            " |-- open_rv_12m: string (nullable = true)\n",
            " |-- open_rv_24m: string (nullable = true)\n",
            " |-- max_bal_bc: string (nullable = true)\n",
            " |-- all_util: string (nullable = true)\n",
            " |-- total_rev_hi_lim: string (nullable = true)\n",
            " |-- inq_fi: string (nullable = true)\n",
            " |-- total_cu_tl: string (nullable = true)\n",
            " |-- inq_last_12m: double (nullable = true)\n",
            " |-- acc_open_past_24mths: double (nullable = true)\n",
            " |-- avg_cur_bal: string (nullable = true)\n",
            " |-- bc_open_to_buy: double (nullable = true)\n",
            " |-- bc_util: string (nullable = true)\n",
            " |-- chargeoff_within_12_mths: double (nullable = true)\n",
            " |-- delinq_amnt: double (nullable = true)\n",
            " |-- mo_sin_old_il_acct: double (nullable = true)\n",
            " |-- mo_sin_old_rev_tl_op: double (nullable = true)\n",
            " |-- mo_sin_rcnt_rev_tl_op: double (nullable = true)\n",
            " |-- mo_sin_rcnt_tl: double (nullable = true)\n",
            " |-- mort_acc: double (nullable = true)\n",
            " |-- mths_since_recent_bc: double (nullable = true)\n",
            " |-- mths_since_recent_bc_dlq: double (nullable = true)\n",
            " |-- mths_since_recent_inq: double (nullable = true)\n",
            " |-- mths_since_recent_revol_delinq: double (nullable = true)\n",
            " |-- num_accts_ever_120_pd: double (nullable = true)\n",
            " |-- num_actv_bc_tl: double (nullable = true)\n",
            " |-- num_actv_rev_tl: double (nullable = true)\n",
            " |-- num_bc_sats: double (nullable = true)\n",
            " |-- num_bc_tl: double (nullable = true)\n",
            " |-- num_il_tl: double (nullable = true)\n",
            " |-- num_op_rev_tl: double (nullable = true)\n",
            " |-- num_rev_accts: double (nullable = true)\n",
            " |-- num_rev_tl_bal_gt_0: double (nullable = true)\n",
            " |-- num_sats: double (nullable = true)\n",
            " |-- num_tl_120dpd_2m: double (nullable = true)\n",
            " |-- num_tl_30dpd: double (nullable = true)\n",
            " |-- num_tl_90g_dpd_24m: double (nullable = true)\n",
            " |-- num_tl_op_past_12m: double (nullable = true)\n",
            " |-- pct_tl_nvr_dlq: double (nullable = true)\n",
            " |-- percent_bc_gt_75: double (nullable = true)\n",
            " |-- pub_rec_bankruptcies: double (nullable = true)\n",
            " |-- tax_liens: double (nullable = true)\n",
            " |-- tot_hi_cred_lim: double (nullable = true)\n",
            " |-- total_bal_ex_mort: double (nullable = true)\n",
            " |-- total_bc_limit: double (nullable = true)\n",
            " |-- total_il_high_credit_limit: double (nullable = true)\n",
            " |-- revol_bal_joint: double (nullable = true)\n",
            " |-- sec_app_fico_range_low: double (nullable = true)\n",
            " |-- sec_app_fico_range_high: double (nullable = true)\n",
            " |-- sec_app_earliest_cr_line: string (nullable = true)\n",
            " |-- sec_app_inq_last_6mths: double (nullable = true)\n",
            " |-- sec_app_mort_acc: double (nullable = true)\n",
            " |-- sec_app_open_acc: double (nullable = true)\n",
            " |-- sec_app_revol_util: double (nullable = true)\n",
            " |-- sec_app_open_act_il: double (nullable = true)\n",
            " |-- sec_app_num_rev_accts: double (nullable = true)\n",
            " |-- sec_app_chargeoff_within_12_mths: double (nullable = true)\n",
            " |-- sec_app_collections_12_mths_ex_med: double (nullable = true)\n",
            " |-- sec_app_mths_since_last_major_derog: double (nullable = true)\n",
            " |-- hardship_flag: string (nullable = true)\n",
            " |-- hardship_type: string (nullable = true)\n",
            " |-- hardship_reason: string (nullable = true)\n",
            " |-- hardship_status: string (nullable = true)\n",
            " |-- deferral_term: string (nullable = true)\n",
            " |-- hardship_amount: string (nullable = true)\n",
            " |-- hardship_start_date: string (nullable = true)\n",
            " |-- hardship_end_date: string (nullable = true)\n",
            " |-- payment_plan_start_date: string (nullable = true)\n",
            " |-- hardship_length: string (nullable = true)\n",
            " |-- hardship_dpd: string (nullable = true)\n",
            " |-- hardship_loan_status: string (nullable = true)\n",
            " |-- orig_projected_additional_accrued_interest: string (nullable = true)\n",
            " |-- hardship_payoff_balance_amount: string (nullable = true)\n",
            " |-- hardship_last_payment_amount: string (nullable = true)\n",
            " |-- disbursement_method: string (nullable = true)\n",
            " |-- debt_settlement_flag: string (nullable = true)\n",
            " |-- debt_settlement_flag_date: string (nullable = true)\n",
            " |-- settlement_status: string (nullable = true)\n",
            " |-- settlement_date: string (nullable = true)\n",
            " |-- settlement_amount: string (nullable = true)\n",
            " |-- settlement_percentage: string (nullable = true)\n",
            " |-- settlement_term: string (nullable = true)\n",
            "\n"
          ]
        }
      ]
    },
    {
      "cell_type": "code",
      "source": [
        "selected_features = ['addr_state', 'annual_inc', 'earliest_cr_line', 'emp_length', 'emp_title', 'fico_range_high', 'fico_range_low', 'grade', 'home_ownership', 'application_type',\n",
        "                    'initial_list_status', 'int_rate', 'loan_amnt', 'num_actv_bc_tl', 'loan_status', 'mort_acc', 'tot_cur_bal', 'open_acc', 'pub_rec', 'pub_rec_bankruptcies',\n",
        "                    'purpose', 'revol_bal', 'revol_util', 'sub_grade', 'term', 'title', 'total_acc', 'verification_status']"
      ],
      "metadata": {
        "id": "XQNSu4uNg6MA"
      },
      "execution_count": null,
      "outputs": []
    },
    {
      "cell_type": "code",
      "source": [
        "df = data.select(selected_features)"
      ],
      "metadata": {
        "id": "p0JLXRnkiY02"
      },
      "execution_count": null,
      "outputs": []
    },
    {
      "cell_type": "code",
      "source": [
        "df.show()"
      ],
      "metadata": {
        "colab": {
          "base_uri": "https://localhost:8080/"
        },
        "id": "pRWtyZ1sia_k",
        "outputId": "da1fb01b-cab7-4151-aef0-078f8d10fa83"
      },
      "execution_count": null,
      "outputs": [
        {
          "output_type": "stream",
          "name": "stdout",
          "text": [
            "+----------+----------+----------------+----------+--------------------+---------------+--------------+-----+--------------+----------------+-------------------+--------+---------+--------------+-----------+--------+-----------+--------+-------+--------------------+------------------+---------+----------+---------+----------+--------------------+---------+-------------------+\n",
            "|addr_state|annual_inc|earliest_cr_line|emp_length|           emp_title|fico_range_high|fico_range_low|grade|home_ownership|application_type|initial_list_status|int_rate|loan_amnt|num_actv_bc_tl|loan_status|mort_acc|tot_cur_bal|open_acc|pub_rec|pub_rec_bankruptcies|           purpose|revol_bal|revol_util|sub_grade|      term|               title|total_acc|verification_status|\n",
            "+----------+----------+----------------+----------+--------------------+---------------+--------------+-----+--------------+----------------+-------------------+--------+---------+--------------+-----------+--------+-----------+--------+-------+--------------------+------------------+---------+----------+---------+----------+--------------------+---------+-------------------+\n",
            "|        PA|   55000.0|        Aug-2003| 10+ years|             leadman|          679.0|         675.0|    C|      MORTGAGE|      Individual|                  w|   13.99|   3600.0|           2.0| Fully Paid|     1.0|   144904.0|     7.0|    0.0|                 0.0|debt_consolidation|   2765.0|      29.7|       C4| 36 months|  Debt consolidation|     13.0|       Not Verified|\n",
            "|        SD|   65000.0|        Dec-1999| 10+ years|            Engineer|          719.0|         715.0|    C|      MORTGAGE|      Individual|                  w|   11.99|  24700.0|           5.0| Fully Paid|     4.0|   204396.0|    22.0|    0.0|                 0.0|    small_business|  21470.0|      19.2|       C1| 36 months|            Business|     38.0|       Not Verified|\n",
            "|        IL|   63000.0|        Aug-2000| 10+ years|        truck driver|          699.0|         695.0|    B|      MORTGAGE|       Joint App|                  w|   10.78|  20000.0|           2.0| Fully Paid|     5.0|   189699.0|     6.0|    0.0|                 0.0|  home_improvement|   7869.0|      56.2|       B4| 60 months|                NULL|     18.0|       Not Verified|\n",
            "|        NJ|  110000.0|        Sep-2008| 10+ years|Information Syste...|          789.0|         785.0|    C|      MORTGAGE|      Individual|                  w|   14.85|  35000.0|           4.0|    Current|     1.0|   301500.0|    13.0|    0.0|                 0.0|debt_consolidation|   7802.0|      11.6|       C5| 60 months|  Debt consolidation|     17.0|    Source Verified|\n",
            "|        PA|  104433.0|        Jun-1998|   3 years| Contract Specialist|          699.0|         695.0|    F|      MORTGAGE|      Individual|                  w|   22.45|  10400.0|           4.0| Fully Paid|     6.0|   331730.0|    12.0|    0.0|                 0.0|    major_purchase|  21929.0|      64.5|       F1| 60 months|      Major purchase|     35.0|    Source Verified|\n",
            "|        GA|   34000.0|        Oct-1987|   4 years|Veterinary Tecnician|          694.0|         690.0|    C|          RENT|      Individual|                  w|   13.44|  11950.0|           2.0| Fully Paid|     0.0|    12798.0|     5.0|    0.0|                 0.0|debt_consolidation|   8822.0|      68.4|       C3| 36 months|  Debt consolidation|      6.0|    Source Verified|\n",
            "|        MN|  180000.0|        Jun-1990| 10+ years|Vice President of...|          684.0|         680.0|    B|      MORTGAGE|      Individual|                  f|    9.17|  20000.0|           4.0| Fully Paid|     4.0|   360358.0|    12.0|    0.0|                 0.0|debt_consolidation|  87329.0|      84.5|       B2| 36 months|  Debt consolidation|     27.0|       Not Verified|\n",
            "|        SC|   85000.0|        Feb-1999| 10+ years|         road driver|          709.0|         705.0|    B|      MORTGAGE|      Individual|                  w|    8.49|  20000.0|           2.0| Fully Paid|     3.0|   141601.0|     8.0|    0.0|                 0.0|    major_purchase|    826.0|       5.7|       B1| 36 months|      Major purchase|     15.0|       Not Verified|\n",
            "|        PA|   85000.0|        Apr-2002|   6 years|     SERVICE MANAGER|          689.0|         685.0|    A|          RENT|      Individual|                  w|    6.49|  10000.0|           6.0| Fully Paid|     1.0|    27957.0|    14.0|    1.0|                 1.0|       credit_card|  10464.0|      34.5|       A2| 36 months|Credit card refin...|     23.0|       Not Verified|\n",
            "|        RI|   42000.0|        Nov-1994| 10+ years|      Vendor liaison|          704.0|         700.0|    B|      MORTGAGE|      Individual|                  w|   11.48|   8000.0|           3.0| Fully Paid|     1.0|   199696.0|     8.0|    0.0|                 0.0|       credit_card|   7034.0|      39.1|       B5| 36 months|Credit card refin...|     18.0|       Not Verified|\n",
            "|        SC|   95000.0|        Apr-1995|   6 years|  Executive Director|          714.0|         710.0|    C|      MORTGAGE|      Individual|                  w|   12.88|  22400.0|           3.0|    Current|     5.0|   376218.0|    16.0|    0.0|                 0.0|debt_consolidation|  13028.0|      32.7|       C2| 60 months|  Debt consolidation|     35.0|       Not Verified|\n",
            "|        TX|   70000.0|        Feb-1988|    1 year|Senior Structural...|          724.0|         720.0|    C|      MORTGAGE|      Individual|                  w|   12.88|  16000.0|           4.0|    Current|     2.0|   265836.0|    13.0|    0.0|                 0.0|debt_consolidation|  28705.0|      56.3|       C2| 60 months|  Debt consolidation|     29.0|       Not Verified|\n",
            "|        NC|   64000.0|        Jun-1996|   3 years|   Logistics Manager|          704.0|         700.0|    C|      MORTGAGE|      Individual|                  w|   12.88|   1400.0|           7.0| Fully Paid|     4.0|   325695.0|    17.0|    0.0|                 0.0|             other|  37828.0|      67.2|       C2| 36 months|                NULL|     24.0|       Not Verified|\n",
            "|        CA|  150000.0|        Jun-2005|   7 years|    Software Manager|          669.0|         665.0|    E|          RENT|      Individual|                  w|   19.48|  18000.0|           6.0|Charged Off|     2.0|    36247.0|    18.0|    1.0|                 1.0|debt_consolidation|  14052.0|      40.7|       E2| 60 months|  Debt consolidation|     27.0|       Not Verified|\n",
            "|        NC|   92000.0|        May-1984| 10+ years|      Senior Manager|          724.0|         720.0|    A|      MORTGAGE|      Individual|                  w|    6.49|  28000.0|           7.0| Fully Paid|     2.0|   221110.0|    16.0|    0.0|                 0.0|debt_consolidation|  51507.0|      64.5|       A2| 36 months|  Debt consolidation|     24.0|       Not Verified|\n",
            "|        SC|   60000.0|        Jun-1996|   8 years|                tech|          699.0|         695.0|    A|      MORTGAGE|      Individual|                  w|    7.49|   9600.0|           3.0| Fully Paid|     0.0|    55387.0|     7.0|    0.0|                 0.0|       credit_card|   7722.0|      59.4|       A4| 36 months|Credit card refin...|      9.0|       Not Verified|\n",
            "|        VA|  109000.0|        Dec-2001| 10+ years|       Sales Manager|          749.0|         745.0|    A|      MORTGAGE|      Individual|                  w|    7.49|  25000.0|           3.0| Fully Paid|     3.0|   305781.0|     9.0|    0.0|                 0.0|debt_consolidation|  20862.0|      54.3|       A4| 36 months|  Debt consolidation|     19.0|       Not Verified|\n",
            "|        AZ|  112000.0|        Nov-1993| 10+ years|               GS-11|          804.0|         800.0|    C|      MORTGAGE|      Individual|                  w|   11.99|  18000.0|           5.0| Fully Paid|     4.0|   205067.0|    17.0|    0.0|                 0.0|debt_consolidation|  10711.0|      15.5|       C1| 60 months|  Debt consolidation|     27.0|       Not Verified|\n",
            "|        NY|   64000.0|        Sep-2001|   5 years|             Teacher|          704.0|         700.0|    B|          RENT|      Individual|                  w|    8.49|  23000.0|           6.0|    Current|     0.0|    63886.0|    21.0|    0.0|                 0.0|       credit_card|  24940.0|      52.7|       B1| 60 months|Credit card refin...|     33.0|       Not Verified|\n",
            "|        IN|   55000.0|        Mar-2005|   8 years|Program Coordinator |          679.0|         675.0|    E|          RENT|      Individual|                  w|   19.89|   8650.0|           2.0| Fully Paid|     0.0|    18926.0|    18.0|    1.0|                 1.0|debt_consolidation|   9568.0|      46.0|       E3| 36 months|  Debt consolidation|     19.0|           Verified|\n",
            "+----------+----------+----------------+----------+--------------------+---------------+--------------+-----+--------------+----------------+-------------------+--------+---------+--------------+-----------+--------+-----------+--------+-------+--------------------+------------------+---------+----------+---------+----------+--------------------+---------+-------------------+\n",
            "only showing top 20 rows\n",
            "\n"
          ]
        }
      ]
    },
    {
      "cell_type": "code",
      "source": [
        "df.groupBy(\"loan_status\").count().show()"
      ],
      "metadata": {
        "colab": {
          "base_uri": "https://localhost:8080/"
        },
        "id": "7OwiSJ_5iehw",
        "outputId": "3be63983-ae8f-49bc-daad-d550aa85b536"
      },
      "execution_count": null,
      "outputs": [
        {
          "output_type": "stream",
          "name": "stdout",
          "text": [
            "+--------------------+-------+\n",
            "|         loan_status|  count|\n",
            "+--------------------+-------+\n",
            "|          Fully Paid|1076751|\n",
            "|             Default|     40|\n",
            "|     In Grace Period|   8436|\n",
            "|         Charged Off| 268558|\n",
            "|            Oct-2015|      1|\n",
            "|  Late (31-120 days)|  21467|\n",
            "|             Current| 878317|\n",
            "|   Late (16-30 days)|   4349|\n",
            "|                NULL|     33|\n",
            "|Does not meet the...|   1988|\n",
            "|Does not meet the...|    761|\n",
            "+--------------------+-------+\n",
            "\n"
          ]
        }
      ]
    },
    {
      "cell_type": "markdown",
      "source": [
        "Keeping only \"Fully Paid\" and \"Charged Off\" values in the loan_status column"
      ],
      "metadata": {
        "id": "lbXlTgBaGTZF"
      }
    },
    {
      "cell_type": "code",
      "source": [
        "df = df.filter((col('loan_status')==\"Fully Paid\") | (col('loan_status')== 'Charged Off'))"
      ],
      "metadata": {
        "id": "ltSLIc_Ei71k"
      },
      "execution_count": null,
      "outputs": []
    },
    {
      "cell_type": "code",
      "source": [
        "df.count()"
      ],
      "metadata": {
        "colab": {
          "base_uri": "https://localhost:8080/"
        },
        "id": "Yv44fuQAjbLi",
        "outputId": "20999305-8b29-4913-87b8-1f5f2e1281ed"
      },
      "execution_count": null,
      "outputs": [
        {
          "output_type": "execute_result",
          "data": {
            "text/plain": [
              "1345309"
            ]
          },
          "metadata": {},
          "execution_count": 16
        }
      ]
    },
    {
      "cell_type": "code",
      "source": [
        "df_len = 1345309"
      ],
      "metadata": {
        "id": "l2puWZ76nBwb"
      },
      "execution_count": null,
      "outputs": []
    },
    {
      "cell_type": "code",
      "source": [
        "df.groupBy(\"loan_status\").count().show()"
      ],
      "metadata": {
        "colab": {
          "base_uri": "https://localhost:8080/"
        },
        "id": "Oz5_n8pKkZf3",
        "outputId": "4dac9065-f643-46ad-e60a-2da25c6156da"
      },
      "execution_count": null,
      "outputs": [
        {
          "output_type": "stream",
          "name": "stdout",
          "text": [
            "+-----------+-------+\n",
            "|loan_status|  count|\n",
            "+-----------+-------+\n",
            "| Fully Paid|1076751|\n",
            "|Charged Off| 268558|\n",
            "+-----------+-------+\n",
            "\n"
          ]
        }
      ]
    },
    {
      "cell_type": "code",
      "source": [
        "from pyspark.sql.functions import isnull\n",
        "for i in selected_features:\n",
        "  # print(\"COLUMN : \",i)\n",
        "  # print(\"Percentage of Null values : \",end = \" \")\n",
        "  no_nulls = df.filter(isnull(df[i])).count()\n",
        "  if no_nulls:\n",
        "    print(\"COLUMN : \",i)\n",
        "    print(\"Count of Null values : \",end = \" \")\n",
        "    print(f\"{no_nulls:.2f}\")\n",
        "    print(\"Percentage of Null values : \",end = \" \")\n",
        "    print(f\"{no_nulls/df_len*100:.2f}\" + \"%\")\n",
        "    print(\"================================================================================\")\n",
        "  #   pass\n",
        "  # else:\n",
        "  #   no_nulls = 0\n",
        "  # print(no_nulls/df_len*100)\n",
        "  # print(\"================================================================================\")"
      ],
      "metadata": {
        "colab": {
          "base_uri": "https://localhost:8080/"
        },
        "id": "qwrjWai1lQd8",
        "outputId": "d00cad23-7c80-423b-8187-9ee30bf2ac02"
      },
      "execution_count": null,
      "outputs": [
        {
          "output_type": "stream",
          "name": "stdout",
          "text": [
            "COLUMN :  addr_state\n",
            "Count of Null values :  1.00\n",
            "Percentage of Null values :  0.00%\n",
            "================================================================================\n",
            "COLUMN :  earliest_cr_line\n",
            "Count of Null values :  1.00\n",
            "Percentage of Null values :  0.00%\n",
            "================================================================================\n",
            "COLUMN :  emp_length\n",
            "Count of Null values :  78511.00\n",
            "Percentage of Null values :  5.84%\n",
            "================================================================================\n",
            "COLUMN :  emp_title\n",
            "Count of Null values :  85785.00\n",
            "Percentage of Null values :  6.38%\n",
            "================================================================================\n",
            "COLUMN :  fico_range_high\n",
            "Count of Null values :  1.00\n",
            "Percentage of Null values :  0.00%\n",
            "================================================================================\n",
            "COLUMN :  fico_range_low\n",
            "Count of Null values :  1.00\n",
            "Percentage of Null values :  0.00%\n",
            "================================================================================\n",
            "COLUMN :  application_type\n",
            "Count of Null values :  51.00\n",
            "Percentage of Null values :  0.00%\n",
            "================================================================================\n",
            "COLUMN :  initial_list_status\n",
            "Count of Null values :  14.00\n",
            "Percentage of Null values :  0.00%\n",
            "================================================================================\n",
            "COLUMN :  num_actv_bc_tl\n",
            "Count of Null values :  67518.00\n",
            "Percentage of Null values :  5.02%\n",
            "================================================================================\n",
            "COLUMN :  mort_acc\n",
            "Count of Null values :  47260.00\n",
            "Percentage of Null values :  3.51%\n",
            "================================================================================\n",
            "COLUMN :  tot_cur_bal\n",
            "Count of Null values :  67433.00\n",
            "Percentage of Null values :  5.01%\n",
            "================================================================================\n",
            "COLUMN :  open_acc\n",
            "Count of Null values :  72.00\n",
            "Percentage of Null values :  0.01%\n",
            "================================================================================\n",
            "COLUMN :  pub_rec\n",
            "Count of Null values :  58.00\n",
            "Percentage of Null values :  0.00%\n",
            "================================================================================\n",
            "COLUMN :  pub_rec_bankruptcies\n",
            "Count of Null values :  911.00\n",
            "Percentage of Null values :  0.07%\n",
            "================================================================================\n",
            "COLUMN :  revol_bal\n",
            "Count of Null values :  48.00\n",
            "Percentage of Null values :  0.00%\n",
            "================================================================================\n",
            "COLUMN :  revol_util\n",
            "Count of Null values :  886.00\n",
            "Percentage of Null values :  0.07%\n",
            "================================================================================\n",
            "COLUMN :  title\n",
            "Count of Null values :  16660.00\n",
            "Percentage of Null values :  1.24%\n",
            "================================================================================\n",
            "COLUMN :  total_acc\n",
            "Count of Null values :  17.00\n",
            "Percentage of Null values :  0.00%\n",
            "================================================================================\n"
          ]
        }
      ]
    },
    {
      "cell_type": "code",
      "source": [
        "df = df.na.drop()"
      ],
      "metadata": {
        "id": "y8rakyrOh0xW"
      },
      "execution_count": null,
      "outputs": []
    },
    {
      "cell_type": "code",
      "source": [
        "df.count()"
      ],
      "metadata": {
        "colab": {
          "base_uri": "https://localhost:8080/"
        },
        "id": "LgisuOqmKQEa",
        "outputId": "178b52b0-3acf-4267-f2d6-d648ebdb2a45"
      },
      "execution_count": null,
      "outputs": [
        {
          "output_type": "execute_result",
          "data": {
            "text/plain": [
              "1180534"
            ]
          },
          "metadata": {},
          "execution_count": 21
        }
      ]
    },
    {
      "cell_type": "code",
      "source": [
        "df_len = 1180534"
      ],
      "metadata": {
        "id": "udAwWLGXKR2x"
      },
      "execution_count": null,
      "outputs": []
    },
    {
      "cell_type": "code",
      "source": [
        "from pyspark.ml.feature import StringIndexer,OneHotEncoder\n",
        "def one_hot_encode(df,col_name):\n",
        "  indexer = StringIndexer(inputCol=col_name, outputCol=col_name+\"_Indexed\")\n",
        "  indexerModel = indexer.fit(df)\n",
        "  indexed_df = indexerModel.transform(df)\n",
        "  # indexed_df.show()\n",
        "  encoder = OneHotEncoder(inputCol=col_name+\"_Indexed\", outputCol=col_name+\"_onehot\")\n",
        "  encoded_df = encoder.fit(indexed_df).transform(indexed_df)\n",
        "  # encoded_df.show(truncate=False)\n",
        "  encoded_df = encoded_df.drop(col_name+\"_Indexed\")\n",
        "  encoded_df = encoded_df.drop(col_name)\n",
        "  df = encoded_df\n",
        "  df.show()\n",
        "  return df"
      ],
      "metadata": {
        "id": "167BeLxiWit7"
      },
      "execution_count": null,
      "outputs": []
    },
    {
      "cell_type": "code",
      "source": [
        "def cat_var_analysis(df,column_name):\n",
        "  df.groupBy(column_name,\"loan_status\").count().orderBy([column_name,\"loan_status\"]).show()\n"
      ],
      "metadata": {
        "id": "wnEbWnteHrFJ"
      },
      "execution_count": null,
      "outputs": []
    },
    {
      "cell_type": "code",
      "source": [
        "def num_var_analysis(df,column_name):\n",
        "  df.select(column_name).summary( \"25%\", \"75%\").show()\n",
        "  df.select(\"loan_status\",column_name).groupBy(\"loan_status\").agg({column_name:\"mean\"}).show()\n",
        "  df.select(\"loan_status\",column_name).groupBy(\"loan_status\").agg({column_name:\"count\"}).show()"
      ],
      "metadata": {
        "id": "eLiLtQ48IFbs"
      },
      "execution_count": null,
      "outputs": []
    },
    {
      "cell_type": "markdown",
      "source": [
        "# Data Cleaning and Preprocessing"
      ],
      "metadata": {
        "id": "1qdXyt5iHAtJ"
      }
    },
    {
      "cell_type": "markdown",
      "source": [
        "addr_state\n"
      ],
      "metadata": {
        "id": "p_sA926QtaKo"
      }
    },
    {
      "cell_type": "code",
      "source": [
        "df = one_hot_encode(df,\"addr_state\")"
      ],
      "metadata": {
        "colab": {
          "base_uri": "https://localhost:8080/"
        },
        "id": "jJPiP7nLtv-Z",
        "outputId": "7b5c3c96-92b1-415f-8b0f-6f9541163398"
      },
      "execution_count": null,
      "outputs": [
        {
          "output_type": "stream",
          "name": "stdout",
          "text": [
            "+----------+----------------+----------+--------------------+---------------+--------------+-----+--------------+----------------+-------------------+--------+---------+--------------+-----------+--------+-----------+--------+-------+--------------------+------------------+---------+----------+---------+----------+--------------------+---------+-------------------+-----------------+\n",
            "|annual_inc|earliest_cr_line|emp_length|           emp_title|fico_range_high|fico_range_low|grade|home_ownership|application_type|initial_list_status|int_rate|loan_amnt|num_actv_bc_tl|loan_status|mort_acc|tot_cur_bal|open_acc|pub_rec|pub_rec_bankruptcies|           purpose|revol_bal|revol_util|sub_grade|      term|               title|total_acc|verification_status|addr_state_onehot|\n",
            "+----------+----------------+----------+--------------------+---------------+--------------+-----+--------------+----------------+-------------------+--------+---------+--------------+-----------+--------+-----------+--------+-------+--------------------+------------------+---------+----------+---------+----------+--------------------+---------+-------------------+-----------------+\n",
            "|   55000.0|        Aug-2003| 10+ years|             leadman|          679.0|         675.0|    C|      MORTGAGE|      Individual|                  w|   13.99|   3600.0|           2.0| Fully Paid|     1.0|   144904.0|     7.0|    0.0|                 0.0|debt_consolidation|   2765.0|      29.7|       C4| 36 months|  Debt consolidation|     13.0|       Not Verified|   (50,[6],[1.0])|\n",
            "|   65000.0|        Dec-1999| 10+ years|            Engineer|          719.0|         715.0|    C|      MORTGAGE|      Individual|                  w|   11.99|  24700.0|           5.0| Fully Paid|     4.0|   204396.0|    22.0|    0.0|                 0.0|    small_business|  21470.0|      19.2|       C1| 36 months|            Business|     38.0|       Not Verified|  (50,[45],[1.0])|\n",
            "|  104433.0|        Jun-1998|   3 years| Contract Specialist|          699.0|         695.0|    F|      MORTGAGE|      Individual|                  w|   22.45|  10400.0|           4.0| Fully Paid|     6.0|   331730.0|    12.0|    0.0|                 0.0|    major_purchase|  21929.0|      64.5|       F1| 60 months|      Major purchase|     35.0|    Source Verified|   (50,[6],[1.0])|\n",
            "|   34000.0|        Oct-1987|   4 years|Veterinary Tecnician|          694.0|         690.0|    C|          RENT|      Individual|                  w|   13.44|  11950.0|           2.0| Fully Paid|     0.0|    12798.0|     5.0|    0.0|                 0.0|debt_consolidation|   8822.0|      68.4|       C3| 36 months|  Debt consolidation|      6.0|    Source Verified|   (50,[8],[1.0])|\n",
            "|  180000.0|        Jun-1990| 10+ years|Vice President of...|          684.0|         680.0|    B|      MORTGAGE|      Individual|                  f|    9.17|  20000.0|           4.0| Fully Paid|     4.0|   360358.0|    12.0|    0.0|                 0.0|debt_consolidation|  87329.0|      84.5|       B2| 36 months|  Debt consolidation|     27.0|       Not Verified|  (50,[17],[1.0])|\n",
            "|   85000.0|        Feb-1999| 10+ years|         road driver|          709.0|         705.0|    B|      MORTGAGE|      Individual|                  w|    8.49|  20000.0|           2.0| Fully Paid|     3.0|   141601.0|     8.0|    0.0|                 0.0|    major_purchase|    826.0|       5.7|       B1| 36 months|      Major purchase|     15.0|       Not Verified|  (50,[26],[1.0])|\n",
            "|   85000.0|        Apr-2002|   6 years|     SERVICE MANAGER|          689.0|         685.0|    A|          RENT|      Individual|                  w|    6.49|  10000.0|           6.0| Fully Paid|     1.0|    27957.0|    14.0|    1.0|                 1.0|       credit_card|  10464.0|      34.5|       A2| 36 months|Credit card refin...|     23.0|       Not Verified|   (50,[6],[1.0])|\n",
            "|   42000.0|        Nov-1994| 10+ years|      Vendor liaison|          704.0|         700.0|    B|      MORTGAGE|      Individual|                  w|   11.48|   8000.0|           3.0| Fully Paid|     1.0|   199696.0|     8.0|    0.0|                 0.0|       credit_card|   7034.0|      39.1|       B5| 36 months|Credit card refin...|     18.0|       Not Verified|  (50,[37],[1.0])|\n",
            "|  150000.0|        Jun-2005|   7 years|    Software Manager|          669.0|         665.0|    E|          RENT|      Individual|                  w|   19.48|  18000.0|           6.0|Charged Off|     2.0|    36247.0|    18.0|    1.0|                 1.0|debt_consolidation|  14052.0|      40.7|       E2| 60 months|  Debt consolidation|     27.0|       Not Verified|   (50,[0],[1.0])|\n",
            "|   92000.0|        May-1984| 10+ years|      Senior Manager|          724.0|         720.0|    A|      MORTGAGE|      Individual|                  w|    6.49|  28000.0|           7.0| Fully Paid|     2.0|   221110.0|    16.0|    0.0|                 0.0|debt_consolidation|  51507.0|      64.5|       A2| 36 months|  Debt consolidation|     24.0|       Not Verified|  (50,[10],[1.0])|\n",
            "|   60000.0|        Jun-1996|   8 years|                tech|          699.0|         695.0|    A|      MORTGAGE|      Individual|                  w|    7.49|   9600.0|           3.0| Fully Paid|     0.0|    55387.0|     7.0|    0.0|                 0.0|       credit_card|   7722.0|      59.4|       A4| 36 months|Credit card refin...|      9.0|       Not Verified|  (50,[26],[1.0])|\n",
            "|  109000.0|        Dec-2001| 10+ years|       Sales Manager|          749.0|         745.0|    A|      MORTGAGE|      Individual|                  w|    7.49|  25000.0|           3.0| Fully Paid|     3.0|   305781.0|     9.0|    0.0|                 0.0|debt_consolidation|  20862.0|      54.3|       A4| 36 months|  Debt consolidation|     19.0|       Not Verified|   (50,[9],[1.0])|\n",
            "|  112000.0|        Nov-1993| 10+ years|               GS-11|          804.0|         800.0|    C|      MORTGAGE|      Individual|                  w|   11.99|  18000.0|           5.0| Fully Paid|     4.0|   205067.0|    17.0|    0.0|                 0.0|debt_consolidation|  10711.0|      15.5|       C1| 60 months|  Debt consolidation|     27.0|       Not Verified|  (50,[12],[1.0])|\n",
            "|   55000.0|        Mar-2005|   8 years|Program Coordinator |          679.0|         675.0|    E|          RENT|      Individual|                  w|   19.89|   8650.0|           2.0| Fully Paid|     0.0|    18926.0|    18.0|    1.0|                 1.0|debt_consolidation|   9568.0|      46.0|       E3| 36 months|  Debt consolidation|     19.0|           Verified|  (50,[18],[1.0])|\n",
            "|   65000.0|        May-2004| 10+ years| Corporate Insurance|          719.0|         715.0|    C|      MORTGAGE|      Individual|                  w|   12.88|  29900.0|           2.0| Fully Paid|     2.0|   220251.0|    15.0|    0.0|                 0.0|debt_consolidation|  31682.0|      46.7|       C2| 60 months|  Debt consolidation|     31.0|           Verified|  (50,[13],[1.0])|\n",
            "|   48000.0|        Jun-1991| 10+ years|Bookkeeper/Accoun...|          689.0|         685.0|    C|      MORTGAGE|      Individual|                  w|   14.85|  16000.0|           6.0| Fully Paid|     2.0|    31329.0|    11.0|    2.0|                 0.0|       credit_card|  19108.0|      29.6|       C5| 60 months|Credit card refin...|     19.0|       Not Verified|  (50,[26],[1.0])|\n",
            "|  125000.0|        May-2000|   2 years|Director of Produ...|          699.0|         695.0|    C|           OWN|      Individual|                  w|   13.44|  28000.0|           4.0| Fully Paid|     0.0|    22780.0|     6.0|    0.0|                 0.0|debt_consolidation|  22780.0|      63.1|       C3| 36 months|  Debt consolidation|     22.0|    Source Verified|   (50,[2],[1.0])|\n",
            "|   79000.0|        Oct-2011|   2 years|     General Manager|          669.0|         665.0|    C|          RENT|      Individual|                  w|   13.44|   5000.0|           1.0| Fully Paid|     0.0|    35653.0|     3.0|    0.0|                 0.0|       credit_card|   9441.0|     101.5|       C3| 36 months|Credit card refin...|      5.0|           Verified|  (50,[13],[1.0])|\n",
            "|  100000.0|        May-1994| 10+ years|             Analyst|          699.0|         695.0|    A|      MORTGAGE|      Individual|                  w|    7.49|   6000.0|           2.0| Fully Paid|     2.0|   116195.0|     9.0|    0.0|                 0.0|debt_consolidation|   8563.0|      72.0|       A4| 36 months|  Debt consolidation|     16.0|       Not Verified|   (50,[1],[1.0])|\n",
            "|   35000.0|        Jul-2011|   5 years|            mechanic|          729.0|         725.0|    C|          RENT|      Individual|                  w|   14.85|   4225.0|           1.0|Charged Off|     0.0|     4888.0|     6.0|    0.0|                 0.0|debt_consolidation|   1058.0|      24.6|       C5| 36 months|  Debt consolidation|      6.0|    Source Verified|  (50,[30],[1.0])|\n",
            "+----------+----------------+----------+--------------------+---------------+--------------+-----+--------------+----------------+-------------------+--------+---------+--------------+-----------+--------+-----------+--------+-------+--------------------+------------------+---------+----------+---------+----------+--------------------+---------+-------------------+-----------------+\n",
            "only showing top 20 rows\n",
            "\n"
          ]
        }
      ]
    },
    {
      "cell_type": "markdown",
      "source": [
        "annual_inc"
      ],
      "metadata": {
        "id": "g_KeF4gfvlrT"
      }
    },
    {
      "cell_type": "code",
      "source": [
        "num_var_analysis(df,\"annual_inc\")\n",
        "\n"
      ],
      "metadata": {
        "colab": {
          "base_uri": "https://localhost:8080/"
        },
        "id": "xYzbsPlAvo95",
        "outputId": "d4101619-0238-4aa0-f9e2-f44ee81eaa4e"
      },
      "execution_count": null,
      "outputs": [
        {
          "output_type": "stream",
          "name": "stdout",
          "text": [
            "+-------+----------+\n",
            "|summary|annual_inc|\n",
            "+-------+----------+\n",
            "|    25%|   48000.0|\n",
            "|    75%|   93000.0|\n",
            "+-------+----------+\n",
            "\n",
            "+-----------+-----------------+\n",
            "|loan_status|  avg(annual_inc)|\n",
            "+-----------+-----------------+\n",
            "| Fully Paid|79690.91517226721|\n",
            "|Charged Off|72794.54987222192|\n",
            "+-----------+-----------------+\n",
            "\n",
            "+-----------+-----------------+\n",
            "|loan_status|count(annual_inc)|\n",
            "+-----------+-----------------+\n",
            "| Fully Paid|           948178|\n",
            "|Charged Off|           232356|\n",
            "+-----------+-----------------+\n",
            "\n"
          ]
        }
      ]
    },
    {
      "cell_type": "code",
      "source": [
        "outlier_range = 90000+1.5*(90000-48000)\n",
        "df = df.filter(col(\"annual_inc\")<outlier_range)"
      ],
      "metadata": {
        "id": "hlKKJOvex94n"
      },
      "execution_count": null,
      "outputs": []
    },
    {
      "cell_type": "markdown",
      "source": [
        "earliest_cr_line"
      ],
      "metadata": {
        "id": "Hajpnlzfyj21"
      }
    },
    {
      "cell_type": "code",
      "source": [
        "from pyspark.sql.types import IntegerType\n",
        "df = df.withColumn('earliest_cr_line_year', split(df[\"earliest_cr_line\"], '-').getItem(1).cast(IntegerType()))\n",
        "df = df.drop(\"earliest_cr_line\")\n"
      ],
      "metadata": {
        "id": "w_oQ65gHykYs"
      },
      "execution_count": null,
      "outputs": []
    },
    {
      "cell_type": "code",
      "source": [
        "df.show()"
      ],
      "metadata": {
        "colab": {
          "base_uri": "https://localhost:8080/"
        },
        "id": "x02luxGyynM5",
        "outputId": "f579a5b0-2e21-43fc-ea77-721a3440a285"
      },
      "execution_count": null,
      "outputs": [
        {
          "output_type": "stream",
          "name": "stdout",
          "text": [
            "+----------+----------+--------------------+---------------+--------------+-----+--------------+----------------+-------------------+--------+---------+--------------+-----------+--------+-----------+--------+-------+--------------------+------------------+---------+----------+---------+----------+--------------------+---------+-------------------+-----------------+---------------------+\n",
            "|annual_inc|emp_length|           emp_title|fico_range_high|fico_range_low|grade|home_ownership|application_type|initial_list_status|int_rate|loan_amnt|num_actv_bc_tl|loan_status|mort_acc|tot_cur_bal|open_acc|pub_rec|pub_rec_bankruptcies|           purpose|revol_bal|revol_util|sub_grade|      term|               title|total_acc|verification_status|addr_state_onehot|earliest_cr_line_year|\n",
            "+----------+----------+--------------------+---------------+--------------+-----+--------------+----------------+-------------------+--------+---------+--------------+-----------+--------+-----------+--------+-------+--------------------+------------------+---------+----------+---------+----------+--------------------+---------+-------------------+-----------------+---------------------+\n",
            "|   55000.0| 10+ years|             leadman|          679.0|         675.0|    C|      MORTGAGE|      Individual|                  w|   13.99|   3600.0|           2.0| Fully Paid|     1.0|   144904.0|     7.0|    0.0|                 0.0|debt_consolidation|   2765.0|      29.7|       C4| 36 months|  Debt consolidation|     13.0|       Not Verified|   (50,[6],[1.0])|                 2003|\n",
            "|   65000.0| 10+ years|            Engineer|          719.0|         715.0|    C|      MORTGAGE|      Individual|                  w|   11.99|  24700.0|           5.0| Fully Paid|     4.0|   204396.0|    22.0|    0.0|                 0.0|    small_business|  21470.0|      19.2|       C1| 36 months|            Business|     38.0|       Not Verified|  (50,[45],[1.0])|                 1999|\n",
            "|  104433.0|   3 years| Contract Specialist|          699.0|         695.0|    F|      MORTGAGE|      Individual|                  w|   22.45|  10400.0|           4.0| Fully Paid|     6.0|   331730.0|    12.0|    0.0|                 0.0|    major_purchase|  21929.0|      64.5|       F1| 60 months|      Major purchase|     35.0|    Source Verified|   (50,[6],[1.0])|                 1998|\n",
            "|   34000.0|   4 years|Veterinary Tecnician|          694.0|         690.0|    C|          RENT|      Individual|                  w|   13.44|  11950.0|           2.0| Fully Paid|     0.0|    12798.0|     5.0|    0.0|                 0.0|debt_consolidation|   8822.0|      68.4|       C3| 36 months|  Debt consolidation|      6.0|    Source Verified|   (50,[8],[1.0])|                 1987|\n",
            "|   85000.0| 10+ years|         road driver|          709.0|         705.0|    B|      MORTGAGE|      Individual|                  w|    8.49|  20000.0|           2.0| Fully Paid|     3.0|   141601.0|     8.0|    0.0|                 0.0|    major_purchase|    826.0|       5.7|       B1| 36 months|      Major purchase|     15.0|       Not Verified|  (50,[26],[1.0])|                 1999|\n",
            "|   85000.0|   6 years|     SERVICE MANAGER|          689.0|         685.0|    A|          RENT|      Individual|                  w|    6.49|  10000.0|           6.0| Fully Paid|     1.0|    27957.0|    14.0|    1.0|                 1.0|       credit_card|  10464.0|      34.5|       A2| 36 months|Credit card refin...|     23.0|       Not Verified|   (50,[6],[1.0])|                 2002|\n",
            "|   42000.0| 10+ years|      Vendor liaison|          704.0|         700.0|    B|      MORTGAGE|      Individual|                  w|   11.48|   8000.0|           3.0| Fully Paid|     1.0|   199696.0|     8.0|    0.0|                 0.0|       credit_card|   7034.0|      39.1|       B5| 36 months|Credit card refin...|     18.0|       Not Verified|  (50,[37],[1.0])|                 1994|\n",
            "|  150000.0|   7 years|    Software Manager|          669.0|         665.0|    E|          RENT|      Individual|                  w|   19.48|  18000.0|           6.0|Charged Off|     2.0|    36247.0|    18.0|    1.0|                 1.0|debt_consolidation|  14052.0|      40.7|       E2| 60 months|  Debt consolidation|     27.0|       Not Verified|   (50,[0],[1.0])|                 2005|\n",
            "|   92000.0| 10+ years|      Senior Manager|          724.0|         720.0|    A|      MORTGAGE|      Individual|                  w|    6.49|  28000.0|           7.0| Fully Paid|     2.0|   221110.0|    16.0|    0.0|                 0.0|debt_consolidation|  51507.0|      64.5|       A2| 36 months|  Debt consolidation|     24.0|       Not Verified|  (50,[10],[1.0])|                 1984|\n",
            "|   60000.0|   8 years|                tech|          699.0|         695.0|    A|      MORTGAGE|      Individual|                  w|    7.49|   9600.0|           3.0| Fully Paid|     0.0|    55387.0|     7.0|    0.0|                 0.0|       credit_card|   7722.0|      59.4|       A4| 36 months|Credit card refin...|      9.0|       Not Verified|  (50,[26],[1.0])|                 1996|\n",
            "|  109000.0| 10+ years|       Sales Manager|          749.0|         745.0|    A|      MORTGAGE|      Individual|                  w|    7.49|  25000.0|           3.0| Fully Paid|     3.0|   305781.0|     9.0|    0.0|                 0.0|debt_consolidation|  20862.0|      54.3|       A4| 36 months|  Debt consolidation|     19.0|       Not Verified|   (50,[9],[1.0])|                 2001|\n",
            "|  112000.0| 10+ years|               GS-11|          804.0|         800.0|    C|      MORTGAGE|      Individual|                  w|   11.99|  18000.0|           5.0| Fully Paid|     4.0|   205067.0|    17.0|    0.0|                 0.0|debt_consolidation|  10711.0|      15.5|       C1| 60 months|  Debt consolidation|     27.0|       Not Verified|  (50,[12],[1.0])|                 1993|\n",
            "|   55000.0|   8 years|Program Coordinator |          679.0|         675.0|    E|          RENT|      Individual|                  w|   19.89|   8650.0|           2.0| Fully Paid|     0.0|    18926.0|    18.0|    1.0|                 1.0|debt_consolidation|   9568.0|      46.0|       E3| 36 months|  Debt consolidation|     19.0|           Verified|  (50,[18],[1.0])|                 2005|\n",
            "|   65000.0| 10+ years| Corporate Insurance|          719.0|         715.0|    C|      MORTGAGE|      Individual|                  w|   12.88|  29900.0|           2.0| Fully Paid|     2.0|   220251.0|    15.0|    0.0|                 0.0|debt_consolidation|  31682.0|      46.7|       C2| 60 months|  Debt consolidation|     31.0|           Verified|  (50,[13],[1.0])|                 2004|\n",
            "|   48000.0| 10+ years|Bookkeeper/Accoun...|          689.0|         685.0|    C|      MORTGAGE|      Individual|                  w|   14.85|  16000.0|           6.0| Fully Paid|     2.0|    31329.0|    11.0|    2.0|                 0.0|       credit_card|  19108.0|      29.6|       C5| 60 months|Credit card refin...|     19.0|       Not Verified|  (50,[26],[1.0])|                 1991|\n",
            "|  125000.0|   2 years|Director of Produ...|          699.0|         695.0|    C|           OWN|      Individual|                  w|   13.44|  28000.0|           4.0| Fully Paid|     0.0|    22780.0|     6.0|    0.0|                 0.0|debt_consolidation|  22780.0|      63.1|       C3| 36 months|  Debt consolidation|     22.0|    Source Verified|   (50,[2],[1.0])|                 2000|\n",
            "|   79000.0|   2 years|     General Manager|          669.0|         665.0|    C|          RENT|      Individual|                  w|   13.44|   5000.0|           1.0| Fully Paid|     0.0|    35653.0|     3.0|    0.0|                 0.0|       credit_card|   9441.0|     101.5|       C3| 36 months|Credit card refin...|      5.0|           Verified|  (50,[13],[1.0])|                 2011|\n",
            "|  100000.0| 10+ years|             Analyst|          699.0|         695.0|    A|      MORTGAGE|      Individual|                  w|    7.49|   6000.0|           2.0| Fully Paid|     2.0|   116195.0|     9.0|    0.0|                 0.0|debt_consolidation|   8563.0|      72.0|       A4| 36 months|  Debt consolidation|     16.0|       Not Verified|   (50,[1],[1.0])|                 1994|\n",
            "|   35000.0|   5 years|            mechanic|          729.0|         725.0|    C|          RENT|      Individual|                  w|   14.85|   4225.0|           1.0|Charged Off|     0.0|     4888.0|     6.0|    0.0|                 0.0|debt_consolidation|   1058.0|      24.6|       C5| 36 months|  Debt consolidation|      6.0|    Source Verified|  (50,[30],[1.0])|                 2011|\n",
            "|   65000.0|   9 years|              driver|          839.0|         835.0|    A|           OWN|      Individual|                  w|    5.32|  20000.0|           3.0| Fully Paid|     0.0|    15444.0|    12.0|    0.0|                 0.0|debt_consolidation|   2269.0|       3.0|       A1| 36 months|  Debt consolidation|     17.0|       Not Verified|   (50,[2],[1.0])|                 1991|\n",
            "+----------+----------+--------------------+---------------+--------------+-----+--------------+----------------+-------------------+--------+---------+--------------+-----------+--------+-----------+--------+-------+--------------------+------------------+---------+----------+---------+----------+--------------------+---------+-------------------+-----------------+---------------------+\n",
            "only showing top 20 rows\n",
            "\n"
          ]
        }
      ]
    },
    {
      "cell_type": "markdown",
      "source": [
        "emp_length\n"
      ],
      "metadata": {
        "id": "KCkKqemd1i_v"
      }
    },
    {
      "cell_type": "code",
      "source": [
        "num_var_analysis(df,\"emp_length\")"
      ],
      "metadata": {
        "colab": {
          "base_uri": "https://localhost:8080/"
        },
        "id": "KxI7733t1jpY",
        "outputId": "6baff660-c975-4b64-f9d0-1c8ada0eeacb"
      },
      "execution_count": null,
      "outputs": [
        {
          "output_type": "stream",
          "name": "stdout",
          "text": [
            "+-------+----------+\n",
            "|summary|emp_length|\n",
            "+-------+----------+\n",
            "|    25%|      NULL|\n",
            "|    75%|      NULL|\n",
            "+-------+----------+\n",
            "\n",
            "+-----------+---------------+\n",
            "|loan_status|avg(emp_length)|\n",
            "+-----------+---------------+\n",
            "| Fully Paid|           NULL|\n",
            "|Charged Off|           NULL|\n",
            "+-----------+---------------+\n",
            "\n",
            "+-----------+-----------------+\n",
            "|loan_status|count(emp_length)|\n",
            "+-----------+-----------------+\n",
            "| Fully Paid|           892415|\n",
            "|Charged Off|           222856|\n",
            "+-----------+-----------------+\n",
            "\n"
          ]
        }
      ]
    },
    {
      "cell_type": "code",
      "source": [
        "df = df.drop(\"emp_length\")"
      ],
      "metadata": {
        "id": "8S85WpNx2gp3"
      },
      "execution_count": null,
      "outputs": []
    },
    {
      "cell_type": "markdown",
      "source": [
        "emp_title"
      ],
      "metadata": {
        "id": "yiv8t6_ykswB"
      }
    },
    {
      "cell_type": "code",
      "source": [
        "df.select(\"emp_title\").distinct().count()"
      ],
      "metadata": {
        "colab": {
          "base_uri": "https://localhost:8080/"
        },
        "id": "ahGpOKkVLFdv",
        "outputId": "b182b642-dc19-4a34-8c7a-904acce3daa9"
      },
      "execution_count": null,
      "outputs": [
        {
          "output_type": "execute_result",
          "data": {
            "text/plain": [
              "323194"
            ]
          },
          "metadata": {},
          "execution_count": 33
        }
      ]
    },
    {
      "cell_type": "code",
      "source": [
        "df = df.drop(\"emp_title\")"
      ],
      "metadata": {
        "id": "_IlRGoMI4LE9"
      },
      "execution_count": null,
      "outputs": []
    },
    {
      "cell_type": "markdown",
      "source": [
        "fico"
      ],
      "metadata": {
        "id": "PyZeQbmXkwt3"
      }
    },
    {
      "cell_type": "code",
      "source": [
        "df = df.withColumn('fico',df[\"fico_range_high\"]+df[\"fico_range_low\"])\n",
        "df = df.drop(\"fico_range_high\")\n",
        "df = df.drop(\"fico_range_low\")\n",
        "df.show()"
      ],
      "metadata": {
        "colab": {
          "base_uri": "https://localhost:8080/"
        },
        "id": "QSzCJgDb4XuJ",
        "outputId": "00c5bd18-3d36-4db9-dca6-1da0b011874b"
      },
      "execution_count": null,
      "outputs": [
        {
          "output_type": "stream",
          "name": "stdout",
          "text": [
            "+----------+-----+--------------+----------------+-------------------+--------+---------+--------------+-----------+--------+-----------+--------+-------+--------------------+------------------+---------+----------+---------+----------+--------------------+---------+-------------------+-----------------+---------------------+------+\n",
            "|annual_inc|grade|home_ownership|application_type|initial_list_status|int_rate|loan_amnt|num_actv_bc_tl|loan_status|mort_acc|tot_cur_bal|open_acc|pub_rec|pub_rec_bankruptcies|           purpose|revol_bal|revol_util|sub_grade|      term|               title|total_acc|verification_status|addr_state_onehot|earliest_cr_line_year|  fico|\n",
            "+----------+-----+--------------+----------------+-------------------+--------+---------+--------------+-----------+--------+-----------+--------+-------+--------------------+------------------+---------+----------+---------+----------+--------------------+---------+-------------------+-----------------+---------------------+------+\n",
            "|   55000.0|    C|      MORTGAGE|      Individual|                  w|   13.99|   3600.0|           2.0| Fully Paid|     1.0|   144904.0|     7.0|    0.0|                 0.0|debt_consolidation|   2765.0|      29.7|       C4| 36 months|  Debt consolidation|     13.0|       Not Verified|   (50,[6],[1.0])|                 2003|1354.0|\n",
            "|   65000.0|    C|      MORTGAGE|      Individual|                  w|   11.99|  24700.0|           5.0| Fully Paid|     4.0|   204396.0|    22.0|    0.0|                 0.0|    small_business|  21470.0|      19.2|       C1| 36 months|            Business|     38.0|       Not Verified|  (50,[45],[1.0])|                 1999|1434.0|\n",
            "|  104433.0|    F|      MORTGAGE|      Individual|                  w|   22.45|  10400.0|           4.0| Fully Paid|     6.0|   331730.0|    12.0|    0.0|                 0.0|    major_purchase|  21929.0|      64.5|       F1| 60 months|      Major purchase|     35.0|    Source Verified|   (50,[6],[1.0])|                 1998|1394.0|\n",
            "|   34000.0|    C|          RENT|      Individual|                  w|   13.44|  11950.0|           2.0| Fully Paid|     0.0|    12798.0|     5.0|    0.0|                 0.0|debt_consolidation|   8822.0|      68.4|       C3| 36 months|  Debt consolidation|      6.0|    Source Verified|   (50,[8],[1.0])|                 1987|1384.0|\n",
            "|   85000.0|    B|      MORTGAGE|      Individual|                  w|    8.49|  20000.0|           2.0| Fully Paid|     3.0|   141601.0|     8.0|    0.0|                 0.0|    major_purchase|    826.0|       5.7|       B1| 36 months|      Major purchase|     15.0|       Not Verified|  (50,[26],[1.0])|                 1999|1414.0|\n",
            "|   85000.0|    A|          RENT|      Individual|                  w|    6.49|  10000.0|           6.0| Fully Paid|     1.0|    27957.0|    14.0|    1.0|                 1.0|       credit_card|  10464.0|      34.5|       A2| 36 months|Credit card refin...|     23.0|       Not Verified|   (50,[6],[1.0])|                 2002|1374.0|\n",
            "|   42000.0|    B|      MORTGAGE|      Individual|                  w|   11.48|   8000.0|           3.0| Fully Paid|     1.0|   199696.0|     8.0|    0.0|                 0.0|       credit_card|   7034.0|      39.1|       B5| 36 months|Credit card refin...|     18.0|       Not Verified|  (50,[37],[1.0])|                 1994|1404.0|\n",
            "|  150000.0|    E|          RENT|      Individual|                  w|   19.48|  18000.0|           6.0|Charged Off|     2.0|    36247.0|    18.0|    1.0|                 1.0|debt_consolidation|  14052.0|      40.7|       E2| 60 months|  Debt consolidation|     27.0|       Not Verified|   (50,[0],[1.0])|                 2005|1334.0|\n",
            "|   92000.0|    A|      MORTGAGE|      Individual|                  w|    6.49|  28000.0|           7.0| Fully Paid|     2.0|   221110.0|    16.0|    0.0|                 0.0|debt_consolidation|  51507.0|      64.5|       A2| 36 months|  Debt consolidation|     24.0|       Not Verified|  (50,[10],[1.0])|                 1984|1444.0|\n",
            "|   60000.0|    A|      MORTGAGE|      Individual|                  w|    7.49|   9600.0|           3.0| Fully Paid|     0.0|    55387.0|     7.0|    0.0|                 0.0|       credit_card|   7722.0|      59.4|       A4| 36 months|Credit card refin...|      9.0|       Not Verified|  (50,[26],[1.0])|                 1996|1394.0|\n",
            "|  109000.0|    A|      MORTGAGE|      Individual|                  w|    7.49|  25000.0|           3.0| Fully Paid|     3.0|   305781.0|     9.0|    0.0|                 0.0|debt_consolidation|  20862.0|      54.3|       A4| 36 months|  Debt consolidation|     19.0|       Not Verified|   (50,[9],[1.0])|                 2001|1494.0|\n",
            "|  112000.0|    C|      MORTGAGE|      Individual|                  w|   11.99|  18000.0|           5.0| Fully Paid|     4.0|   205067.0|    17.0|    0.0|                 0.0|debt_consolidation|  10711.0|      15.5|       C1| 60 months|  Debt consolidation|     27.0|       Not Verified|  (50,[12],[1.0])|                 1993|1604.0|\n",
            "|   55000.0|    E|          RENT|      Individual|                  w|   19.89|   8650.0|           2.0| Fully Paid|     0.0|    18926.0|    18.0|    1.0|                 1.0|debt_consolidation|   9568.0|      46.0|       E3| 36 months|  Debt consolidation|     19.0|           Verified|  (50,[18],[1.0])|                 2005|1354.0|\n",
            "|   65000.0|    C|      MORTGAGE|      Individual|                  w|   12.88|  29900.0|           2.0| Fully Paid|     2.0|   220251.0|    15.0|    0.0|                 0.0|debt_consolidation|  31682.0|      46.7|       C2| 60 months|  Debt consolidation|     31.0|           Verified|  (50,[13],[1.0])|                 2004|1434.0|\n",
            "|   48000.0|    C|      MORTGAGE|      Individual|                  w|   14.85|  16000.0|           6.0| Fully Paid|     2.0|    31329.0|    11.0|    2.0|                 0.0|       credit_card|  19108.0|      29.6|       C5| 60 months|Credit card refin...|     19.0|       Not Verified|  (50,[26],[1.0])|                 1991|1374.0|\n",
            "|  125000.0|    C|           OWN|      Individual|                  w|   13.44|  28000.0|           4.0| Fully Paid|     0.0|    22780.0|     6.0|    0.0|                 0.0|debt_consolidation|  22780.0|      63.1|       C3| 36 months|  Debt consolidation|     22.0|    Source Verified|   (50,[2],[1.0])|                 2000|1394.0|\n",
            "|   79000.0|    C|          RENT|      Individual|                  w|   13.44|   5000.0|           1.0| Fully Paid|     0.0|    35653.0|     3.0|    0.0|                 0.0|       credit_card|   9441.0|     101.5|       C3| 36 months|Credit card refin...|      5.0|           Verified|  (50,[13],[1.0])|                 2011|1334.0|\n",
            "|  100000.0|    A|      MORTGAGE|      Individual|                  w|    7.49|   6000.0|           2.0| Fully Paid|     2.0|   116195.0|     9.0|    0.0|                 0.0|debt_consolidation|   8563.0|      72.0|       A4| 36 months|  Debt consolidation|     16.0|       Not Verified|   (50,[1],[1.0])|                 1994|1394.0|\n",
            "|   35000.0|    C|          RENT|      Individual|                  w|   14.85|   4225.0|           1.0|Charged Off|     0.0|     4888.0|     6.0|    0.0|                 0.0|debt_consolidation|   1058.0|      24.6|       C5| 36 months|  Debt consolidation|      6.0|    Source Verified|  (50,[30],[1.0])|                 2011|1454.0|\n",
            "|   65000.0|    A|           OWN|      Individual|                  w|    5.32|  20000.0|           3.0| Fully Paid|     0.0|    15444.0|    12.0|    0.0|                 0.0|debt_consolidation|   2269.0|       3.0|       A1| 36 months|  Debt consolidation|     17.0|       Not Verified|   (50,[2],[1.0])|                 1991|1674.0|\n",
            "+----------+-----+--------------+----------------+-------------------+--------+---------+--------------+-----------+--------+-----------+--------+-------+--------------------+------------------+---------+----------+---------+----------+--------------------+---------+-------------------+-----------------+---------------------+------+\n",
            "only showing top 20 rows\n",
            "\n"
          ]
        }
      ]
    },
    {
      "cell_type": "markdown",
      "source": [
        "Grade and Sub Grade"
      ],
      "metadata": {
        "id": "O9GH7RyXLUFX"
      }
    },
    {
      "cell_type": "code",
      "source": [
        "df.select(\"grade\").distinct().show()"
      ],
      "metadata": {
        "colab": {
          "base_uri": "https://localhost:8080/"
        },
        "id": "y0yj6WZ84uGN",
        "outputId": "8e46c9c8-0eee-4b25-c081-3dd2e6ae6927"
      },
      "execution_count": null,
      "outputs": [
        {
          "output_type": "stream",
          "name": "stdout",
          "text": [
            "+-----+\n",
            "|grade|\n",
            "+-----+\n",
            "|    F|\n",
            "|    E|\n",
            "|    B|\n",
            "|    D|\n",
            "|    C|\n",
            "|    A|\n",
            "|    G|\n",
            "+-----+\n",
            "\n"
          ]
        }
      ]
    },
    {
      "cell_type": "code",
      "source": [
        "df.select(\"sub_grade\").distinct().show()"
      ],
      "metadata": {
        "colab": {
          "base_uri": "https://localhost:8080/"
        },
        "id": "mCkuMiCc5NM7",
        "outputId": "20ca4d0f-b156-4fd4-d759-ee21c86967cb"
      },
      "execution_count": null,
      "outputs": [
        {
          "output_type": "stream",
          "name": "stdout",
          "text": [
            "+---------+\n",
            "|sub_grade|\n",
            "+---------+\n",
            "|       D5|\n",
            "|       F2|\n",
            "|       B4|\n",
            "|       A2|\n",
            "|       E4|\n",
            "|       B2|\n",
            "|       C3|\n",
            "|       D1|\n",
            "|       C4|\n",
            "|       F1|\n",
            "|       D3|\n",
            "|       F5|\n",
            "|       G2|\n",
            "|       B1|\n",
            "|       B3|\n",
            "|       E5|\n",
            "|       C5|\n",
            "|       G3|\n",
            "|       A4|\n",
            "|       F4|\n",
            "+---------+\n",
            "only showing top 20 rows\n",
            "\n"
          ]
        }
      ]
    },
    {
      "cell_type": "code",
      "source": [
        "df = df.drop(\"grade\")"
      ],
      "metadata": {
        "id": "PjMverqd5QM5"
      },
      "execution_count": null,
      "outputs": []
    },
    {
      "cell_type": "code",
      "source": [
        "df = one_hot_encode(df,\"sub_grade\")\n"
      ],
      "metadata": {
        "colab": {
          "base_uri": "https://localhost:8080/"
        },
        "id": "w1gQDvaO5dNJ",
        "outputId": "c9bcb004-b279-475f-c7e9-f1e521299bd6"
      },
      "execution_count": null,
      "outputs": [
        {
          "output_type": "stream",
          "name": "stdout",
          "text": [
            "+----------+--------------+----------------+-------------------+--------+---------+--------------+-----------+--------+-----------+--------+-------+--------------------+------------------+---------+----------+----------+--------------------+---------+-------------------+-----------------+---------------------+------+----------------+\n",
            "|annual_inc|home_ownership|application_type|initial_list_status|int_rate|loan_amnt|num_actv_bc_tl|loan_status|mort_acc|tot_cur_bal|open_acc|pub_rec|pub_rec_bankruptcies|           purpose|revol_bal|revol_util|      term|               title|total_acc|verification_status|addr_state_onehot|earliest_cr_line_year|  fico|sub_grade_onehot|\n",
            "+----------+--------------+----------------+-------------------+--------+---------+--------------+-----------+--------+-----------+--------+-------+--------------------+------------------+---------+----------+----------+--------------------+---------+-------------------+-----------------+---------------------+------+----------------+\n",
            "|   55000.0|      MORTGAGE|      Individual|                  w|   13.99|   3600.0|           2.0| Fully Paid|     1.0|   144904.0|     7.0|    0.0|                 0.0|debt_consolidation|   2765.0|      29.7| 36 months|  Debt consolidation|     13.0|       Not Verified|   (50,[6],[1.0])|                 2003|1354.0|  (34,[6],[1.0])|\n",
            "|   65000.0|      MORTGAGE|      Individual|                  w|   11.99|  24700.0|           5.0| Fully Paid|     4.0|   204396.0|    22.0|    0.0|                 0.0|    small_business|  21470.0|      19.2| 36 months|            Business|     38.0|       Not Verified|  (50,[45],[1.0])|                 1999|1434.0|  (34,[0],[1.0])|\n",
            "|  104433.0|      MORTGAGE|      Individual|                  w|   22.45|  10400.0|           4.0| Fully Paid|     6.0|   331730.0|    12.0|    0.0|                 0.0|    major_purchase|  21929.0|      64.5| 60 months|      Major purchase|     35.0|    Source Verified|   (50,[6],[1.0])|                 1998|1394.0| (34,[25],[1.0])|\n",
            "|   34000.0|          RENT|      Individual|                  w|   13.44|  11950.0|           2.0| Fully Paid|     0.0|    12798.0|     5.0|    0.0|                 0.0|debt_consolidation|   8822.0|      68.4| 36 months|  Debt consolidation|      6.0|    Source Verified|   (50,[8],[1.0])|                 1987|1384.0|  (34,[5],[1.0])|\n",
            "|   85000.0|      MORTGAGE|      Individual|                  w|    8.49|  20000.0|           2.0| Fully Paid|     3.0|   141601.0|     8.0|    0.0|                 0.0|    major_purchase|    826.0|       5.7| 36 months|      Major purchase|     15.0|       Not Verified|  (50,[26],[1.0])|                 1999|1414.0|  (34,[8],[1.0])|\n",
            "|   85000.0|          RENT|      Individual|                  w|    6.49|  10000.0|           6.0| Fully Paid|     1.0|    27957.0|    14.0|    1.0|                 1.0|       credit_card|  10464.0|      34.5| 36 months|Credit card refin...|     23.0|       Not Verified|   (50,[6],[1.0])|                 2002|1374.0| (34,[18],[1.0])|\n",
            "|   42000.0|      MORTGAGE|      Individual|                  w|   11.48|   8000.0|           3.0| Fully Paid|     1.0|   199696.0|     8.0|    0.0|                 0.0|       credit_card|   7034.0|      39.1| 36 months|Credit card refin...|     18.0|       Not Verified|  (50,[37],[1.0])|                 1994|1404.0|  (34,[2],[1.0])|\n",
            "|  150000.0|          RENT|      Individual|                  w|   19.48|  18000.0|           6.0|Charged Off|     2.0|    36247.0|    18.0|    1.0|                 1.0|debt_consolidation|  14052.0|      40.7| 60 months|  Debt consolidation|     27.0|       Not Verified|   (50,[0],[1.0])|                 2005|1334.0| (34,[21],[1.0])|\n",
            "|   92000.0|      MORTGAGE|      Individual|                  w|    6.49|  28000.0|           7.0| Fully Paid|     2.0|   221110.0|    16.0|    0.0|                 0.0|debt_consolidation|  51507.0|      64.5| 36 months|  Debt consolidation|     24.0|       Not Verified|  (50,[10],[1.0])|                 1984|1444.0| (34,[18],[1.0])|\n",
            "|   60000.0|      MORTGAGE|      Individual|                  w|    7.49|   9600.0|           3.0| Fully Paid|     0.0|    55387.0|     7.0|    0.0|                 0.0|       credit_card|   7722.0|      59.4| 36 months|Credit card refin...|      9.0|       Not Verified|  (50,[26],[1.0])|                 1996|1394.0| (34,[12],[1.0])|\n",
            "|  109000.0|      MORTGAGE|      Individual|                  w|    7.49|  25000.0|           3.0| Fully Paid|     3.0|   305781.0|     9.0|    0.0|                 0.0|debt_consolidation|  20862.0|      54.3| 36 months|  Debt consolidation|     19.0|       Not Verified|   (50,[9],[1.0])|                 2001|1494.0| (34,[12],[1.0])|\n",
            "|  112000.0|      MORTGAGE|      Individual|                  w|   11.99|  18000.0|           5.0| Fully Paid|     4.0|   205067.0|    17.0|    0.0|                 0.0|debt_consolidation|  10711.0|      15.5| 60 months|  Debt consolidation|     27.0|       Not Verified|  (50,[12],[1.0])|                 1993|1604.0|  (34,[0],[1.0])|\n",
            "|   55000.0|          RENT|      Individual|                  w|   19.89|   8650.0|           2.0| Fully Paid|     0.0|    18926.0|    18.0|    1.0|                 1.0|debt_consolidation|   9568.0|      46.0| 36 months|  Debt consolidation|     19.0|           Verified|  (50,[18],[1.0])|                 2005|1354.0| (34,[22],[1.0])|\n",
            "|   65000.0|      MORTGAGE|      Individual|                  w|   12.88|  29900.0|           2.0| Fully Paid|     2.0|   220251.0|    15.0|    0.0|                 0.0|debt_consolidation|  31682.0|      46.7| 60 months|  Debt consolidation|     31.0|           Verified|  (50,[13],[1.0])|                 2004|1434.0|  (34,[3],[1.0])|\n",
            "|   48000.0|      MORTGAGE|      Individual|                  w|   14.85|  16000.0|           6.0| Fully Paid|     2.0|    31329.0|    11.0|    2.0|                 0.0|       credit_card|  19108.0|      29.6| 60 months|Credit card refin...|     19.0|       Not Verified|  (50,[26],[1.0])|                 1991|1374.0|  (34,[9],[1.0])|\n",
            "|  125000.0|           OWN|      Individual|                  w|   13.44|  28000.0|           4.0| Fully Paid|     0.0|    22780.0|     6.0|    0.0|                 0.0|debt_consolidation|  22780.0|      63.1| 36 months|  Debt consolidation|     22.0|    Source Verified|   (50,[2],[1.0])|                 2000|1394.0|  (34,[5],[1.0])|\n",
            "|   79000.0|          RENT|      Individual|                  w|   13.44|   5000.0|           1.0| Fully Paid|     0.0|    35653.0|     3.0|    0.0|                 0.0|       credit_card|   9441.0|     101.5| 36 months|Credit card refin...|      5.0|           Verified|  (50,[13],[1.0])|                 2011|1334.0|  (34,[5],[1.0])|\n",
            "|  100000.0|      MORTGAGE|      Individual|                  w|    7.49|   6000.0|           2.0| Fully Paid|     2.0|   116195.0|     9.0|    0.0|                 0.0|debt_consolidation|   8563.0|      72.0| 36 months|  Debt consolidation|     16.0|       Not Verified|   (50,[1],[1.0])|                 1994|1394.0| (34,[12],[1.0])|\n",
            "|   35000.0|          RENT|      Individual|                  w|   14.85|   4225.0|           1.0|Charged Off|     0.0|     4888.0|     6.0|    0.0|                 0.0|debt_consolidation|   1058.0|      24.6| 36 months|  Debt consolidation|      6.0|    Source Verified|  (50,[30],[1.0])|                 2011|1454.0|  (34,[9],[1.0])|\n",
            "|   65000.0|           OWN|      Individual|                  w|    5.32|  20000.0|           3.0| Fully Paid|     0.0|    15444.0|    12.0|    0.0|                 0.0|debt_consolidation|   2269.0|       3.0| 36 months|  Debt consolidation|     17.0|       Not Verified|   (50,[2],[1.0])|                 1991|1674.0| (34,[14],[1.0])|\n",
            "+----------+--------------+----------------+-------------------+--------+---------+--------------+-----------+--------+-----------+--------+-------+--------------------+------------------+---------+----------+----------+--------------------+---------+-------------------+-----------------+---------------------+------+----------------+\n",
            "only showing top 20 rows\n",
            "\n"
          ]
        }
      ]
    },
    {
      "cell_type": "markdown",
      "source": [
        "home_ownership"
      ],
      "metadata": {
        "id": "1mlLFVfV5fWL"
      }
    },
    {
      "cell_type": "code",
      "source": [
        "cat_var_analysis(df,\"home_ownership\")"
      ],
      "metadata": {
        "colab": {
          "base_uri": "https://localhost:8080/"
        },
        "id": "7yW_n0385gyj",
        "outputId": "6b4193b4-9c82-428a-e95a-c71d2167a943"
      },
      "execution_count": null,
      "outputs": [
        {
          "output_type": "stream",
          "name": "stdout",
          "text": [
            "+--------------+-----------+------+\n",
            "|home_ownership|loan_status| count|\n",
            "+--------------+-----------+------+\n",
            "|           ANY|Charged Off|    45|\n",
            "|           ANY| Fully Paid|   182|\n",
            "|      MORTGAGE|Charged Off| 94360|\n",
            "|      MORTGAGE| Fully Paid|451424|\n",
            "|          NONE|Charged Off|     6|\n",
            "|          NONE| Fully Paid|    37|\n",
            "|         OTHER|Charged Off|     8|\n",
            "|         OTHER| Fully Paid|    33|\n",
            "|           OWN|Charged Off| 23284|\n",
            "|           OWN| Fully Paid| 92225|\n",
            "|          RENT|Charged Off|105153|\n",
            "|          RENT| Fully Paid|348514|\n",
            "+--------------+-----------+------+\n",
            "\n"
          ]
        }
      ]
    },
    {
      "cell_type": "code",
      "source": [
        "df = one_hot_encode(df,\"home_ownership\")"
      ],
      "metadata": {
        "colab": {
          "base_uri": "https://localhost:8080/"
        },
        "id": "Upy0q8MN7BZ8",
        "outputId": "6a65c76a-1bdb-4f1e-c2db-b91b58d7570a"
      },
      "execution_count": null,
      "outputs": [
        {
          "output_type": "stream",
          "name": "stdout",
          "text": [
            "+----------+----------------+-------------------+--------+---------+--------------+-----------+--------+-----------+--------+-------+--------------------+------------------+---------+----------+----------+--------------------+---------+-------------------+-----------------+---------------------+------+----------------+---------------------+\n",
            "|annual_inc|application_type|initial_list_status|int_rate|loan_amnt|num_actv_bc_tl|loan_status|mort_acc|tot_cur_bal|open_acc|pub_rec|pub_rec_bankruptcies|           purpose|revol_bal|revol_util|      term|               title|total_acc|verification_status|addr_state_onehot|earliest_cr_line_year|  fico|sub_grade_onehot|home_ownership_onehot|\n",
            "+----------+----------------+-------------------+--------+---------+--------------+-----------+--------+-----------+--------+-------+--------------------+------------------+---------+----------+----------+--------------------+---------+-------------------+-----------------+---------------------+------+----------------+---------------------+\n",
            "|   55000.0|      Individual|                  w|   13.99|   3600.0|           2.0| Fully Paid|     1.0|   144904.0|     7.0|    0.0|                 0.0|debt_consolidation|   2765.0|      29.7| 36 months|  Debt consolidation|     13.0|       Not Verified|   (50,[6],[1.0])|                 2003|1354.0|  (34,[6],[1.0])|        (5,[0],[1.0])|\n",
            "|   65000.0|      Individual|                  w|   11.99|  24700.0|           5.0| Fully Paid|     4.0|   204396.0|    22.0|    0.0|                 0.0|    small_business|  21470.0|      19.2| 36 months|            Business|     38.0|       Not Verified|  (50,[45],[1.0])|                 1999|1434.0|  (34,[0],[1.0])|        (5,[0],[1.0])|\n",
            "|  104433.0|      Individual|                  w|   22.45|  10400.0|           4.0| Fully Paid|     6.0|   331730.0|    12.0|    0.0|                 0.0|    major_purchase|  21929.0|      64.5| 60 months|      Major purchase|     35.0|    Source Verified|   (50,[6],[1.0])|                 1998|1394.0| (34,[25],[1.0])|        (5,[0],[1.0])|\n",
            "|   34000.0|      Individual|                  w|   13.44|  11950.0|           2.0| Fully Paid|     0.0|    12798.0|     5.0|    0.0|                 0.0|debt_consolidation|   8822.0|      68.4| 36 months|  Debt consolidation|      6.0|    Source Verified|   (50,[8],[1.0])|                 1987|1384.0|  (34,[5],[1.0])|        (5,[1],[1.0])|\n",
            "|   85000.0|      Individual|                  w|    8.49|  20000.0|           2.0| Fully Paid|     3.0|   141601.0|     8.0|    0.0|                 0.0|    major_purchase|    826.0|       5.7| 36 months|      Major purchase|     15.0|       Not Verified|  (50,[26],[1.0])|                 1999|1414.0|  (34,[8],[1.0])|        (5,[0],[1.0])|\n",
            "|   85000.0|      Individual|                  w|    6.49|  10000.0|           6.0| Fully Paid|     1.0|    27957.0|    14.0|    1.0|                 1.0|       credit_card|  10464.0|      34.5| 36 months|Credit card refin...|     23.0|       Not Verified|   (50,[6],[1.0])|                 2002|1374.0| (34,[18],[1.0])|        (5,[1],[1.0])|\n",
            "|   42000.0|      Individual|                  w|   11.48|   8000.0|           3.0| Fully Paid|     1.0|   199696.0|     8.0|    0.0|                 0.0|       credit_card|   7034.0|      39.1| 36 months|Credit card refin...|     18.0|       Not Verified|  (50,[37],[1.0])|                 1994|1404.0|  (34,[2],[1.0])|        (5,[0],[1.0])|\n",
            "|  150000.0|      Individual|                  w|   19.48|  18000.0|           6.0|Charged Off|     2.0|    36247.0|    18.0|    1.0|                 1.0|debt_consolidation|  14052.0|      40.7| 60 months|  Debt consolidation|     27.0|       Not Verified|   (50,[0],[1.0])|                 2005|1334.0| (34,[21],[1.0])|        (5,[1],[1.0])|\n",
            "|   92000.0|      Individual|                  w|    6.49|  28000.0|           7.0| Fully Paid|     2.0|   221110.0|    16.0|    0.0|                 0.0|debt_consolidation|  51507.0|      64.5| 36 months|  Debt consolidation|     24.0|       Not Verified|  (50,[10],[1.0])|                 1984|1444.0| (34,[18],[1.0])|        (5,[0],[1.0])|\n",
            "|   60000.0|      Individual|                  w|    7.49|   9600.0|           3.0| Fully Paid|     0.0|    55387.0|     7.0|    0.0|                 0.0|       credit_card|   7722.0|      59.4| 36 months|Credit card refin...|      9.0|       Not Verified|  (50,[26],[1.0])|                 1996|1394.0| (34,[12],[1.0])|        (5,[0],[1.0])|\n",
            "|  109000.0|      Individual|                  w|    7.49|  25000.0|           3.0| Fully Paid|     3.0|   305781.0|     9.0|    0.0|                 0.0|debt_consolidation|  20862.0|      54.3| 36 months|  Debt consolidation|     19.0|       Not Verified|   (50,[9],[1.0])|                 2001|1494.0| (34,[12],[1.0])|        (5,[0],[1.0])|\n",
            "|  112000.0|      Individual|                  w|   11.99|  18000.0|           5.0| Fully Paid|     4.0|   205067.0|    17.0|    0.0|                 0.0|debt_consolidation|  10711.0|      15.5| 60 months|  Debt consolidation|     27.0|       Not Verified|  (50,[12],[1.0])|                 1993|1604.0|  (34,[0],[1.0])|        (5,[0],[1.0])|\n",
            "|   55000.0|      Individual|                  w|   19.89|   8650.0|           2.0| Fully Paid|     0.0|    18926.0|    18.0|    1.0|                 1.0|debt_consolidation|   9568.0|      46.0| 36 months|  Debt consolidation|     19.0|           Verified|  (50,[18],[1.0])|                 2005|1354.0| (34,[22],[1.0])|        (5,[1],[1.0])|\n",
            "|   65000.0|      Individual|                  w|   12.88|  29900.0|           2.0| Fully Paid|     2.0|   220251.0|    15.0|    0.0|                 0.0|debt_consolidation|  31682.0|      46.7| 60 months|  Debt consolidation|     31.0|           Verified|  (50,[13],[1.0])|                 2004|1434.0|  (34,[3],[1.0])|        (5,[0],[1.0])|\n",
            "|   48000.0|      Individual|                  w|   14.85|  16000.0|           6.0| Fully Paid|     2.0|    31329.0|    11.0|    2.0|                 0.0|       credit_card|  19108.0|      29.6| 60 months|Credit card refin...|     19.0|       Not Verified|  (50,[26],[1.0])|                 1991|1374.0|  (34,[9],[1.0])|        (5,[0],[1.0])|\n",
            "|  125000.0|      Individual|                  w|   13.44|  28000.0|           4.0| Fully Paid|     0.0|    22780.0|     6.0|    0.0|                 0.0|debt_consolidation|  22780.0|      63.1| 36 months|  Debt consolidation|     22.0|    Source Verified|   (50,[2],[1.0])|                 2000|1394.0|  (34,[5],[1.0])|        (5,[2],[1.0])|\n",
            "|   79000.0|      Individual|                  w|   13.44|   5000.0|           1.0| Fully Paid|     0.0|    35653.0|     3.0|    0.0|                 0.0|       credit_card|   9441.0|     101.5| 36 months|Credit card refin...|      5.0|           Verified|  (50,[13],[1.0])|                 2011|1334.0|  (34,[5],[1.0])|        (5,[1],[1.0])|\n",
            "|  100000.0|      Individual|                  w|    7.49|   6000.0|           2.0| Fully Paid|     2.0|   116195.0|     9.0|    0.0|                 0.0|debt_consolidation|   8563.0|      72.0| 36 months|  Debt consolidation|     16.0|       Not Verified|   (50,[1],[1.0])|                 1994|1394.0| (34,[12],[1.0])|        (5,[0],[1.0])|\n",
            "|   35000.0|      Individual|                  w|   14.85|   4225.0|           1.0|Charged Off|     0.0|     4888.0|     6.0|    0.0|                 0.0|debt_consolidation|   1058.0|      24.6| 36 months|  Debt consolidation|      6.0|    Source Verified|  (50,[30],[1.0])|                 2011|1454.0|  (34,[9],[1.0])|        (5,[1],[1.0])|\n",
            "|   65000.0|      Individual|                  w|    5.32|  20000.0|           3.0| Fully Paid|     0.0|    15444.0|    12.0|    0.0|                 0.0|debt_consolidation|   2269.0|       3.0| 36 months|  Debt consolidation|     17.0|       Not Verified|   (50,[2],[1.0])|                 1991|1674.0| (34,[14],[1.0])|        (5,[2],[1.0])|\n",
            "+----------+----------------+-------------------+--------+---------+--------------+-----------+--------+-----------+--------+-------+--------------------+------------------+---------+----------+----------+--------------------+---------+-------------------+-----------------+---------------------+------+----------------+---------------------+\n",
            "only showing top 20 rows\n",
            "\n"
          ]
        }
      ]
    },
    {
      "cell_type": "markdown",
      "source": [
        "application type"
      ],
      "metadata": {
        "id": "rGa3yDGL8bcb"
      }
    },
    {
      "cell_type": "code",
      "source": [
        "# df.groupBy(\"application_type\",\"loan_status\").count().orderBy([\"application_type\",\"loan_status\"]).show()\n",
        "df.select(\"application_type\").distinct().show()"
      ],
      "metadata": {
        "colab": {
          "base_uri": "https://localhost:8080/"
        },
        "id": "nBYFCZgZ7GYZ",
        "outputId": "a396d080-add6-4642-9e66-fcc176c99d65"
      },
      "execution_count": null,
      "outputs": [
        {
          "output_type": "stream",
          "name": "stdout",
          "text": [
            "+----------------+\n",
            "|application_type|\n",
            "+----------------+\n",
            "|       Joint App|\n",
            "|      Individual|\n",
            "+----------------+\n",
            "\n"
          ]
        }
      ]
    },
    {
      "cell_type": "code",
      "source": [
        "df = df.filter((col(\"application_type\")==\"Joint App\") | (col(\"application_type\")== 'Individual'))"
      ],
      "metadata": {
        "id": "ctpVZpH58tIs"
      },
      "execution_count": null,
      "outputs": []
    },
    {
      "cell_type": "code",
      "source": [
        "cat_var_analysis(df,\"application_type\")"
      ],
      "metadata": {
        "colab": {
          "base_uri": "https://localhost:8080/"
        },
        "id": "U9sTHe60Lpiy",
        "outputId": "800f964d-f4ea-4380-9354-e461f023ce3a"
      },
      "execution_count": null,
      "outputs": [
        {
          "output_type": "stream",
          "name": "stdout",
          "text": [
            "+----------------+-----------+------+\n",
            "|application_type|loan_status| count|\n",
            "+----------------+-----------+------+\n",
            "|      Individual|Charged Off|217928|\n",
            "|      Individual| Fully Paid|876458|\n",
            "|       Joint App|Charged Off|  4928|\n",
            "|       Joint App| Fully Paid| 15957|\n",
            "+----------------+-----------+------+\n",
            "\n"
          ]
        }
      ]
    },
    {
      "cell_type": "code",
      "source": [
        "df = one_hot_encode(df,\"application_type\")"
      ],
      "metadata": {
        "colab": {
          "base_uri": "https://localhost:8080/"
        },
        "id": "afMeS_xA95n6",
        "outputId": "57a62167-f831-4183-e542-d5f60dd9281e"
      },
      "execution_count": null,
      "outputs": [
        {
          "output_type": "stream",
          "name": "stdout",
          "text": [
            "+----------+-------------------+--------+---------+--------------+-----------+--------+-----------+--------+-------+--------------------+------------------+---------+----------+----------+--------------------+---------+-------------------+-----------------+---------------------+------+----------------+---------------------+-----------------------+\n",
            "|annual_inc|initial_list_status|int_rate|loan_amnt|num_actv_bc_tl|loan_status|mort_acc|tot_cur_bal|open_acc|pub_rec|pub_rec_bankruptcies|           purpose|revol_bal|revol_util|      term|               title|total_acc|verification_status|addr_state_onehot|earliest_cr_line_year|  fico|sub_grade_onehot|home_ownership_onehot|application_type_onehot|\n",
            "+----------+-------------------+--------+---------+--------------+-----------+--------+-----------+--------+-------+--------------------+------------------+---------+----------+----------+--------------------+---------+-------------------+-----------------+---------------------+------+----------------+---------------------+-----------------------+\n",
            "|   55000.0|                  w|   13.99|   3600.0|           2.0| Fully Paid|     1.0|   144904.0|     7.0|    0.0|                 0.0|debt_consolidation|   2765.0|      29.7| 36 months|  Debt consolidation|     13.0|       Not Verified|   (50,[6],[1.0])|                 2003|1354.0|  (34,[6],[1.0])|        (5,[0],[1.0])|          (1,[0],[1.0])|\n",
            "|   65000.0|                  w|   11.99|  24700.0|           5.0| Fully Paid|     4.0|   204396.0|    22.0|    0.0|                 0.0|    small_business|  21470.0|      19.2| 36 months|            Business|     38.0|       Not Verified|  (50,[45],[1.0])|                 1999|1434.0|  (34,[0],[1.0])|        (5,[0],[1.0])|          (1,[0],[1.0])|\n",
            "|  104433.0|                  w|   22.45|  10400.0|           4.0| Fully Paid|     6.0|   331730.0|    12.0|    0.0|                 0.0|    major_purchase|  21929.0|      64.5| 60 months|      Major purchase|     35.0|    Source Verified|   (50,[6],[1.0])|                 1998|1394.0| (34,[25],[1.0])|        (5,[0],[1.0])|          (1,[0],[1.0])|\n",
            "|   34000.0|                  w|   13.44|  11950.0|           2.0| Fully Paid|     0.0|    12798.0|     5.0|    0.0|                 0.0|debt_consolidation|   8822.0|      68.4| 36 months|  Debt consolidation|      6.0|    Source Verified|   (50,[8],[1.0])|                 1987|1384.0|  (34,[5],[1.0])|        (5,[1],[1.0])|          (1,[0],[1.0])|\n",
            "|   85000.0|                  w|    8.49|  20000.0|           2.0| Fully Paid|     3.0|   141601.0|     8.0|    0.0|                 0.0|    major_purchase|    826.0|       5.7| 36 months|      Major purchase|     15.0|       Not Verified|  (50,[26],[1.0])|                 1999|1414.0|  (34,[8],[1.0])|        (5,[0],[1.0])|          (1,[0],[1.0])|\n",
            "|   85000.0|                  w|    6.49|  10000.0|           6.0| Fully Paid|     1.0|    27957.0|    14.0|    1.0|                 1.0|       credit_card|  10464.0|      34.5| 36 months|Credit card refin...|     23.0|       Not Verified|   (50,[6],[1.0])|                 2002|1374.0| (34,[18],[1.0])|        (5,[1],[1.0])|          (1,[0],[1.0])|\n",
            "|   42000.0|                  w|   11.48|   8000.0|           3.0| Fully Paid|     1.0|   199696.0|     8.0|    0.0|                 0.0|       credit_card|   7034.0|      39.1| 36 months|Credit card refin...|     18.0|       Not Verified|  (50,[37],[1.0])|                 1994|1404.0|  (34,[2],[1.0])|        (5,[0],[1.0])|          (1,[0],[1.0])|\n",
            "|  150000.0|                  w|   19.48|  18000.0|           6.0|Charged Off|     2.0|    36247.0|    18.0|    1.0|                 1.0|debt_consolidation|  14052.0|      40.7| 60 months|  Debt consolidation|     27.0|       Not Verified|   (50,[0],[1.0])|                 2005|1334.0| (34,[21],[1.0])|        (5,[1],[1.0])|          (1,[0],[1.0])|\n",
            "|   92000.0|                  w|    6.49|  28000.0|           7.0| Fully Paid|     2.0|   221110.0|    16.0|    0.0|                 0.0|debt_consolidation|  51507.0|      64.5| 36 months|  Debt consolidation|     24.0|       Not Verified|  (50,[10],[1.0])|                 1984|1444.0| (34,[18],[1.0])|        (5,[0],[1.0])|          (1,[0],[1.0])|\n",
            "|   60000.0|                  w|    7.49|   9600.0|           3.0| Fully Paid|     0.0|    55387.0|     7.0|    0.0|                 0.0|       credit_card|   7722.0|      59.4| 36 months|Credit card refin...|      9.0|       Not Verified|  (50,[26],[1.0])|                 1996|1394.0| (34,[12],[1.0])|        (5,[0],[1.0])|          (1,[0],[1.0])|\n",
            "|  109000.0|                  w|    7.49|  25000.0|           3.0| Fully Paid|     3.0|   305781.0|     9.0|    0.0|                 0.0|debt_consolidation|  20862.0|      54.3| 36 months|  Debt consolidation|     19.0|       Not Verified|   (50,[9],[1.0])|                 2001|1494.0| (34,[12],[1.0])|        (5,[0],[1.0])|          (1,[0],[1.0])|\n",
            "|  112000.0|                  w|   11.99|  18000.0|           5.0| Fully Paid|     4.0|   205067.0|    17.0|    0.0|                 0.0|debt_consolidation|  10711.0|      15.5| 60 months|  Debt consolidation|     27.0|       Not Verified|  (50,[12],[1.0])|                 1993|1604.0|  (34,[0],[1.0])|        (5,[0],[1.0])|          (1,[0],[1.0])|\n",
            "|   55000.0|                  w|   19.89|   8650.0|           2.0| Fully Paid|     0.0|    18926.0|    18.0|    1.0|                 1.0|debt_consolidation|   9568.0|      46.0| 36 months|  Debt consolidation|     19.0|           Verified|  (50,[18],[1.0])|                 2005|1354.0| (34,[22],[1.0])|        (5,[1],[1.0])|          (1,[0],[1.0])|\n",
            "|   65000.0|                  w|   12.88|  29900.0|           2.0| Fully Paid|     2.0|   220251.0|    15.0|    0.0|                 0.0|debt_consolidation|  31682.0|      46.7| 60 months|  Debt consolidation|     31.0|           Verified|  (50,[13],[1.0])|                 2004|1434.0|  (34,[3],[1.0])|        (5,[0],[1.0])|          (1,[0],[1.0])|\n",
            "|   48000.0|                  w|   14.85|  16000.0|           6.0| Fully Paid|     2.0|    31329.0|    11.0|    2.0|                 0.0|       credit_card|  19108.0|      29.6| 60 months|Credit card refin...|     19.0|       Not Verified|  (50,[26],[1.0])|                 1991|1374.0|  (34,[9],[1.0])|        (5,[0],[1.0])|          (1,[0],[1.0])|\n",
            "|  125000.0|                  w|   13.44|  28000.0|           4.0| Fully Paid|     0.0|    22780.0|     6.0|    0.0|                 0.0|debt_consolidation|  22780.0|      63.1| 36 months|  Debt consolidation|     22.0|    Source Verified|   (50,[2],[1.0])|                 2000|1394.0|  (34,[5],[1.0])|        (5,[2],[1.0])|          (1,[0],[1.0])|\n",
            "|   79000.0|                  w|   13.44|   5000.0|           1.0| Fully Paid|     0.0|    35653.0|     3.0|    0.0|                 0.0|       credit_card|   9441.0|     101.5| 36 months|Credit card refin...|      5.0|           Verified|  (50,[13],[1.0])|                 2011|1334.0|  (34,[5],[1.0])|        (5,[1],[1.0])|          (1,[0],[1.0])|\n",
            "|  100000.0|                  w|    7.49|   6000.0|           2.0| Fully Paid|     2.0|   116195.0|     9.0|    0.0|                 0.0|debt_consolidation|   8563.0|      72.0| 36 months|  Debt consolidation|     16.0|       Not Verified|   (50,[1],[1.0])|                 1994|1394.0| (34,[12],[1.0])|        (5,[0],[1.0])|          (1,[0],[1.0])|\n",
            "|   35000.0|                  w|   14.85|   4225.0|           1.0|Charged Off|     0.0|     4888.0|     6.0|    0.0|                 0.0|debt_consolidation|   1058.0|      24.6| 36 months|  Debt consolidation|      6.0|    Source Verified|  (50,[30],[1.0])|                 2011|1454.0|  (34,[9],[1.0])|        (5,[1],[1.0])|          (1,[0],[1.0])|\n",
            "|   65000.0|                  w|    5.32|  20000.0|           3.0| Fully Paid|     0.0|    15444.0|    12.0|    0.0|                 0.0|debt_consolidation|   2269.0|       3.0| 36 months|  Debt consolidation|     17.0|       Not Verified|   (50,[2],[1.0])|                 1991|1674.0| (34,[14],[1.0])|        (5,[2],[1.0])|          (1,[0],[1.0])|\n",
            "+----------+-------------------+--------+---------+--------------+-----------+--------+-----------+--------+-------+--------------------+------------------+---------+----------+----------+--------------------+---------+-------------------+-----------------+---------------------+------+----------------+---------------------+-----------------------+\n",
            "only showing top 20 rows\n",
            "\n"
          ]
        }
      ]
    },
    {
      "cell_type": "markdown",
      "source": [
        "initial_list_status"
      ],
      "metadata": {
        "id": "BDsnVIt_Unoo"
      }
    },
    {
      "cell_type": "code",
      "source": [
        "cat_var_analysis(df,\"initial_list_status\")"
      ],
      "metadata": {
        "colab": {
          "base_uri": "https://localhost:8080/"
        },
        "id": "nk_T8qfS-2So",
        "outputId": "d7c0f1f5-e5f3-4a35-fa39-08b1ddeace85"
      },
      "execution_count": null,
      "outputs": [
        {
          "output_type": "stream",
          "name": "stdout",
          "text": [
            "+-------------------+-----------+------+\n",
            "|initial_list_status|loan_status| count|\n",
            "+-------------------+-----------+------+\n",
            "|                  f|Charged Off| 86924|\n",
            "|                  f| Fully Paid|348582|\n",
            "|                  w|Charged Off|135932|\n",
            "|                  w| Fully Paid|543833|\n",
            "+-------------------+-----------+------+\n",
            "\n"
          ]
        }
      ]
    },
    {
      "cell_type": "code",
      "source": [
        "df = df.drop(\"initial_list_status\")"
      ],
      "metadata": {
        "id": "zsH7Fjr4UxIC"
      },
      "execution_count": null,
      "outputs": []
    },
    {
      "cell_type": "markdown",
      "source": [
        "int_rate"
      ],
      "metadata": {
        "id": "fPMRZxbEVDMo"
      }
    },
    {
      "cell_type": "code",
      "source": [
        "num_var_analysis(df,\"int_rate\")"
      ],
      "metadata": {
        "colab": {
          "base_uri": "https://localhost:8080/"
        },
        "id": "zEZXB7KMlIb7",
        "outputId": "c32ceeb0-8fd9-44ac-e22c-b893e8803f35"
      },
      "execution_count": null,
      "outputs": [
        {
          "output_type": "stream",
          "name": "stdout",
          "text": [
            "+-------+--------+\n",
            "|summary|int_rate|\n",
            "+-------+--------+\n",
            "|    25%|     9.8|\n",
            "|    75%|   16.02|\n",
            "+-------+--------+\n",
            "\n",
            "+-----------+------------------+\n",
            "|loan_status|     avg(int_rate)|\n",
            "+-----------+------------------+\n",
            "| Fully Paid|12.712413204616915|\n",
            "|Charged Off|15.844952794628382|\n",
            "+-----------+------------------+\n",
            "\n",
            "+-----------+---------------+\n",
            "|loan_status|count(int_rate)|\n",
            "+-----------+---------------+\n",
            "| Fully Paid|         892415|\n",
            "|Charged Off|         222856|\n",
            "+-----------+---------------+\n",
            "\n"
          ]
        }
      ]
    },
    {
      "cell_type": "markdown",
      "source": [
        "loan_amnt"
      ],
      "metadata": {
        "id": "XTKRF9rxWDFi"
      }
    },
    {
      "cell_type": "code",
      "source": [
        "num_var_analysis(df,\"loan_amnt\")"
      ],
      "metadata": {
        "colab": {
          "base_uri": "https://localhost:8080/"
        },
        "id": "gLxQGQkZVNg9",
        "outputId": "cfc954d0-a338-4753-b833-a4e73a88b35c"
      },
      "execution_count": null,
      "outputs": [
        {
          "output_type": "stream",
          "name": "stdout",
          "text": [
            "+-------+---------+\n",
            "|summary|loan_amnt|\n",
            "+-------+---------+\n",
            "|    25%|   8000.0|\n",
            "|    75%|  20000.0|\n",
            "+-------+---------+\n",
            "\n",
            "+-----------+------------------+\n",
            "|loan_status|    avg(loan_amnt)|\n",
            "+-----------+------------------+\n",
            "| Fully Paid|13866.884549228778|\n",
            "|Charged Off|15575.095465233155|\n",
            "+-----------+------------------+\n",
            "\n",
            "+-----------+----------------+\n",
            "|loan_status|count(loan_amnt)|\n",
            "+-----------+----------------+\n",
            "| Fully Paid|          892415|\n",
            "|Charged Off|          222856|\n",
            "+-----------+----------------+\n",
            "\n"
          ]
        }
      ]
    },
    {
      "cell_type": "code",
      "source": [
        "outlier_range = 20000.0+1.5*(20000.0-8000)\n",
        "df = df.filter(col(\"loan_amnt\")<outlier_range)"
      ],
      "metadata": {
        "id": "JCQ0VLxwXatY"
      },
      "execution_count": null,
      "outputs": []
    },
    {
      "cell_type": "markdown",
      "source": [
        "num_actv_bc_tl"
      ],
      "metadata": {
        "id": "aR5AEXkOYKXv"
      }
    },
    {
      "cell_type": "code",
      "source": [
        "num_var_analysis(df,\"num_actv_bc_tl\")"
      ],
      "metadata": {
        "colab": {
          "base_uri": "https://localhost:8080/"
        },
        "id": "Gw8bMm-bYSc_",
        "outputId": "bce4ed54-073d-453c-c11c-964f9000b21c"
      },
      "execution_count": null,
      "outputs": [
        {
          "output_type": "stream",
          "name": "stdout",
          "text": [
            "+-------+--------------+\n",
            "|summary|num_actv_bc_tl|\n",
            "+-------+--------------+\n",
            "|    25%|           2.0|\n",
            "|    75%|           5.0|\n",
            "+-------+--------------+\n",
            "\n",
            "+-----------+-------------------+\n",
            "|loan_status|avg(num_actv_bc_tl)|\n",
            "+-----------+-------------------+\n",
            "| Fully Paid| 3.5601719229947006|\n",
            "|Charged Off| 3.8175927929877718|\n",
            "+-----------+-------------------+\n",
            "\n",
            "+-----------+---------------------+\n",
            "|loan_status|count(num_actv_bc_tl)|\n",
            "+-----------+---------------------+\n",
            "| Fully Paid|               888770|\n",
            "|Charged Off|               221784|\n",
            "+-----------+---------------------+\n",
            "\n"
          ]
        }
      ]
    },
    {
      "cell_type": "code",
      "source": [
        "outlier_range = 5+1.5*(5-2)\n",
        "df = df.filter(col(\"num_actv_bc_tl\")<outlier_range)"
      ],
      "metadata": {
        "id": "7TuzDOZCYoEC"
      },
      "execution_count": null,
      "outputs": []
    },
    {
      "cell_type": "markdown",
      "source": [
        "mort_acc"
      ],
      "metadata": {
        "id": "QWHLSaIaZD2m"
      }
    },
    {
      "cell_type": "code",
      "source": [
        "num_var_analysis(df,\"mort_acc\")"
      ],
      "metadata": {
        "colab": {
          "base_uri": "https://localhost:8080/"
        },
        "id": "ulPKF2imZSiT",
        "outputId": "7444d626-c17c-49c0-ed30-474ce229ef86"
      },
      "execution_count": null,
      "outputs": [
        {
          "output_type": "stream",
          "name": "stdout",
          "text": [
            "+-------+--------+\n",
            "|summary|mort_acc|\n",
            "+-------+--------+\n",
            "|    25%|     0.0|\n",
            "|    75%|     3.0|\n",
            "+-------+--------+\n",
            "\n",
            "+-----------+------------------+\n",
            "|loan_status|     avg(mort_acc)|\n",
            "+-----------+------------------+\n",
            "| Fully Paid|1.6434758206767004|\n",
            "|Charged Off|1.3057824089283319|\n",
            "+-----------+------------------+\n",
            "\n",
            "+-----------+---------------+\n",
            "|loan_status|count(mort_acc)|\n",
            "+-----------+---------------+\n",
            "| Fully Paid|         873060|\n",
            "|Charged Off|         216121|\n",
            "+-----------+---------------+\n",
            "\n"
          ]
        }
      ]
    },
    {
      "cell_type": "code",
      "source": [
        "outlier_range = 3+2*(3-0)\n",
        "df = df.filter(col(\"mort_acc\")<outlier_range)"
      ],
      "metadata": {
        "id": "o7uwl_xFZoAs"
      },
      "execution_count": null,
      "outputs": []
    },
    {
      "cell_type": "markdown",
      "source": [
        "tot_cur_bal"
      ],
      "metadata": {
        "id": "DKDvRo1aaEtm"
      }
    },
    {
      "cell_type": "code",
      "source": [
        "num_var_analysis(df,\"tot_cur_bal\")"
      ],
      "metadata": {
        "colab": {
          "base_uri": "https://localhost:8080/"
        },
        "id": "oY6UNdj6Z6ZS",
        "outputId": "5b87a3b8-8c2b-4951-a540-ebb2a0fb4941"
      },
      "execution_count": null,
      "outputs": [
        {
          "output_type": "stream",
          "name": "stdout",
          "text": [
            "+-------+-----------+\n",
            "|summary|tot_cur_bal|\n",
            "+-------+-----------+\n",
            "|    25%|    29072.0|\n",
            "|    75%|   197540.0|\n",
            "+-------+-----------+\n",
            "\n",
            "+-----------+------------------+\n",
            "|loan_status|  avg(tot_cur_bal)|\n",
            "+-----------+------------------+\n",
            "| Fully Paid|131879.58764705612|\n",
            "|Charged Off|111967.76922684003|\n",
            "+-----------+------------------+\n",
            "\n",
            "+-----------+------------------+\n",
            "|loan_status|count(tot_cur_bal)|\n",
            "+-----------+------------------+\n",
            "| Fully Paid|            867696|\n",
            "|Charged Off|            215350|\n",
            "+-----------+------------------+\n",
            "\n"
          ]
        }
      ]
    },
    {
      "cell_type": "code",
      "source": [
        "outlier_range = 1000000\n",
        "df = df.filter(col(\"tot_cur_bal\")<outlier_range)"
      ],
      "metadata": {
        "id": "k4n7EpsqagYd"
      },
      "execution_count": null,
      "outputs": []
    },
    {
      "cell_type": "markdown",
      "source": [
        "open_acc"
      ],
      "metadata": {
        "id": "1UE6S-IxbbiM"
      }
    },
    {
      "cell_type": "code",
      "source": [
        "num_var_analysis(df,\"open_acc\")"
      ],
      "metadata": {
        "colab": {
          "base_uri": "https://localhost:8080/"
        },
        "id": "xlI7Xo6daxWw",
        "outputId": "4e23d163-0166-4b0d-8055-db5c557b435e"
      },
      "execution_count": null,
      "outputs": [
        {
          "output_type": "stream",
          "name": "stdout",
          "text": [
            "+-------+--------+\n",
            "|summary|open_acc|\n",
            "+-------+--------+\n",
            "|    25%|     8.0|\n",
            "|    75%|    14.0|\n",
            "+-------+--------+\n",
            "\n",
            "+-----------+------------------+\n",
            "|loan_status|     avg(open_acc)|\n",
            "+-----------+------------------+\n",
            "| Fully Paid|11.355555043227666|\n",
            "|Charged Off|11.761902992699374|\n",
            "+-----------+------------------+\n",
            "\n",
            "+-----------+---------------+\n",
            "|loan_status|count(open_acc)|\n",
            "+-----------+---------------+\n",
            "| Fully Paid|         867500|\n",
            "|Charged Off|         215324|\n",
            "+-----------+---------------+\n",
            "\n"
          ]
        }
      ]
    },
    {
      "cell_type": "markdown",
      "source": [
        " pub_rec"
      ],
      "metadata": {
        "id": "ECC9c-l2cE6d"
      }
    },
    {
      "cell_type": "code",
      "source": [
        "num_var_analysis(df,\"pub_rec\")"
      ],
      "metadata": {
        "colab": {
          "base_uri": "https://localhost:8080/"
        },
        "id": "ZK5by42ebgvp",
        "outputId": "c60836ba-1226-46f6-ee9a-129c4428e141"
      },
      "execution_count": null,
      "outputs": [
        {
          "output_type": "stream",
          "name": "stdout",
          "text": [
            "+-------+-------+\n",
            "|summary|pub_rec|\n",
            "+-------+-------+\n",
            "|    25%|    0.0|\n",
            "|    75%|    0.0|\n",
            "+-------+-------+\n",
            "\n",
            "+-----------+-------------------+\n",
            "|loan_status|       avg(pub_rec)|\n",
            "+-----------+-------------------+\n",
            "| Fully Paid|0.21158731988472623|\n",
            "|Charged Off|0.24683732421838717|\n",
            "+-----------+-------------------+\n",
            "\n",
            "+-----------+--------------+\n",
            "|loan_status|count(pub_rec)|\n",
            "+-----------+--------------+\n",
            "| Fully Paid|        867500|\n",
            "|Charged Off|        215324|\n",
            "+-----------+--------------+\n",
            "\n"
          ]
        }
      ]
    },
    {
      "cell_type": "markdown",
      "source": [
        "purpose"
      ],
      "metadata": {
        "id": "bFPz-gu9dw3q"
      }
    },
    {
      "cell_type": "code",
      "source": [
        "cat_var_analysis(df,\"purpose\")"
      ],
      "metadata": {
        "colab": {
          "base_uri": "https://localhost:8080/"
        },
        "id": "0Cx1TeoUeAgm",
        "outputId": "995482e1-fd75-47c7-9fc3-ed0364ab2456"
      },
      "execution_count": null,
      "outputs": [
        {
          "output_type": "stream",
          "name": "stdout",
          "text": [
            "+------------------+-----------+------+\n",
            "|           purpose|loan_status| count|\n",
            "+------------------+-----------+------+\n",
            "|               car|Charged Off|  1599|\n",
            "|               car| Fully Paid|  9223|\n",
            "|       credit_card|Charged Off| 39830|\n",
            "|       credit_card| Fully Paid|199603|\n",
            "|debt_consolidation|Charged Off|134597|\n",
            "|debt_consolidation| Fully Paid|505192|\n",
            "|       educational| Fully Paid|     1|\n",
            "|  home_improvement|Charged Off| 11687|\n",
            "|  home_improvement| Fully Paid| 53771|\n",
            "|             house|Charged Off|  1239|\n",
            "|             house| Fully Paid|  4167|\n",
            "|    major_purchase|Charged Off|  4286|\n",
            "|    major_purchase| Fully Paid| 17995|\n",
            "|           medical|Charged Off|  2583|\n",
            "|           medical| Fully Paid|  9551|\n",
            "|            moving|Charged Off|  1785|\n",
            "|            moving| Fully Paid|  5731|\n",
            "|             other|Charged Off| 12987|\n",
            "|             other| Fully Paid| 48351|\n",
            "|  renewable_energy|Charged Off|   164|\n",
            "+------------------+-----------+------+\n",
            "only showing top 20 rows\n",
            "\n"
          ]
        }
      ]
    },
    {
      "cell_type": "code",
      "source": [
        "df = one_hot_encode(df,\"purpose\")"
      ],
      "metadata": {
        "colab": {
          "base_uri": "https://localhost:8080/"
        },
        "id": "OnktG01YegD4",
        "outputId": "f2f4ea72-2f45-4a06-80c3-042a6fd6cc7b"
      },
      "execution_count": null,
      "outputs": [
        {
          "output_type": "stream",
          "name": "stdout",
          "text": [
            "+----------+--------+---------+--------------+-----------+--------+-----------+--------+-------+--------------------+---------+----------+----------+--------------------+---------+-------------------+-----------------+---------------------+------+----------------+---------------------+-----------------------+--------------+\n",
            "|annual_inc|int_rate|loan_amnt|num_actv_bc_tl|loan_status|mort_acc|tot_cur_bal|open_acc|pub_rec|pub_rec_bankruptcies|revol_bal|revol_util|      term|               title|total_acc|verification_status|addr_state_onehot|earliest_cr_line_year|  fico|sub_grade_onehot|home_ownership_onehot|application_type_onehot|purpose_onehot|\n",
            "+----------+--------+---------+--------------+-----------+--------+-----------+--------+-------+--------------------+---------+----------+----------+--------------------+---------+-------------------+-----------------+---------------------+------+----------------+---------------------+-----------------------+--------------+\n",
            "|   55000.0|   13.99|   3600.0|           2.0| Fully Paid|     1.0|   144904.0|     7.0|    0.0|                 0.0|   2765.0|      29.7| 36 months|  Debt consolidation|     13.0|       Not Verified|   (50,[6],[1.0])|                 2003|1354.0|  (34,[6],[1.0])|        (5,[0],[1.0])|          (1,[0],[1.0])|(13,[0],[1.0])|\n",
            "|   65000.0|   11.99|  24700.0|           5.0| Fully Paid|     4.0|   204396.0|    22.0|    0.0|                 0.0|  21470.0|      19.2| 36 months|            Business|     38.0|       Not Verified|  (50,[45],[1.0])|                 1999|1434.0|  (34,[0],[1.0])|        (5,[0],[1.0])|          (1,[0],[1.0])|(13,[7],[1.0])|\n",
            "|  104433.0|   22.45|  10400.0|           4.0| Fully Paid|     6.0|   331730.0|    12.0|    0.0|                 0.0|  21929.0|      64.5| 60 months|      Major purchase|     35.0|    Source Verified|   (50,[6],[1.0])|                 1998|1394.0| (34,[25],[1.0])|        (5,[0],[1.0])|          (1,[0],[1.0])|(13,[4],[1.0])|\n",
            "|   34000.0|   13.44|  11950.0|           2.0| Fully Paid|     0.0|    12798.0|     5.0|    0.0|                 0.0|   8822.0|      68.4| 36 months|  Debt consolidation|      6.0|    Source Verified|   (50,[8],[1.0])|                 1987|1384.0|  (34,[5],[1.0])|        (5,[1],[1.0])|          (1,[0],[1.0])|(13,[0],[1.0])|\n",
            "|   85000.0|    8.49|  20000.0|           2.0| Fully Paid|     3.0|   141601.0|     8.0|    0.0|                 0.0|    826.0|       5.7| 36 months|      Major purchase|     15.0|       Not Verified|  (50,[26],[1.0])|                 1999|1414.0|  (34,[8],[1.0])|        (5,[0],[1.0])|          (1,[0],[1.0])|(13,[4],[1.0])|\n",
            "|   85000.0|    6.49|  10000.0|           6.0| Fully Paid|     1.0|    27957.0|    14.0|    1.0|                 1.0|  10464.0|      34.5| 36 months|Credit card refin...|     23.0|       Not Verified|   (50,[6],[1.0])|                 2002|1374.0| (34,[18],[1.0])|        (5,[1],[1.0])|          (1,[0],[1.0])|(13,[1],[1.0])|\n",
            "|   42000.0|   11.48|   8000.0|           3.0| Fully Paid|     1.0|   199696.0|     8.0|    0.0|                 0.0|   7034.0|      39.1| 36 months|Credit card refin...|     18.0|       Not Verified|  (50,[37],[1.0])|                 1994|1404.0|  (34,[2],[1.0])|        (5,[0],[1.0])|          (1,[0],[1.0])|(13,[1],[1.0])|\n",
            "|  150000.0|   19.48|  18000.0|           6.0|Charged Off|     2.0|    36247.0|    18.0|    1.0|                 1.0|  14052.0|      40.7| 60 months|  Debt consolidation|     27.0|       Not Verified|   (50,[0],[1.0])|                 2005|1334.0| (34,[21],[1.0])|        (5,[1],[1.0])|          (1,[0],[1.0])|(13,[0],[1.0])|\n",
            "|   92000.0|    6.49|  28000.0|           7.0| Fully Paid|     2.0|   221110.0|    16.0|    0.0|                 0.0|  51507.0|      64.5| 36 months|  Debt consolidation|     24.0|       Not Verified|  (50,[10],[1.0])|                 1984|1444.0| (34,[18],[1.0])|        (5,[0],[1.0])|          (1,[0],[1.0])|(13,[0],[1.0])|\n",
            "|   60000.0|    7.49|   9600.0|           3.0| Fully Paid|     0.0|    55387.0|     7.0|    0.0|                 0.0|   7722.0|      59.4| 36 months|Credit card refin...|      9.0|       Not Verified|  (50,[26],[1.0])|                 1996|1394.0| (34,[12],[1.0])|        (5,[0],[1.0])|          (1,[0],[1.0])|(13,[1],[1.0])|\n",
            "|  109000.0|    7.49|  25000.0|           3.0| Fully Paid|     3.0|   305781.0|     9.0|    0.0|                 0.0|  20862.0|      54.3| 36 months|  Debt consolidation|     19.0|       Not Verified|   (50,[9],[1.0])|                 2001|1494.0| (34,[12],[1.0])|        (5,[0],[1.0])|          (1,[0],[1.0])|(13,[0],[1.0])|\n",
            "|  112000.0|   11.99|  18000.0|           5.0| Fully Paid|     4.0|   205067.0|    17.0|    0.0|                 0.0|  10711.0|      15.5| 60 months|  Debt consolidation|     27.0|       Not Verified|  (50,[12],[1.0])|                 1993|1604.0|  (34,[0],[1.0])|        (5,[0],[1.0])|          (1,[0],[1.0])|(13,[0],[1.0])|\n",
            "|   55000.0|   19.89|   8650.0|           2.0| Fully Paid|     0.0|    18926.0|    18.0|    1.0|                 1.0|   9568.0|      46.0| 36 months|  Debt consolidation|     19.0|           Verified|  (50,[18],[1.0])|                 2005|1354.0| (34,[22],[1.0])|        (5,[1],[1.0])|          (1,[0],[1.0])|(13,[0],[1.0])|\n",
            "|   65000.0|   12.88|  29900.0|           2.0| Fully Paid|     2.0|   220251.0|    15.0|    0.0|                 0.0|  31682.0|      46.7| 60 months|  Debt consolidation|     31.0|           Verified|  (50,[13],[1.0])|                 2004|1434.0|  (34,[3],[1.0])|        (5,[0],[1.0])|          (1,[0],[1.0])|(13,[0],[1.0])|\n",
            "|   48000.0|   14.85|  16000.0|           6.0| Fully Paid|     2.0|    31329.0|    11.0|    2.0|                 0.0|  19108.0|      29.6| 60 months|Credit card refin...|     19.0|       Not Verified|  (50,[26],[1.0])|                 1991|1374.0|  (34,[9],[1.0])|        (5,[0],[1.0])|          (1,[0],[1.0])|(13,[1],[1.0])|\n",
            "|  125000.0|   13.44|  28000.0|           4.0| Fully Paid|     0.0|    22780.0|     6.0|    0.0|                 0.0|  22780.0|      63.1| 36 months|  Debt consolidation|     22.0|    Source Verified|   (50,[2],[1.0])|                 2000|1394.0|  (34,[5],[1.0])|        (5,[2],[1.0])|          (1,[0],[1.0])|(13,[0],[1.0])|\n",
            "|   79000.0|   13.44|   5000.0|           1.0| Fully Paid|     0.0|    35653.0|     3.0|    0.0|                 0.0|   9441.0|     101.5| 36 months|Credit card refin...|      5.0|           Verified|  (50,[13],[1.0])|                 2011|1334.0|  (34,[5],[1.0])|        (5,[1],[1.0])|          (1,[0],[1.0])|(13,[1],[1.0])|\n",
            "|  100000.0|    7.49|   6000.0|           2.0| Fully Paid|     2.0|   116195.0|     9.0|    0.0|                 0.0|   8563.0|      72.0| 36 months|  Debt consolidation|     16.0|       Not Verified|   (50,[1],[1.0])|                 1994|1394.0| (34,[12],[1.0])|        (5,[0],[1.0])|          (1,[0],[1.0])|(13,[0],[1.0])|\n",
            "|   35000.0|   14.85|   4225.0|           1.0|Charged Off|     0.0|     4888.0|     6.0|    0.0|                 0.0|   1058.0|      24.6| 36 months|  Debt consolidation|      6.0|    Source Verified|  (50,[30],[1.0])|                 2011|1454.0|  (34,[9],[1.0])|        (5,[1],[1.0])|          (1,[0],[1.0])|(13,[0],[1.0])|\n",
            "|   65000.0|    5.32|  20000.0|           3.0| Fully Paid|     0.0|    15444.0|    12.0|    0.0|                 0.0|   2269.0|       3.0| 36 months|  Debt consolidation|     17.0|       Not Verified|   (50,[2],[1.0])|                 1991|1674.0| (34,[14],[1.0])|        (5,[2],[1.0])|          (1,[0],[1.0])|(13,[0],[1.0])|\n",
            "+----------+--------+---------+--------------+-----------+--------+-----------+--------+-------+--------------------+---------+----------+----------+--------------------+---------+-------------------+-----------------+---------------------+------+----------------+---------------------+-----------------------+--------------+\n",
            "only showing top 20 rows\n",
            "\n"
          ]
        }
      ]
    },
    {
      "cell_type": "markdown",
      "source": [
        "title"
      ],
      "metadata": {
        "id": "fTaCIeu1ce_F"
      }
    },
    {
      "cell_type": "code",
      "source": [
        "df.select(\"title\").distinct().show()"
      ],
      "metadata": {
        "colab": {
          "base_uri": "https://localhost:8080/"
        },
        "id": "_58Y8R0acj-j",
        "outputId": "078733ce-0194-4196-ba50-6baecae4f203"
      },
      "execution_count": null,
      "outputs": [
        {
          "output_type": "stream",
          "name": "stdout",
          "text": [
            "+--------------------+\n",
            "|               title|\n",
            "+--------------------+\n",
            "|      Major purchase|\n",
            "|             odymeds|\n",
            "|               Other|\n",
            "|Credit card refin...|\n",
            "|         Home buying|\n",
            "|    Home improvement|\n",
            "|            Business|\n",
            "|          Green loan|\n",
            "|            Vacation|\n",
            "|    Medical expenses|\n",
            "|       Car financing|\n",
            "|  Debt consolidation|\n",
            "|                SAVE|\n",
            "|Moving and reloca...|\n",
            "|Learning and trai...|\n",
            "|Paying off higher...|\n",
            "|Simple Loan Until...|\n",
            "|Trying to come ba...|\n",
            "|Prescription Drug...|\n",
            "|  Pay off Lowes Card|\n",
            "+--------------------+\n",
            "only showing top 20 rows\n",
            "\n"
          ]
        }
      ]
    },
    {
      "cell_type": "code",
      "source": [
        "df = df.drop(\"title\")"
      ],
      "metadata": {
        "id": "IhKisbDVfbqg"
      },
      "execution_count": null,
      "outputs": []
    },
    {
      "cell_type": "markdown",
      "source": [
        "term"
      ],
      "metadata": {
        "id": "OQFuLunVfUxa"
      }
    },
    {
      "cell_type": "code",
      "source": [
        "cat_var_analysis(df,\"term\")"
      ],
      "metadata": {
        "colab": {
          "base_uri": "https://localhost:8080/"
        },
        "id": "i1jGDQeberjY",
        "outputId": "35e4d622-1ca6-45c1-c72a-6ec4151ec793"
      },
      "execution_count": null,
      "outputs": [
        {
          "output_type": "stream",
          "name": "stdout",
          "text": [
            "+----------+-----------+------+\n",
            "|      term|loan_status| count|\n",
            "+----------+-----------+------+\n",
            "| 36 months|Charged Off|128657|\n",
            "| 36 months| Fully Paid|689963|\n",
            "| 60 months|Charged Off| 86667|\n",
            "| 60 months| Fully Paid|177537|\n",
            "+----------+-----------+------+\n",
            "\n"
          ]
        }
      ]
    },
    {
      "cell_type": "code",
      "source": [
        "df = one_hot_encode(df,\"term\")"
      ],
      "metadata": {
        "colab": {
          "base_uri": "https://localhost:8080/"
        },
        "id": "TqnLpC5gfjh5",
        "outputId": "70c390d7-9d19-4270-f2b2-5ee15f6977c9"
      },
      "execution_count": null,
      "outputs": [
        {
          "output_type": "stream",
          "name": "stdout",
          "text": [
            "+----------+--------+---------+--------------+-----------+--------+-----------+--------+-------+--------------------+---------+----------+---------+-------------------+-----------------+---------------------+------+----------------+---------------------+-----------------------+--------------+-------------+\n",
            "|annual_inc|int_rate|loan_amnt|num_actv_bc_tl|loan_status|mort_acc|tot_cur_bal|open_acc|pub_rec|pub_rec_bankruptcies|revol_bal|revol_util|total_acc|verification_status|addr_state_onehot|earliest_cr_line_year|  fico|sub_grade_onehot|home_ownership_onehot|application_type_onehot|purpose_onehot|  term_onehot|\n",
            "+----------+--------+---------+--------------+-----------+--------+-----------+--------+-------+--------------------+---------+----------+---------+-------------------+-----------------+---------------------+------+----------------+---------------------+-----------------------+--------------+-------------+\n",
            "|   55000.0|   13.99|   3600.0|           2.0| Fully Paid|     1.0|   144904.0|     7.0|    0.0|                 0.0|   2765.0|      29.7|     13.0|       Not Verified|   (50,[6],[1.0])|                 2003|1354.0|  (34,[6],[1.0])|        (5,[0],[1.0])|          (1,[0],[1.0])|(13,[0],[1.0])|(1,[0],[1.0])|\n",
            "|   65000.0|   11.99|  24700.0|           5.0| Fully Paid|     4.0|   204396.0|    22.0|    0.0|                 0.0|  21470.0|      19.2|     38.0|       Not Verified|  (50,[45],[1.0])|                 1999|1434.0|  (34,[0],[1.0])|        (5,[0],[1.0])|          (1,[0],[1.0])|(13,[7],[1.0])|(1,[0],[1.0])|\n",
            "|  104433.0|   22.45|  10400.0|           4.0| Fully Paid|     6.0|   331730.0|    12.0|    0.0|                 0.0|  21929.0|      64.5|     35.0|    Source Verified|   (50,[6],[1.0])|                 1998|1394.0| (34,[25],[1.0])|        (5,[0],[1.0])|          (1,[0],[1.0])|(13,[4],[1.0])|    (1,[],[])|\n",
            "|   34000.0|   13.44|  11950.0|           2.0| Fully Paid|     0.0|    12798.0|     5.0|    0.0|                 0.0|   8822.0|      68.4|      6.0|    Source Verified|   (50,[8],[1.0])|                 1987|1384.0|  (34,[5],[1.0])|        (5,[1],[1.0])|          (1,[0],[1.0])|(13,[0],[1.0])|(1,[0],[1.0])|\n",
            "|   85000.0|    8.49|  20000.0|           2.0| Fully Paid|     3.0|   141601.0|     8.0|    0.0|                 0.0|    826.0|       5.7|     15.0|       Not Verified|  (50,[26],[1.0])|                 1999|1414.0|  (34,[8],[1.0])|        (5,[0],[1.0])|          (1,[0],[1.0])|(13,[4],[1.0])|(1,[0],[1.0])|\n",
            "|   85000.0|    6.49|  10000.0|           6.0| Fully Paid|     1.0|    27957.0|    14.0|    1.0|                 1.0|  10464.0|      34.5|     23.0|       Not Verified|   (50,[6],[1.0])|                 2002|1374.0| (34,[18],[1.0])|        (5,[1],[1.0])|          (1,[0],[1.0])|(13,[1],[1.0])|(1,[0],[1.0])|\n",
            "|   42000.0|   11.48|   8000.0|           3.0| Fully Paid|     1.0|   199696.0|     8.0|    0.0|                 0.0|   7034.0|      39.1|     18.0|       Not Verified|  (50,[37],[1.0])|                 1994|1404.0|  (34,[2],[1.0])|        (5,[0],[1.0])|          (1,[0],[1.0])|(13,[1],[1.0])|(1,[0],[1.0])|\n",
            "|  150000.0|   19.48|  18000.0|           6.0|Charged Off|     2.0|    36247.0|    18.0|    1.0|                 1.0|  14052.0|      40.7|     27.0|       Not Verified|   (50,[0],[1.0])|                 2005|1334.0| (34,[21],[1.0])|        (5,[1],[1.0])|          (1,[0],[1.0])|(13,[0],[1.0])|    (1,[],[])|\n",
            "|   92000.0|    6.49|  28000.0|           7.0| Fully Paid|     2.0|   221110.0|    16.0|    0.0|                 0.0|  51507.0|      64.5|     24.0|       Not Verified|  (50,[10],[1.0])|                 1984|1444.0| (34,[18],[1.0])|        (5,[0],[1.0])|          (1,[0],[1.0])|(13,[0],[1.0])|(1,[0],[1.0])|\n",
            "|   60000.0|    7.49|   9600.0|           3.0| Fully Paid|     0.0|    55387.0|     7.0|    0.0|                 0.0|   7722.0|      59.4|      9.0|       Not Verified|  (50,[26],[1.0])|                 1996|1394.0| (34,[12],[1.0])|        (5,[0],[1.0])|          (1,[0],[1.0])|(13,[1],[1.0])|(1,[0],[1.0])|\n",
            "|  109000.0|    7.49|  25000.0|           3.0| Fully Paid|     3.0|   305781.0|     9.0|    0.0|                 0.0|  20862.0|      54.3|     19.0|       Not Verified|   (50,[9],[1.0])|                 2001|1494.0| (34,[12],[1.0])|        (5,[0],[1.0])|          (1,[0],[1.0])|(13,[0],[1.0])|(1,[0],[1.0])|\n",
            "|  112000.0|   11.99|  18000.0|           5.0| Fully Paid|     4.0|   205067.0|    17.0|    0.0|                 0.0|  10711.0|      15.5|     27.0|       Not Verified|  (50,[12],[1.0])|                 1993|1604.0|  (34,[0],[1.0])|        (5,[0],[1.0])|          (1,[0],[1.0])|(13,[0],[1.0])|    (1,[],[])|\n",
            "|   55000.0|   19.89|   8650.0|           2.0| Fully Paid|     0.0|    18926.0|    18.0|    1.0|                 1.0|   9568.0|      46.0|     19.0|           Verified|  (50,[18],[1.0])|                 2005|1354.0| (34,[22],[1.0])|        (5,[1],[1.0])|          (1,[0],[1.0])|(13,[0],[1.0])|(1,[0],[1.0])|\n",
            "|   65000.0|   12.88|  29900.0|           2.0| Fully Paid|     2.0|   220251.0|    15.0|    0.0|                 0.0|  31682.0|      46.7|     31.0|           Verified|  (50,[13],[1.0])|                 2004|1434.0|  (34,[3],[1.0])|        (5,[0],[1.0])|          (1,[0],[1.0])|(13,[0],[1.0])|    (1,[],[])|\n",
            "|   48000.0|   14.85|  16000.0|           6.0| Fully Paid|     2.0|    31329.0|    11.0|    2.0|                 0.0|  19108.0|      29.6|     19.0|       Not Verified|  (50,[26],[1.0])|                 1991|1374.0|  (34,[9],[1.0])|        (5,[0],[1.0])|          (1,[0],[1.0])|(13,[1],[1.0])|    (1,[],[])|\n",
            "|  125000.0|   13.44|  28000.0|           4.0| Fully Paid|     0.0|    22780.0|     6.0|    0.0|                 0.0|  22780.0|      63.1|     22.0|    Source Verified|   (50,[2],[1.0])|                 2000|1394.0|  (34,[5],[1.0])|        (5,[2],[1.0])|          (1,[0],[1.0])|(13,[0],[1.0])|(1,[0],[1.0])|\n",
            "|   79000.0|   13.44|   5000.0|           1.0| Fully Paid|     0.0|    35653.0|     3.0|    0.0|                 0.0|   9441.0|     101.5|      5.0|           Verified|  (50,[13],[1.0])|                 2011|1334.0|  (34,[5],[1.0])|        (5,[1],[1.0])|          (1,[0],[1.0])|(13,[1],[1.0])|(1,[0],[1.0])|\n",
            "|  100000.0|    7.49|   6000.0|           2.0| Fully Paid|     2.0|   116195.0|     9.0|    0.0|                 0.0|   8563.0|      72.0|     16.0|       Not Verified|   (50,[1],[1.0])|                 1994|1394.0| (34,[12],[1.0])|        (5,[0],[1.0])|          (1,[0],[1.0])|(13,[0],[1.0])|(1,[0],[1.0])|\n",
            "|   35000.0|   14.85|   4225.0|           1.0|Charged Off|     0.0|     4888.0|     6.0|    0.0|                 0.0|   1058.0|      24.6|      6.0|    Source Verified|  (50,[30],[1.0])|                 2011|1454.0|  (34,[9],[1.0])|        (5,[1],[1.0])|          (1,[0],[1.0])|(13,[0],[1.0])|(1,[0],[1.0])|\n",
            "|   65000.0|    5.32|  20000.0|           3.0| Fully Paid|     0.0|    15444.0|    12.0|    0.0|                 0.0|   2269.0|       3.0|     17.0|       Not Verified|   (50,[2],[1.0])|                 1991|1674.0| (34,[14],[1.0])|        (5,[2],[1.0])|          (1,[0],[1.0])|(13,[0],[1.0])|(1,[0],[1.0])|\n",
            "+----------+--------+---------+--------------+-----------+--------+-----------+--------+-------+--------------------+---------+----------+---------+-------------------+-----------------+---------------------+------+----------------+---------------------+-----------------------+--------------+-------------+\n",
            "only showing top 20 rows\n",
            "\n"
          ]
        }
      ]
    },
    {
      "cell_type": "markdown",
      "source": [
        "revol_bal"
      ],
      "metadata": {
        "id": "K8Pgy-nCgDb4"
      }
    },
    {
      "cell_type": "code",
      "source": [
        "num_var_analysis(df,\"revol_bal\")"
      ],
      "metadata": {
        "colab": {
          "base_uri": "https://localhost:8080/"
        },
        "id": "sjD25RiMggFK",
        "outputId": "ef83cc2d-3096-4f38-997d-89e38d4b13a5"
      },
      "execution_count": null,
      "outputs": [
        {
          "output_type": "stream",
          "name": "stdout",
          "text": [
            "+-------+---------+\n",
            "|summary|revol_bal|\n",
            "+-------+---------+\n",
            "|    25%|   5867.0|\n",
            "|    75%|  18479.0|\n",
            "+-------+---------+\n",
            "\n",
            "+-----------+------------------+\n",
            "|loan_status|    avg(revol_bal)|\n",
            "+-----------+------------------+\n",
            "| Fully Paid|14687.719078962537|\n",
            "|Charged Off|14161.315612751017|\n",
            "+-----------+------------------+\n",
            "\n",
            "+-----------+----------------+\n",
            "|loan_status|count(revol_bal)|\n",
            "+-----------+----------------+\n",
            "| Fully Paid|          867500|\n",
            "|Charged Off|          215324|\n",
            "+-----------+----------------+\n",
            "\n"
          ]
        }
      ]
    },
    {
      "cell_type": "markdown",
      "source": [
        "revol_util"
      ],
      "metadata": {
        "id": "f-dVLDXZg3yf"
      }
    },
    {
      "cell_type": "code",
      "source": [
        "num_var_analysis(df,\"revol_util\")"
      ],
      "metadata": {
        "colab": {
          "base_uri": "https://localhost:8080/"
        },
        "id": "s_1w_jvwhap_",
        "outputId": "dfebd9af-e315-44ee-f164-371d917a7797"
      },
      "execution_count": null,
      "outputs": [
        {
          "output_type": "stream",
          "name": "stdout",
          "text": [
            "+-------+----------+\n",
            "|summary|revol_util|\n",
            "+-------+----------+\n",
            "|    25%|      33.8|\n",
            "|    75%|      70.5|\n",
            "+-------+----------+\n",
            "\n",
            "+-----------+-----------------+\n",
            "|loan_status|  avg(revol_util)|\n",
            "+-----------+-----------------+\n",
            "| Fully Paid|51.19093648415006|\n",
            "|Charged Off|54.79157037766334|\n",
            "+-----------+-----------------+\n",
            "\n",
            "+-----------+-----------------+\n",
            "|loan_status|count(revol_util)|\n",
            "+-----------+-----------------+\n",
            "| Fully Paid|           867500|\n",
            "|Charged Off|           215324|\n",
            "+-----------+-----------------+\n",
            "\n"
          ]
        }
      ]
    },
    {
      "cell_type": "code",
      "source": [
        "outlier_range = 70.5+2*(70.5-33.8)\n",
        "df = df.filter(col(\"revol_util\")<outlier_range)"
      ],
      "metadata": {
        "id": "0VxVgz97hyN6"
      },
      "execution_count": null,
      "outputs": []
    },
    {
      "cell_type": "markdown",
      "source": [
        "verification_status"
      ],
      "metadata": {
        "id": "TVxE7LX1iOQc"
      }
    },
    {
      "cell_type": "code",
      "source": [
        "cat_var_analysis(df,\"verification_status\")"
      ],
      "metadata": {
        "colab": {
          "base_uri": "https://localhost:8080/"
        },
        "id": "l_iXLlbViNa1",
        "outputId": "864ae9c0-470e-434b-cd5f-3b4f506410d5"
      },
      "execution_count": null,
      "outputs": [
        {
          "output_type": "stream",
          "name": "stdout",
          "text": [
            "+-------------------+-----------+------+\n",
            "|verification_status|loan_status| count|\n",
            "+-------------------+-----------+------+\n",
            "|       Not Verified|Charged Off| 49238|\n",
            "|       Not Verified| Fully Paid|291757|\n",
            "|    Source Verified|Charged Off| 92729|\n",
            "|    Source Verified| Fully Paid|343048|\n",
            "|           Verified|Charged Off| 73350|\n",
            "|           Verified| Fully Paid|232683|\n",
            "+-------------------+-----------+------+\n",
            "\n"
          ]
        }
      ]
    },
    {
      "cell_type": "code",
      "source": [
        "df = one_hot_encode(df,\"verification_status\")"
      ],
      "metadata": {
        "colab": {
          "base_uri": "https://localhost:8080/"
        },
        "id": "h9lj_v3uiDF_",
        "outputId": "2c6ee157-42f7-4f9d-e733-b3fd876d8ebd"
      },
      "execution_count": null,
      "outputs": [
        {
          "output_type": "stream",
          "name": "stdout",
          "text": [
            "+----------+--------+---------+--------------+-----------+--------+-----------+--------+-------+--------------------+---------+----------+---------+-----------------+---------------------+------+----------------+---------------------+-----------------------+--------------+-------------+--------------------------+\n",
            "|annual_inc|int_rate|loan_amnt|num_actv_bc_tl|loan_status|mort_acc|tot_cur_bal|open_acc|pub_rec|pub_rec_bankruptcies|revol_bal|revol_util|total_acc|addr_state_onehot|earliest_cr_line_year|  fico|sub_grade_onehot|home_ownership_onehot|application_type_onehot|purpose_onehot|  term_onehot|verification_status_onehot|\n",
            "+----------+--------+---------+--------------+-----------+--------+-----------+--------+-------+--------------------+---------+----------+---------+-----------------+---------------------+------+----------------+---------------------+-----------------------+--------------+-------------+--------------------------+\n",
            "|   55000.0|   13.99|   3600.0|           2.0| Fully Paid|     1.0|   144904.0|     7.0|    0.0|                 0.0|   2765.0|      29.7|     13.0|   (50,[6],[1.0])|                 2003|1354.0|  (34,[6],[1.0])|        (5,[0],[1.0])|          (1,[0],[1.0])|(13,[0],[1.0])|(1,[0],[1.0])|             (2,[1],[1.0])|\n",
            "|   65000.0|   11.99|  24700.0|           5.0| Fully Paid|     4.0|   204396.0|    22.0|    0.0|                 0.0|  21470.0|      19.2|     38.0|  (50,[45],[1.0])|                 1999|1434.0|  (34,[0],[1.0])|        (5,[0],[1.0])|          (1,[0],[1.0])|(13,[7],[1.0])|(1,[0],[1.0])|             (2,[1],[1.0])|\n",
            "|  104433.0|   22.45|  10400.0|           4.0| Fully Paid|     6.0|   331730.0|    12.0|    0.0|                 0.0|  21929.0|      64.5|     35.0|   (50,[6],[1.0])|                 1998|1394.0| (34,[25],[1.0])|        (5,[0],[1.0])|          (1,[0],[1.0])|(13,[4],[1.0])|    (1,[],[])|             (2,[0],[1.0])|\n",
            "|   34000.0|   13.44|  11950.0|           2.0| Fully Paid|     0.0|    12798.0|     5.0|    0.0|                 0.0|   8822.0|      68.4|      6.0|   (50,[8],[1.0])|                 1987|1384.0|  (34,[5],[1.0])|        (5,[1],[1.0])|          (1,[0],[1.0])|(13,[0],[1.0])|(1,[0],[1.0])|             (2,[0],[1.0])|\n",
            "|   85000.0|    8.49|  20000.0|           2.0| Fully Paid|     3.0|   141601.0|     8.0|    0.0|                 0.0|    826.0|       5.7|     15.0|  (50,[26],[1.0])|                 1999|1414.0|  (34,[8],[1.0])|        (5,[0],[1.0])|          (1,[0],[1.0])|(13,[4],[1.0])|(1,[0],[1.0])|             (2,[1],[1.0])|\n",
            "|   85000.0|    6.49|  10000.0|           6.0| Fully Paid|     1.0|    27957.0|    14.0|    1.0|                 1.0|  10464.0|      34.5|     23.0|   (50,[6],[1.0])|                 2002|1374.0| (34,[18],[1.0])|        (5,[1],[1.0])|          (1,[0],[1.0])|(13,[1],[1.0])|(1,[0],[1.0])|             (2,[1],[1.0])|\n",
            "|   42000.0|   11.48|   8000.0|           3.0| Fully Paid|     1.0|   199696.0|     8.0|    0.0|                 0.0|   7034.0|      39.1|     18.0|  (50,[37],[1.0])|                 1994|1404.0|  (34,[2],[1.0])|        (5,[0],[1.0])|          (1,[0],[1.0])|(13,[1],[1.0])|(1,[0],[1.0])|             (2,[1],[1.0])|\n",
            "|  150000.0|   19.48|  18000.0|           6.0|Charged Off|     2.0|    36247.0|    18.0|    1.0|                 1.0|  14052.0|      40.7|     27.0|   (50,[0],[1.0])|                 2005|1334.0| (34,[21],[1.0])|        (5,[1],[1.0])|          (1,[0],[1.0])|(13,[0],[1.0])|    (1,[],[])|             (2,[1],[1.0])|\n",
            "|   92000.0|    6.49|  28000.0|           7.0| Fully Paid|     2.0|   221110.0|    16.0|    0.0|                 0.0|  51507.0|      64.5|     24.0|  (50,[10],[1.0])|                 1984|1444.0| (34,[18],[1.0])|        (5,[0],[1.0])|          (1,[0],[1.0])|(13,[0],[1.0])|(1,[0],[1.0])|             (2,[1],[1.0])|\n",
            "|   60000.0|    7.49|   9600.0|           3.0| Fully Paid|     0.0|    55387.0|     7.0|    0.0|                 0.0|   7722.0|      59.4|      9.0|  (50,[26],[1.0])|                 1996|1394.0| (34,[12],[1.0])|        (5,[0],[1.0])|          (1,[0],[1.0])|(13,[1],[1.0])|(1,[0],[1.0])|             (2,[1],[1.0])|\n",
            "|  109000.0|    7.49|  25000.0|           3.0| Fully Paid|     3.0|   305781.0|     9.0|    0.0|                 0.0|  20862.0|      54.3|     19.0|   (50,[9],[1.0])|                 2001|1494.0| (34,[12],[1.0])|        (5,[0],[1.0])|          (1,[0],[1.0])|(13,[0],[1.0])|(1,[0],[1.0])|             (2,[1],[1.0])|\n",
            "|  112000.0|   11.99|  18000.0|           5.0| Fully Paid|     4.0|   205067.0|    17.0|    0.0|                 0.0|  10711.0|      15.5|     27.0|  (50,[12],[1.0])|                 1993|1604.0|  (34,[0],[1.0])|        (5,[0],[1.0])|          (1,[0],[1.0])|(13,[0],[1.0])|    (1,[],[])|             (2,[1],[1.0])|\n",
            "|   55000.0|   19.89|   8650.0|           2.0| Fully Paid|     0.0|    18926.0|    18.0|    1.0|                 1.0|   9568.0|      46.0|     19.0|  (50,[18],[1.0])|                 2005|1354.0| (34,[22],[1.0])|        (5,[1],[1.0])|          (1,[0],[1.0])|(13,[0],[1.0])|(1,[0],[1.0])|                 (2,[],[])|\n",
            "|   65000.0|   12.88|  29900.0|           2.0| Fully Paid|     2.0|   220251.0|    15.0|    0.0|                 0.0|  31682.0|      46.7|     31.0|  (50,[13],[1.0])|                 2004|1434.0|  (34,[3],[1.0])|        (5,[0],[1.0])|          (1,[0],[1.0])|(13,[0],[1.0])|    (1,[],[])|                 (2,[],[])|\n",
            "|   48000.0|   14.85|  16000.0|           6.0| Fully Paid|     2.0|    31329.0|    11.0|    2.0|                 0.0|  19108.0|      29.6|     19.0|  (50,[26],[1.0])|                 1991|1374.0|  (34,[9],[1.0])|        (5,[0],[1.0])|          (1,[0],[1.0])|(13,[1],[1.0])|    (1,[],[])|             (2,[1],[1.0])|\n",
            "|  125000.0|   13.44|  28000.0|           4.0| Fully Paid|     0.0|    22780.0|     6.0|    0.0|                 0.0|  22780.0|      63.1|     22.0|   (50,[2],[1.0])|                 2000|1394.0|  (34,[5],[1.0])|        (5,[2],[1.0])|          (1,[0],[1.0])|(13,[0],[1.0])|(1,[0],[1.0])|             (2,[0],[1.0])|\n",
            "|   79000.0|   13.44|   5000.0|           1.0| Fully Paid|     0.0|    35653.0|     3.0|    0.0|                 0.0|   9441.0|     101.5|      5.0|  (50,[13],[1.0])|                 2011|1334.0|  (34,[5],[1.0])|        (5,[1],[1.0])|          (1,[0],[1.0])|(13,[1],[1.0])|(1,[0],[1.0])|                 (2,[],[])|\n",
            "|  100000.0|    7.49|   6000.0|           2.0| Fully Paid|     2.0|   116195.0|     9.0|    0.0|                 0.0|   8563.0|      72.0|     16.0|   (50,[1],[1.0])|                 1994|1394.0| (34,[12],[1.0])|        (5,[0],[1.0])|          (1,[0],[1.0])|(13,[0],[1.0])|(1,[0],[1.0])|             (2,[1],[1.0])|\n",
            "|   35000.0|   14.85|   4225.0|           1.0|Charged Off|     0.0|     4888.0|     6.0|    0.0|                 0.0|   1058.0|      24.6|      6.0|  (50,[30],[1.0])|                 2011|1454.0|  (34,[9],[1.0])|        (5,[1],[1.0])|          (1,[0],[1.0])|(13,[0],[1.0])|(1,[0],[1.0])|             (2,[0],[1.0])|\n",
            "|   65000.0|    5.32|  20000.0|           3.0| Fully Paid|     0.0|    15444.0|    12.0|    0.0|                 0.0|   2269.0|       3.0|     17.0|   (50,[2],[1.0])|                 1991|1674.0| (34,[14],[1.0])|        (5,[2],[1.0])|          (1,[0],[1.0])|(13,[0],[1.0])|(1,[0],[1.0])|             (2,[1],[1.0])|\n",
            "+----------+--------+---------+--------------+-----------+--------+-----------+--------+-------+--------------------+---------+----------+---------+-----------------+---------------------+------+----------------+---------------------+-----------------------+--------------+-------------+--------------------------+\n",
            "only showing top 20 rows\n",
            "\n"
          ]
        }
      ]
    },
    {
      "cell_type": "code",
      "source": [
        "df.show()"
      ],
      "metadata": {
        "colab": {
          "base_uri": "https://localhost:8080/"
        },
        "id": "xhFuQU1CiqgJ",
        "outputId": "ce6fbb03-436e-4b11-d816-c174d18199b2"
      },
      "execution_count": null,
      "outputs": [
        {
          "output_type": "stream",
          "name": "stdout",
          "text": [
            "+----------+--------+---------+--------------+-----------+--------+-----------+--------+-------+--------------------+---------+----------+---------+-----------------+---------------------+------+----------------+---------------------+-----------------------+--------------+-------------+--------------------------+\n",
            "|annual_inc|int_rate|loan_amnt|num_actv_bc_tl|loan_status|mort_acc|tot_cur_bal|open_acc|pub_rec|pub_rec_bankruptcies|revol_bal|revol_util|total_acc|addr_state_onehot|earliest_cr_line_year|  fico|sub_grade_onehot|home_ownership_onehot|application_type_onehot|purpose_onehot|  term_onehot|verification_status_onehot|\n",
            "+----------+--------+---------+--------------+-----------+--------+-----------+--------+-------+--------------------+---------+----------+---------+-----------------+---------------------+------+----------------+---------------------+-----------------------+--------------+-------------+--------------------------+\n",
            "|   55000.0|   13.99|   3600.0|           2.0| Fully Paid|     1.0|   144904.0|     7.0|    0.0|                 0.0|   2765.0|      29.7|     13.0|   (50,[6],[1.0])|                 2003|1354.0|  (34,[6],[1.0])|        (5,[0],[1.0])|          (1,[0],[1.0])|(13,[0],[1.0])|(1,[0],[1.0])|             (2,[1],[1.0])|\n",
            "|   65000.0|   11.99|  24700.0|           5.0| Fully Paid|     4.0|   204396.0|    22.0|    0.0|                 0.0|  21470.0|      19.2|     38.0|  (50,[45],[1.0])|                 1999|1434.0|  (34,[0],[1.0])|        (5,[0],[1.0])|          (1,[0],[1.0])|(13,[7],[1.0])|(1,[0],[1.0])|             (2,[1],[1.0])|\n",
            "|  104433.0|   22.45|  10400.0|           4.0| Fully Paid|     6.0|   331730.0|    12.0|    0.0|                 0.0|  21929.0|      64.5|     35.0|   (50,[6],[1.0])|                 1998|1394.0| (34,[25],[1.0])|        (5,[0],[1.0])|          (1,[0],[1.0])|(13,[4],[1.0])|    (1,[],[])|             (2,[0],[1.0])|\n",
            "|   34000.0|   13.44|  11950.0|           2.0| Fully Paid|     0.0|    12798.0|     5.0|    0.0|                 0.0|   8822.0|      68.4|      6.0|   (50,[8],[1.0])|                 1987|1384.0|  (34,[5],[1.0])|        (5,[1],[1.0])|          (1,[0],[1.0])|(13,[0],[1.0])|(1,[0],[1.0])|             (2,[0],[1.0])|\n",
            "|   85000.0|    8.49|  20000.0|           2.0| Fully Paid|     3.0|   141601.0|     8.0|    0.0|                 0.0|    826.0|       5.7|     15.0|  (50,[26],[1.0])|                 1999|1414.0|  (34,[8],[1.0])|        (5,[0],[1.0])|          (1,[0],[1.0])|(13,[4],[1.0])|(1,[0],[1.0])|             (2,[1],[1.0])|\n",
            "|   85000.0|    6.49|  10000.0|           6.0| Fully Paid|     1.0|    27957.0|    14.0|    1.0|                 1.0|  10464.0|      34.5|     23.0|   (50,[6],[1.0])|                 2002|1374.0| (34,[18],[1.0])|        (5,[1],[1.0])|          (1,[0],[1.0])|(13,[1],[1.0])|(1,[0],[1.0])|             (2,[1],[1.0])|\n",
            "|   42000.0|   11.48|   8000.0|           3.0| Fully Paid|     1.0|   199696.0|     8.0|    0.0|                 0.0|   7034.0|      39.1|     18.0|  (50,[37],[1.0])|                 1994|1404.0|  (34,[2],[1.0])|        (5,[0],[1.0])|          (1,[0],[1.0])|(13,[1],[1.0])|(1,[0],[1.0])|             (2,[1],[1.0])|\n",
            "|  150000.0|   19.48|  18000.0|           6.0|Charged Off|     2.0|    36247.0|    18.0|    1.0|                 1.0|  14052.0|      40.7|     27.0|   (50,[0],[1.0])|                 2005|1334.0| (34,[21],[1.0])|        (5,[1],[1.0])|          (1,[0],[1.0])|(13,[0],[1.0])|    (1,[],[])|             (2,[1],[1.0])|\n",
            "|   92000.0|    6.49|  28000.0|           7.0| Fully Paid|     2.0|   221110.0|    16.0|    0.0|                 0.0|  51507.0|      64.5|     24.0|  (50,[10],[1.0])|                 1984|1444.0| (34,[18],[1.0])|        (5,[0],[1.0])|          (1,[0],[1.0])|(13,[0],[1.0])|(1,[0],[1.0])|             (2,[1],[1.0])|\n",
            "|   60000.0|    7.49|   9600.0|           3.0| Fully Paid|     0.0|    55387.0|     7.0|    0.0|                 0.0|   7722.0|      59.4|      9.0|  (50,[26],[1.0])|                 1996|1394.0| (34,[12],[1.0])|        (5,[0],[1.0])|          (1,[0],[1.0])|(13,[1],[1.0])|(1,[0],[1.0])|             (2,[1],[1.0])|\n",
            "|  109000.0|    7.49|  25000.0|           3.0| Fully Paid|     3.0|   305781.0|     9.0|    0.0|                 0.0|  20862.0|      54.3|     19.0|   (50,[9],[1.0])|                 2001|1494.0| (34,[12],[1.0])|        (5,[0],[1.0])|          (1,[0],[1.0])|(13,[0],[1.0])|(1,[0],[1.0])|             (2,[1],[1.0])|\n",
            "|  112000.0|   11.99|  18000.0|           5.0| Fully Paid|     4.0|   205067.0|    17.0|    0.0|                 0.0|  10711.0|      15.5|     27.0|  (50,[12],[1.0])|                 1993|1604.0|  (34,[0],[1.0])|        (5,[0],[1.0])|          (1,[0],[1.0])|(13,[0],[1.0])|    (1,[],[])|             (2,[1],[1.0])|\n",
            "|   55000.0|   19.89|   8650.0|           2.0| Fully Paid|     0.0|    18926.0|    18.0|    1.0|                 1.0|   9568.0|      46.0|     19.0|  (50,[18],[1.0])|                 2005|1354.0| (34,[22],[1.0])|        (5,[1],[1.0])|          (1,[0],[1.0])|(13,[0],[1.0])|(1,[0],[1.0])|                 (2,[],[])|\n",
            "|   65000.0|   12.88|  29900.0|           2.0| Fully Paid|     2.0|   220251.0|    15.0|    0.0|                 0.0|  31682.0|      46.7|     31.0|  (50,[13],[1.0])|                 2004|1434.0|  (34,[3],[1.0])|        (5,[0],[1.0])|          (1,[0],[1.0])|(13,[0],[1.0])|    (1,[],[])|                 (2,[],[])|\n",
            "|   48000.0|   14.85|  16000.0|           6.0| Fully Paid|     2.0|    31329.0|    11.0|    2.0|                 0.0|  19108.0|      29.6|     19.0|  (50,[26],[1.0])|                 1991|1374.0|  (34,[9],[1.0])|        (5,[0],[1.0])|          (1,[0],[1.0])|(13,[1],[1.0])|    (1,[],[])|             (2,[1],[1.0])|\n",
            "|  125000.0|   13.44|  28000.0|           4.0| Fully Paid|     0.0|    22780.0|     6.0|    0.0|                 0.0|  22780.0|      63.1|     22.0|   (50,[2],[1.0])|                 2000|1394.0|  (34,[5],[1.0])|        (5,[2],[1.0])|          (1,[0],[1.0])|(13,[0],[1.0])|(1,[0],[1.0])|             (2,[0],[1.0])|\n",
            "|   79000.0|   13.44|   5000.0|           1.0| Fully Paid|     0.0|    35653.0|     3.0|    0.0|                 0.0|   9441.0|     101.5|      5.0|  (50,[13],[1.0])|                 2011|1334.0|  (34,[5],[1.0])|        (5,[1],[1.0])|          (1,[0],[1.0])|(13,[1],[1.0])|(1,[0],[1.0])|                 (2,[],[])|\n",
            "|  100000.0|    7.49|   6000.0|           2.0| Fully Paid|     2.0|   116195.0|     9.0|    0.0|                 0.0|   8563.0|      72.0|     16.0|   (50,[1],[1.0])|                 1994|1394.0| (34,[12],[1.0])|        (5,[0],[1.0])|          (1,[0],[1.0])|(13,[0],[1.0])|(1,[0],[1.0])|             (2,[1],[1.0])|\n",
            "|   35000.0|   14.85|   4225.0|           1.0|Charged Off|     0.0|     4888.0|     6.0|    0.0|                 0.0|   1058.0|      24.6|      6.0|  (50,[30],[1.0])|                 2011|1454.0|  (34,[9],[1.0])|        (5,[1],[1.0])|          (1,[0],[1.0])|(13,[0],[1.0])|(1,[0],[1.0])|             (2,[0],[1.0])|\n",
            "|   65000.0|    5.32|  20000.0|           3.0| Fully Paid|     0.0|    15444.0|    12.0|    0.0|                 0.0|   2269.0|       3.0|     17.0|   (50,[2],[1.0])|                 1991|1674.0| (34,[14],[1.0])|        (5,[2],[1.0])|          (1,[0],[1.0])|(13,[0],[1.0])|(1,[0],[1.0])|             (2,[1],[1.0])|\n",
            "+----------+--------+---------+--------------+-----------+--------+-----------+--------+-------+--------------------+---------+----------+---------+-----------------+---------------------+------+----------------+---------------------+-----------------------+--------------+-------------+--------------------------+\n",
            "only showing top 20 rows\n",
            "\n"
          ]
        }
      ]
    },
    {
      "cell_type": "code",
      "source": [
        "df.cache()"
      ],
      "metadata": {
        "colab": {
          "base_uri": "https://localhost:8080/"
        },
        "id": "u_mYH_kPmhhW",
        "outputId": "813adc8f-9f5e-4ed7-ed5e-9b6fa78850d3"
      },
      "execution_count": null,
      "outputs": [
        {
          "output_type": "execute_result",
          "data": {
            "text/plain": [
              "DataFrame[annual_inc: string, int_rate: double, loan_amnt: double, num_actv_bc_tl: double, loan_status: string, mort_acc: double, tot_cur_bal: string, open_acc: string, pub_rec: string, pub_rec_bankruptcies: double, revol_bal: string, revol_util: string, total_acc: string, addr_state_onehot: vector, earliest_cr_line_year: int, fico: double, sub_grade_onehot: vector, home_ownership_onehot: vector, application_type_onehot: vector, purpose_onehot: vector, term_onehot: vector, verification_status_onehot: vector]"
            ]
          },
          "metadata": {},
          "execution_count": 74
        }
      ]
    },
    {
      "cell_type": "code",
      "source": [
        "from pyspark.sql.types import IntegerType,DoubleType\n",
        "df1 = df.withColumn(\"annual_inc\", df[\"annual_inc\"].cast(DoubleType()))\n",
        "df1 = df1.withColumn(\"tot_cur_bal\", df1[\"tot_cur_bal\"].cast(DoubleType()))\n",
        "df1 = df1.withColumn(\"open_acc\", df1[\"open_acc\"].cast(DoubleType()))\n",
        "df1 = df1.withColumn(\"pub_rec\", df1[\"pub_rec\"].cast(DoubleType()))\n",
        "df1 = df1.withColumn(\"revol_bal\", df1[\"revol_bal\"].cast(DoubleType()))\n",
        "df1 = df1.withColumn(\"revol_util\", df1[\"revol_util\"].cast(DoubleType()))\n",
        "df1 = df1.withColumn(\"total_acc\", df1[\"total_acc\"].cast(DoubleType()))"
      ],
      "metadata": {
        "id": "th9_4tqJ_x_L"
      },
      "execution_count": null,
      "outputs": []
    },
    {
      "cell_type": "code",
      "source": [
        "indexer = StringIndexer(inputCol='loan_status', outputCol='loan_status_numeric')\n",
        "indexer_fitted = indexer.fit(df1)\n",
        "df1 = indexer_fitted.transform(df1)\n",
        "df1.show()"
      ],
      "metadata": {
        "colab": {
          "base_uri": "https://localhost:8080/"
        },
        "id": "fykP1cwwESI6",
        "outputId": "548ede4b-c4aa-4bd5-d4b4-2be680fc0c33"
      },
      "execution_count": null,
      "outputs": [
        {
          "output_type": "stream",
          "name": "stdout",
          "text": [
            "+----------+--------+---------+--------------+-----------+--------+-----------+--------+-------+--------------------+---------+----------+---------+-----------------+---------------------+------+----------------+---------------------+-----------------------+--------------+-------------+--------------------------+-------------------+\n",
            "|annual_inc|int_rate|loan_amnt|num_actv_bc_tl|loan_status|mort_acc|tot_cur_bal|open_acc|pub_rec|pub_rec_bankruptcies|revol_bal|revol_util|total_acc|addr_state_onehot|earliest_cr_line_year|  fico|sub_grade_onehot|home_ownership_onehot|application_type_onehot|purpose_onehot|  term_onehot|verification_status_onehot|loan_status_numeric|\n",
            "+----------+--------+---------+--------------+-----------+--------+-----------+--------+-------+--------------------+---------+----------+---------+-----------------+---------------------+------+----------------+---------------------+-----------------------+--------------+-------------+--------------------------+-------------------+\n",
            "|   55000.0|   13.99|   3600.0|           2.0| Fully Paid|     1.0|   144904.0|     7.0|    0.0|                 0.0|   2765.0|      29.7|     13.0|   (50,[6],[1.0])|                 2003|1354.0|  (34,[6],[1.0])|        (5,[0],[1.0])|          (1,[0],[1.0])|(13,[0],[1.0])|(1,[0],[1.0])|             (2,[1],[1.0])|                0.0|\n",
            "|   65000.0|   11.99|  24700.0|           5.0| Fully Paid|     4.0|   204396.0|    22.0|    0.0|                 0.0|  21470.0|      19.2|     38.0|  (50,[45],[1.0])|                 1999|1434.0|  (34,[0],[1.0])|        (5,[0],[1.0])|          (1,[0],[1.0])|(13,[7],[1.0])|(1,[0],[1.0])|             (2,[1],[1.0])|                0.0|\n",
            "|  104433.0|   22.45|  10400.0|           4.0| Fully Paid|     6.0|   331730.0|    12.0|    0.0|                 0.0|  21929.0|      64.5|     35.0|   (50,[6],[1.0])|                 1998|1394.0| (34,[25],[1.0])|        (5,[0],[1.0])|          (1,[0],[1.0])|(13,[4],[1.0])|    (1,[],[])|             (2,[0],[1.0])|                0.0|\n",
            "|   34000.0|   13.44|  11950.0|           2.0| Fully Paid|     0.0|    12798.0|     5.0|    0.0|                 0.0|   8822.0|      68.4|      6.0|   (50,[8],[1.0])|                 1987|1384.0|  (34,[5],[1.0])|        (5,[1],[1.0])|          (1,[0],[1.0])|(13,[0],[1.0])|(1,[0],[1.0])|             (2,[0],[1.0])|                0.0|\n",
            "|   85000.0|    8.49|  20000.0|           2.0| Fully Paid|     3.0|   141601.0|     8.0|    0.0|                 0.0|    826.0|       5.7|     15.0|  (50,[26],[1.0])|                 1999|1414.0|  (34,[8],[1.0])|        (5,[0],[1.0])|          (1,[0],[1.0])|(13,[4],[1.0])|(1,[0],[1.0])|             (2,[1],[1.0])|                0.0|\n",
            "|   85000.0|    6.49|  10000.0|           6.0| Fully Paid|     1.0|    27957.0|    14.0|    1.0|                 1.0|  10464.0|      34.5|     23.0|   (50,[6],[1.0])|                 2002|1374.0| (34,[18],[1.0])|        (5,[1],[1.0])|          (1,[0],[1.0])|(13,[1],[1.0])|(1,[0],[1.0])|             (2,[1],[1.0])|                0.0|\n",
            "|   42000.0|   11.48|   8000.0|           3.0| Fully Paid|     1.0|   199696.0|     8.0|    0.0|                 0.0|   7034.0|      39.1|     18.0|  (50,[37],[1.0])|                 1994|1404.0|  (34,[2],[1.0])|        (5,[0],[1.0])|          (1,[0],[1.0])|(13,[1],[1.0])|(1,[0],[1.0])|             (2,[1],[1.0])|                0.0|\n",
            "|  150000.0|   19.48|  18000.0|           6.0|Charged Off|     2.0|    36247.0|    18.0|    1.0|                 1.0|  14052.0|      40.7|     27.0|   (50,[0],[1.0])|                 2005|1334.0| (34,[21],[1.0])|        (5,[1],[1.0])|          (1,[0],[1.0])|(13,[0],[1.0])|    (1,[],[])|             (2,[1],[1.0])|                1.0|\n",
            "|   92000.0|    6.49|  28000.0|           7.0| Fully Paid|     2.0|   221110.0|    16.0|    0.0|                 0.0|  51507.0|      64.5|     24.0|  (50,[10],[1.0])|                 1984|1444.0| (34,[18],[1.0])|        (5,[0],[1.0])|          (1,[0],[1.0])|(13,[0],[1.0])|(1,[0],[1.0])|             (2,[1],[1.0])|                0.0|\n",
            "|   60000.0|    7.49|   9600.0|           3.0| Fully Paid|     0.0|    55387.0|     7.0|    0.0|                 0.0|   7722.0|      59.4|      9.0|  (50,[26],[1.0])|                 1996|1394.0| (34,[12],[1.0])|        (5,[0],[1.0])|          (1,[0],[1.0])|(13,[1],[1.0])|(1,[0],[1.0])|             (2,[1],[1.0])|                0.0|\n",
            "|  109000.0|    7.49|  25000.0|           3.0| Fully Paid|     3.0|   305781.0|     9.0|    0.0|                 0.0|  20862.0|      54.3|     19.0|   (50,[9],[1.0])|                 2001|1494.0| (34,[12],[1.0])|        (5,[0],[1.0])|          (1,[0],[1.0])|(13,[0],[1.0])|(1,[0],[1.0])|             (2,[1],[1.0])|                0.0|\n",
            "|  112000.0|   11.99|  18000.0|           5.0| Fully Paid|     4.0|   205067.0|    17.0|    0.0|                 0.0|  10711.0|      15.5|     27.0|  (50,[12],[1.0])|                 1993|1604.0|  (34,[0],[1.0])|        (5,[0],[1.0])|          (1,[0],[1.0])|(13,[0],[1.0])|    (1,[],[])|             (2,[1],[1.0])|                0.0|\n",
            "|   55000.0|   19.89|   8650.0|           2.0| Fully Paid|     0.0|    18926.0|    18.0|    1.0|                 1.0|   9568.0|      46.0|     19.0|  (50,[18],[1.0])|                 2005|1354.0| (34,[22],[1.0])|        (5,[1],[1.0])|          (1,[0],[1.0])|(13,[0],[1.0])|(1,[0],[1.0])|                 (2,[],[])|                0.0|\n",
            "|   65000.0|   12.88|  29900.0|           2.0| Fully Paid|     2.0|   220251.0|    15.0|    0.0|                 0.0|  31682.0|      46.7|     31.0|  (50,[13],[1.0])|                 2004|1434.0|  (34,[3],[1.0])|        (5,[0],[1.0])|          (1,[0],[1.0])|(13,[0],[1.0])|    (1,[],[])|                 (2,[],[])|                0.0|\n",
            "|   48000.0|   14.85|  16000.0|           6.0| Fully Paid|     2.0|    31329.0|    11.0|    2.0|                 0.0|  19108.0|      29.6|     19.0|  (50,[26],[1.0])|                 1991|1374.0|  (34,[9],[1.0])|        (5,[0],[1.0])|          (1,[0],[1.0])|(13,[1],[1.0])|    (1,[],[])|             (2,[1],[1.0])|                0.0|\n",
            "|  125000.0|   13.44|  28000.0|           4.0| Fully Paid|     0.0|    22780.0|     6.0|    0.0|                 0.0|  22780.0|      63.1|     22.0|   (50,[2],[1.0])|                 2000|1394.0|  (34,[5],[1.0])|        (5,[2],[1.0])|          (1,[0],[1.0])|(13,[0],[1.0])|(1,[0],[1.0])|             (2,[0],[1.0])|                0.0|\n",
            "|   79000.0|   13.44|   5000.0|           1.0| Fully Paid|     0.0|    35653.0|     3.0|    0.0|                 0.0|   9441.0|     101.5|      5.0|  (50,[13],[1.0])|                 2011|1334.0|  (34,[5],[1.0])|        (5,[1],[1.0])|          (1,[0],[1.0])|(13,[1],[1.0])|(1,[0],[1.0])|                 (2,[],[])|                0.0|\n",
            "|  100000.0|    7.49|   6000.0|           2.0| Fully Paid|     2.0|   116195.0|     9.0|    0.0|                 0.0|   8563.0|      72.0|     16.0|   (50,[1],[1.0])|                 1994|1394.0| (34,[12],[1.0])|        (5,[0],[1.0])|          (1,[0],[1.0])|(13,[0],[1.0])|(1,[0],[1.0])|             (2,[1],[1.0])|                0.0|\n",
            "|   35000.0|   14.85|   4225.0|           1.0|Charged Off|     0.0|     4888.0|     6.0|    0.0|                 0.0|   1058.0|      24.6|      6.0|  (50,[30],[1.0])|                 2011|1454.0|  (34,[9],[1.0])|        (5,[1],[1.0])|          (1,[0],[1.0])|(13,[0],[1.0])|(1,[0],[1.0])|             (2,[0],[1.0])|                1.0|\n",
            "|   65000.0|    5.32|  20000.0|           3.0| Fully Paid|     0.0|    15444.0|    12.0|    0.0|                 0.0|   2269.0|       3.0|     17.0|   (50,[2],[1.0])|                 1991|1674.0| (34,[14],[1.0])|        (5,[2],[1.0])|          (1,[0],[1.0])|(13,[0],[1.0])|(1,[0],[1.0])|             (2,[1],[1.0])|                0.0|\n",
            "+----------+--------+---------+--------------+-----------+--------+-----------+--------+-------+--------------------+---------+----------+---------+-----------------+---------------------+------+----------------+---------------------+-----------------------+--------------+-------------+--------------------------+-------------------+\n",
            "only showing top 20 rows\n",
            "\n"
          ]
        }
      ]
    },
    {
      "cell_type": "code",
      "source": [
        "df1.show()"
      ],
      "metadata": {
        "colab": {
          "base_uri": "https://localhost:8080/"
        },
        "id": "tM5Rr01zUbuy",
        "outputId": "93bb04c8-204a-48a8-e5f7-624be87a3401"
      },
      "execution_count": null,
      "outputs": [
        {
          "output_type": "stream",
          "name": "stdout",
          "text": [
            "+----------+--------+---------+--------------+-----------+--------+-----------+--------+-------+--------------------+---------+----------+---------+-----------------+---------------------+------+----------------+---------------------+-----------------------+--------------+-------------+--------------------------+\n",
            "|annual_inc|int_rate|loan_amnt|num_actv_bc_tl|loan_status|mort_acc|tot_cur_bal|open_acc|pub_rec|pub_rec_bankruptcies|revol_bal|revol_util|total_acc|addr_state_onehot|earliest_cr_line_year|  fico|sub_grade_onehot|home_ownership_onehot|application_type_onehot|purpose_onehot|  term_onehot|verification_status_onehot|\n",
            "+----------+--------+---------+--------------+-----------+--------+-----------+--------+-------+--------------------+---------+----------+---------+-----------------+---------------------+------+----------------+---------------------+-----------------------+--------------+-------------+--------------------------+\n",
            "|   55000.0|   13.99|   3600.0|           2.0| Fully Paid|     1.0|   144904.0|     7.0|    0.0|                 0.0|   2765.0|      29.7|     13.0|   (50,[6],[1.0])|                 2003|1354.0|  (34,[6],[1.0])|        (5,[0],[1.0])|          (1,[0],[1.0])|(13,[0],[1.0])|(1,[0],[1.0])|             (2,[1],[1.0])|\n",
            "|   65000.0|   11.99|  24700.0|           5.0| Fully Paid|     4.0|   204396.0|    22.0|    0.0|                 0.0|  21470.0|      19.2|     38.0|  (50,[45],[1.0])|                 1999|1434.0|  (34,[0],[1.0])|        (5,[0],[1.0])|          (1,[0],[1.0])|(13,[7],[1.0])|(1,[0],[1.0])|             (2,[1],[1.0])|\n",
            "|  104433.0|   22.45|  10400.0|           4.0| Fully Paid|     6.0|   331730.0|    12.0|    0.0|                 0.0|  21929.0|      64.5|     35.0|   (50,[6],[1.0])|                 1998|1394.0| (34,[25],[1.0])|        (5,[0],[1.0])|          (1,[0],[1.0])|(13,[4],[1.0])|    (1,[],[])|             (2,[0],[1.0])|\n",
            "|   34000.0|   13.44|  11950.0|           2.0| Fully Paid|     0.0|    12798.0|     5.0|    0.0|                 0.0|   8822.0|      68.4|      6.0|   (50,[8],[1.0])|                 1987|1384.0|  (34,[5],[1.0])|        (5,[1],[1.0])|          (1,[0],[1.0])|(13,[0],[1.0])|(1,[0],[1.0])|             (2,[0],[1.0])|\n",
            "|   85000.0|    8.49|  20000.0|           2.0| Fully Paid|     3.0|   141601.0|     8.0|    0.0|                 0.0|    826.0|       5.7|     15.0|  (50,[26],[1.0])|                 1999|1414.0|  (34,[8],[1.0])|        (5,[0],[1.0])|          (1,[0],[1.0])|(13,[4],[1.0])|(1,[0],[1.0])|             (2,[1],[1.0])|\n",
            "|   85000.0|    6.49|  10000.0|           6.0| Fully Paid|     1.0|    27957.0|    14.0|    1.0|                 1.0|  10464.0|      34.5|     23.0|   (50,[6],[1.0])|                 2002|1374.0| (34,[18],[1.0])|        (5,[1],[1.0])|          (1,[0],[1.0])|(13,[1],[1.0])|(1,[0],[1.0])|             (2,[1],[1.0])|\n",
            "|   42000.0|   11.48|   8000.0|           3.0| Fully Paid|     1.0|   199696.0|     8.0|    0.0|                 0.0|   7034.0|      39.1|     18.0|  (50,[37],[1.0])|                 1994|1404.0|  (34,[2],[1.0])|        (5,[0],[1.0])|          (1,[0],[1.0])|(13,[1],[1.0])|(1,[0],[1.0])|             (2,[1],[1.0])|\n",
            "|  150000.0|   19.48|  18000.0|           6.0|Charged Off|     2.0|    36247.0|    18.0|    1.0|                 1.0|  14052.0|      40.7|     27.0|   (50,[0],[1.0])|                 2005|1334.0| (34,[21],[1.0])|        (5,[1],[1.0])|          (1,[0],[1.0])|(13,[0],[1.0])|    (1,[],[])|             (2,[1],[1.0])|\n",
            "|   92000.0|    6.49|  28000.0|           7.0| Fully Paid|     2.0|   221110.0|    16.0|    0.0|                 0.0|  51507.0|      64.5|     24.0|  (50,[10],[1.0])|                 1984|1444.0| (34,[18],[1.0])|        (5,[0],[1.0])|          (1,[0],[1.0])|(13,[0],[1.0])|(1,[0],[1.0])|             (2,[1],[1.0])|\n",
            "|   60000.0|    7.49|   9600.0|           3.0| Fully Paid|     0.0|    55387.0|     7.0|    0.0|                 0.0|   7722.0|      59.4|      9.0|  (50,[26],[1.0])|                 1996|1394.0| (34,[12],[1.0])|        (5,[0],[1.0])|          (1,[0],[1.0])|(13,[1],[1.0])|(1,[0],[1.0])|             (2,[1],[1.0])|\n",
            "|  109000.0|    7.49|  25000.0|           3.0| Fully Paid|     3.0|   305781.0|     9.0|    0.0|                 0.0|  20862.0|      54.3|     19.0|   (50,[9],[1.0])|                 2001|1494.0| (34,[12],[1.0])|        (5,[0],[1.0])|          (1,[0],[1.0])|(13,[0],[1.0])|(1,[0],[1.0])|             (2,[1],[1.0])|\n",
            "|  112000.0|   11.99|  18000.0|           5.0| Fully Paid|     4.0|   205067.0|    17.0|    0.0|                 0.0|  10711.0|      15.5|     27.0|  (50,[12],[1.0])|                 1993|1604.0|  (34,[0],[1.0])|        (5,[0],[1.0])|          (1,[0],[1.0])|(13,[0],[1.0])|    (1,[],[])|             (2,[1],[1.0])|\n",
            "|   55000.0|   19.89|   8650.0|           2.0| Fully Paid|     0.0|    18926.0|    18.0|    1.0|                 1.0|   9568.0|      46.0|     19.0|  (50,[18],[1.0])|                 2005|1354.0| (34,[22],[1.0])|        (5,[1],[1.0])|          (1,[0],[1.0])|(13,[0],[1.0])|(1,[0],[1.0])|                 (2,[],[])|\n",
            "|   65000.0|   12.88|  29900.0|           2.0| Fully Paid|     2.0|   220251.0|    15.0|    0.0|                 0.0|  31682.0|      46.7|     31.0|  (50,[13],[1.0])|                 2004|1434.0|  (34,[3],[1.0])|        (5,[0],[1.0])|          (1,[0],[1.0])|(13,[0],[1.0])|    (1,[],[])|                 (2,[],[])|\n",
            "|   48000.0|   14.85|  16000.0|           6.0| Fully Paid|     2.0|    31329.0|    11.0|    2.0|                 0.0|  19108.0|      29.6|     19.0|  (50,[26],[1.0])|                 1991|1374.0|  (34,[9],[1.0])|        (5,[0],[1.0])|          (1,[0],[1.0])|(13,[1],[1.0])|    (1,[],[])|             (2,[1],[1.0])|\n",
            "|  125000.0|   13.44|  28000.0|           4.0| Fully Paid|     0.0|    22780.0|     6.0|    0.0|                 0.0|  22780.0|      63.1|     22.0|   (50,[2],[1.0])|                 2000|1394.0|  (34,[5],[1.0])|        (5,[2],[1.0])|          (1,[0],[1.0])|(13,[0],[1.0])|(1,[0],[1.0])|             (2,[0],[1.0])|\n",
            "|   79000.0|   13.44|   5000.0|           1.0| Fully Paid|     0.0|    35653.0|     3.0|    0.0|                 0.0|   9441.0|     101.5|      5.0|  (50,[13],[1.0])|                 2011|1334.0|  (34,[5],[1.0])|        (5,[1],[1.0])|          (1,[0],[1.0])|(13,[1],[1.0])|(1,[0],[1.0])|                 (2,[],[])|\n",
            "|  100000.0|    7.49|   6000.0|           2.0| Fully Paid|     2.0|   116195.0|     9.0|    0.0|                 0.0|   8563.0|      72.0|     16.0|   (50,[1],[1.0])|                 1994|1394.0| (34,[12],[1.0])|        (5,[0],[1.0])|          (1,[0],[1.0])|(13,[0],[1.0])|(1,[0],[1.0])|             (2,[1],[1.0])|\n",
            "|   35000.0|   14.85|   4225.0|           1.0|Charged Off|     0.0|     4888.0|     6.0|    0.0|                 0.0|   1058.0|      24.6|      6.0|  (50,[30],[1.0])|                 2011|1454.0|  (34,[9],[1.0])|        (5,[1],[1.0])|          (1,[0],[1.0])|(13,[0],[1.0])|(1,[0],[1.0])|             (2,[0],[1.0])|\n",
            "|   65000.0|    5.32|  20000.0|           3.0| Fully Paid|     0.0|    15444.0|    12.0|    0.0|                 0.0|   2269.0|       3.0|     17.0|   (50,[2],[1.0])|                 1991|1674.0| (34,[14],[1.0])|        (5,[2],[1.0])|          (1,[0],[1.0])|(13,[0],[1.0])|(1,[0],[1.0])|             (2,[1],[1.0])|\n",
            "+----------+--------+---------+--------------+-----------+--------+-----------+--------+-------+--------------------+---------+----------+---------+-----------------+---------------------+------+----------------+---------------------+-----------------------+--------------+-------------+--------------------------+\n",
            "only showing top 20 rows\n",
            "\n"
          ]
        }
      ]
    },
    {
      "cell_type": "code",
      "source": [
        "df1.select(\"loan_status_numeric\").show()"
      ],
      "metadata": {
        "colab": {
          "base_uri": "https://localhost:8080/"
        },
        "id": "xveEGp0KDHXH",
        "outputId": "0360e353-2060-4276-dc0d-d9129cfd5535"
      },
      "execution_count": null,
      "outputs": [
        {
          "output_type": "stream",
          "name": "stdout",
          "text": [
            "+-------------------+\n",
            "|loan_status_numeric|\n",
            "+-------------------+\n",
            "|                0.0|\n",
            "|                0.0|\n",
            "|                0.0|\n",
            "|                0.0|\n",
            "|                0.0|\n",
            "|                0.0|\n",
            "|                0.0|\n",
            "|                1.0|\n",
            "|                0.0|\n",
            "|                0.0|\n",
            "|                0.0|\n",
            "|                0.0|\n",
            "|                0.0|\n",
            "|                0.0|\n",
            "|                0.0|\n",
            "|                0.0|\n",
            "|                0.0|\n",
            "|                0.0|\n",
            "|                1.0|\n",
            "|                0.0|\n",
            "+-------------------+\n",
            "only showing top 20 rows\n",
            "\n"
          ]
        }
      ]
    },
    {
      "cell_type": "markdown",
      "source": [
        "# DATA SPLITTING into test and train"
      ],
      "metadata": {
        "id": "8lIKnrYsyjJm"
      }
    },
    {
      "cell_type": "code",
      "source": [
        "train_data,test_data = df1.randomSplit([0.8,0.2])"
      ],
      "metadata": {
        "id": "4hR5F35fV7Tn"
      },
      "execution_count": null,
      "outputs": []
    },
    {
      "cell_type": "markdown",
      "source": [
        "# INPUT VECTOR CREATION"
      ],
      "metadata": {
        "id": "I49zR5vbeGZV"
      }
    },
    {
      "cell_type": "code",
      "source": [
        "from pyspark.ml.feature import VectorAssembler\n",
        "from pyspark.ml import Pipeline\n",
        "stages = []\n",
        "colnames = list(df1.columns)\n",
        "colnames.remove(\"loan_status\")\n",
        "colnames.remove(\"loan_status_numeric\")\n",
        "colnames\n",
        "input_cols = colnames[:]\n",
        "vector_assembler = VectorAssembler(inputCols = input_cols,outputCol = \"featureVector\")\n",
        "assembled_train_data = vector_assembler.transform(train_data)\n",
        "assembled_train_data.select(\"featureVector\").show(truncate=False)"
      ],
      "metadata": {
        "colab": {
          "base_uri": "https://localhost:8080/"
        },
        "id": "ftIVVYJOx2vF",
        "outputId": "6f1e1aab-9719-46fd-910f-6e34ed2e0d5e"
      },
      "execution_count": null,
      "outputs": [
        {
          "output_type": "stream",
          "name": "stdout",
          "text": [
            "+--------------------------------------------------------------------------------------------------------------------------------------------------------------------+\n",
            "|featureVector                                                                                                                                                       |\n",
            "+--------------------------------------------------------------------------------------------------------------------------------------------------------------------+\n",
            "|(120,[0,1,2,3,4,5,6,7,8,9,10,11,24,62,63,83,98,103,112,117],[3800.0,17.86,1125.0,1.0,3.0,3604.0,4.0,1.0,1.0,3604.0,82.0,13.0,1.0,1984.0,1324.0,1.0,1.0,1.0,1.0,1.0])|\n",
            "|(120,[0,1,2,3,5,6,9,10,11,14,62,63,83,99,103,105,117,119],[6000.0,17.86,2100.0,2.0,135274.0,13.0,1381.0,32.9,13.0,1.0,2012.0,1384.0,1.0,1.0,1.0,1.0,1.0,1.0])       |\n",
            "|(120,[0,1,2,3,5,6,9,10,11,25,62,63,83,99,103,106,117],[7000.0,17.86,3500.0,1.0,11501.0,8.0,1586.0,29.4,8.0,1.0,2011.0,1324.0,1.0,1.0,1.0,1.0,1.0])                  |\n",
            "|(120,[0,1,2,3,5,6,9,10,11,12,62,63,80,100,103,104,117,118],[7200.0,17.57,3000.0,2.0,5141.0,6.0,5141.0,27.9,10.0,1.0,2005.0,1414.0,1.0,1.0,1.0,1.0,1.0,1.0])         |\n",
            "|(120,[0,1,2,3,5,6,9,10,11,30,62,63,66,99,103,107,117],[8000.0,11.22,2500.0,1.0,44983.0,17.0,633.0,2.5,18.0,1.0,2001.0,1534.0,1.0,1.0,1.0,1.0,1.0])                  |\n",
            "|(120,[0,1,2,3,5,6,9,10,11,39,62,63,70,99,103,105,117,118],[8000.0,13.67,1500.0,1.0,15927.0,10.0,1708.0,36.3,29.0,1.0,2005.0,1374.0,1.0,1.0,1.0,1.0,1.0,1.0])        |\n",
            "|(120,[0,1,2,3,5,6,9,10,11,15,62,63,83,100,103,104,117],[8160.0,17.86,2925.0,4.0,6381.0,4.0,6381.0,80.8,4.0,1.0,2011.0,1354.0,1.0,1.0,1.0,1.0,1.0])                  |\n",
            "|(120,[0,1,2,3,5,6,9,10,11,21,62,63,83,99,103,107,117],[8200.0,17.86,2450.0,2.0,21116.0,4.0,2607.0,86.9,4.0,1.0,2011.0,1384.0,1.0,1.0,1.0,1.0,1.0])                  |\n",
            "|(120,[0,1,2,3,5,6,9,10,11,12,62,63,83,99,103,104,117,118],[8200.0,17.86,4100.0,4.0,85012.0,9.0,6347.0,39.4,26.0,1.0,1996.0,1354.0,1.0,1.0,1.0,1.0,1.0,1.0])         |\n",
            "|(120,[0,1,2,3,5,6,9,10,11,41,62,63,84,99,103,105,117],[8200.0,18.2,4100.0,2.0,5908.0,5.0,5908.0,41.3,5.0,1.0,2006.0,1404.0,1.0,1.0,1.0,1.0,1.0])                    |\n",
            "|(120,[0,1,2,3,5,6,9,10,11,12,62,63,70,99,103,104,117],[8500.0,13.67,3900.0,1.0,3540.0,8.0,974.0,4.9,27.0,1.0,2005.0,1464.0,1.0,1.0,1.0,1.0,1.0])                    |\n",
            "|(120,[0,1,2,3,5,6,9,10,11,29,62,63,73,99,103,104,117,118],[8500.0,14.65,4250.0,2.0,39428.0,13.0,2547.0,37.5,14.0,1.0,2011.0,1424.0,1.0,1.0,1.0,1.0,1.0,1.0])        |\n",
            "|(120,[0,1,2,3,5,6,9,10,11,35,62,63,77,99,103,104,117],[8500.0,16.55,2000.0,2.0,25537.0,11.0,837.0,83.7,11.0,1.0,2012.0,1334.0,1.0,1.0,1.0,1.0,1.0])                 |\n",
            "|(120,[0,1,2,3,5,6,9,10,11,23,62,63,69,98,103,104,117],[8800.0,13.18,4400.0,2.0,5563.0,7.0,4568.0,22.8,8.0,1.0,2008.0,1404.0,1.0,1.0,1.0,1.0,1.0])                   |\n",
            "|(120,[0,1,2,3,5,6,9,10,11,16,62,63,65,99,103,105,117,118],[9000.0,10.99,3950.0,3.0,3140.0,4.0,3140.0,46.2,4.0,1.0,2010.0,1414.0,1.0,1.0,1.0,1.0,1.0,1.0])           |\n",
            "|(120,[0,1,2,3,5,6,9,10,11,16,62,63,69,99,103,104,117,118],[9000.0,13.33,2800.0,4.0,4515.0,5.0,4515.0,52.5,5.0,1.0,2011.0,1364.0,1.0,1.0,1.0,1.0,1.0,1.0])           |\n",
            "|(120,[0,1,2,3,5,6,9,10,11,22,62,63,80,100,103,105,117],[9000.0,17.57,2725.0,4.0,9672.0,6.0,4014.0,17.9,9.0,1.0,1995.0,1414.0,1.0,1.0,1.0,1.0,1.0])                  |\n",
            "|(120,[0,1,2,3,5,6,9,10,11,15,62,63,73,99,103,104,117,118],[9084.0,14.33,2000.0,2.0,1587.0,4.0,1587.0,29.9,5.0,1.0,2005.0,1324.0,1.0,1.0,1.0,1.0,1.0,1.0])           |\n",
            "|(120,[0,1,2,3,5,6,9,10,11,24,62,63,69,99,103,107,117,118],[9600.0,13.18,1500.0,4.0,103604.0,10.0,2885.0,8.5,11.0,1.0,2006.0,1364.0,1.0,1.0,1.0,1.0,1.0,1.0])        |\n",
            "|(120,[0,1,2,3,5,6,9,10,11,24,62,63,77,99,103,104,117],[9600.0,16.55,3450.0,1.0,4914.0,3.0,4914.0,69.2,5.0,1.0,1995.0,1434.0,1.0,1.0,1.0,1.0,1.0])                   |\n",
            "+--------------------------------------------------------------------------------------------------------------------------------------------------------------------+\n",
            "only showing top 20 rows\n",
            "\n"
          ]
        }
      ]
    },
    {
      "cell_type": "code",
      "source": [
        "assembled_train_data.show()"
      ],
      "metadata": {
        "colab": {
          "base_uri": "https://localhost:8080/"
        },
        "id": "A6zqWIhbFypE",
        "outputId": "cd1ce774-f607-4013-f88a-a286e63c2930"
      },
      "execution_count": null,
      "outputs": [
        {
          "output_type": "stream",
          "name": "stdout",
          "text": [
            "+----------+--------+---------+--------------+-----------+--------+-----------+--------+-------+--------------------+---------+----------+---------+-----------------+---------------------+------+----------------+---------------------+-----------------------+--------------+-------------+--------------------------+-------------------+--------------------+\n",
            "|annual_inc|int_rate|loan_amnt|num_actv_bc_tl|loan_status|mort_acc|tot_cur_bal|open_acc|pub_rec|pub_rec_bankruptcies|revol_bal|revol_util|total_acc|addr_state_onehot|earliest_cr_line_year|  fico|sub_grade_onehot|home_ownership_onehot|application_type_onehot|purpose_onehot|  term_onehot|verification_status_onehot|loan_status_numeric|       featureVector|\n",
            "+----------+--------+---------+--------------+-----------+--------+-----------+--------+-------+--------------------+---------+----------+---------+-----------------+---------------------+------+----------------+---------------------+-----------------------+--------------+-------------+--------------------------+-------------------+--------------------+\n",
            "|    3800.0|   17.86|   1125.0|           1.0| Fully Paid|     3.0|     3604.0|     4.0|    1.0|                 1.0|   3604.0|      82.0|     13.0|  (50,[12],[1.0])|                 1984|1324.0| (34,[19],[1.0])|        (5,[0],[1.0])|          (1,[0],[1.0])|(13,[8],[1.0])|(1,[0],[1.0])|                 (2,[],[])|                0.0|(120,[0,1,2,3,4,5...|\n",
            "|    6000.0|   17.86|   2100.0|           2.0| Fully Paid|     0.0|   135274.0|    13.0|    0.0|                 0.0|   1381.0|      32.9|     13.0|   (50,[2],[1.0])|                 2012|1384.0| (34,[19],[1.0])|        (5,[1],[1.0])|          (1,[0],[1.0])|(13,[1],[1.0])|(1,[0],[1.0])|             (2,[1],[1.0])|                0.0|(120,[0,1,2,3,5,6...|\n",
            "|    7000.0|   17.86|   3500.0|           1.0| Fully Paid|     0.0|    11501.0|     8.0|    0.0|                 0.0|   1586.0|      29.4|      8.0|  (50,[13],[1.0])|                 2011|1324.0| (34,[19],[1.0])|        (5,[1],[1.0])|          (1,[0],[1.0])|(13,[2],[1.0])|(1,[0],[1.0])|                 (2,[],[])|                0.0|(120,[0,1,2,3,5,6...|\n",
            "|    7200.0|   17.57|   3000.0|           2.0| Fully Paid|     0.0|     5141.0|     6.0|    0.0|                 0.0|   5141.0|      27.9|     10.0|   (50,[0],[1.0])|                 2005|1414.0| (34,[16],[1.0])|        (5,[2],[1.0])|          (1,[0],[1.0])|(13,[0],[1.0])|(1,[0],[1.0])|             (2,[0],[1.0])|                0.0|(120,[0,1,2,3,5,6...|\n",
            "|    8000.0|   11.22|   2500.0|           1.0| Fully Paid|     0.0|    44983.0|    17.0|    0.0|                 0.0|    633.0|       2.5|     18.0|  (50,[18],[1.0])|                 2001|1534.0|  (34,[2],[1.0])|        (5,[1],[1.0])|          (1,[0],[1.0])|(13,[3],[1.0])|(1,[0],[1.0])|                 (2,[],[])|                0.0|(120,[0,1,2,3,5,6...|\n",
            "|    8000.0|   13.67|   1500.0|           1.0| Fully Paid|     0.0|    15927.0|    10.0|    0.0|                 0.0|   1708.0|      36.3|     29.0|  (50,[27],[1.0])|                 2005|1374.0|  (34,[6],[1.0])|        (5,[1],[1.0])|          (1,[0],[1.0])|(13,[1],[1.0])|(1,[0],[1.0])|             (2,[0],[1.0])|                0.0|(120,[0,1,2,3,5,6...|\n",
            "|    8160.0|   17.86|   2925.0|           4.0| Fully Paid|     0.0|     6381.0|     4.0|    0.0|                 0.0|   6381.0|      80.8|      4.0|   (50,[3],[1.0])|                 2011|1354.0| (34,[19],[1.0])|        (5,[2],[1.0])|          (1,[0],[1.0])|(13,[0],[1.0])|(1,[0],[1.0])|                 (2,[],[])|                0.0|(120,[0,1,2,3,5,6...|\n",
            "|    8200.0|   17.86|   2450.0|           2.0| Fully Paid|     0.0|    21116.0|     4.0|    0.0|                 0.0|   2607.0|      86.9|      4.0|   (50,[9],[1.0])|                 2011|1384.0| (34,[19],[1.0])|        (5,[1],[1.0])|          (1,[0],[1.0])|(13,[3],[1.0])|(1,[0],[1.0])|                 (2,[],[])|                0.0|(120,[0,1,2,3,5,6...|\n",
            "|    8200.0|   17.86|   4100.0|           4.0| Fully Paid|     0.0|    85012.0|     9.0|    0.0|                 0.0|   6347.0|      39.4|     26.0|   (50,[0],[1.0])|                 1996|1354.0| (34,[19],[1.0])|        (5,[1],[1.0])|          (1,[0],[1.0])|(13,[0],[1.0])|(1,[0],[1.0])|             (2,[0],[1.0])|                0.0|(120,[0,1,2,3,5,6...|\n",
            "|    8200.0|    18.2|   4100.0|           2.0| Fully Paid|     0.0|     5908.0|     5.0|    0.0|                 0.0|   5908.0|      41.3|      5.0|  (50,[29],[1.0])|                 2006|1404.0| (34,[20],[1.0])|        (5,[1],[1.0])|          (1,[0],[1.0])|(13,[1],[1.0])|(1,[0],[1.0])|                 (2,[],[])|                0.0|(120,[0,1,2,3,5,6...|\n",
            "|    8500.0|   13.67|   3900.0|           1.0| Fully Paid|     0.0|     3540.0|     8.0|    0.0|                 0.0|    974.0|       4.9|     27.0|   (50,[0],[1.0])|                 2005|1464.0|  (34,[6],[1.0])|        (5,[1],[1.0])|          (1,[0],[1.0])|(13,[0],[1.0])|(1,[0],[1.0])|                 (2,[],[])|                0.0|(120,[0,1,2,3,5,6...|\n",
            "|    8500.0|   14.65|   4250.0|           2.0| Fully Paid|     0.0|    39428.0|    13.0|    0.0|                 0.0|   2547.0|      37.5|     14.0|  (50,[17],[1.0])|                 2011|1424.0|  (34,[9],[1.0])|        (5,[1],[1.0])|          (1,[0],[1.0])|(13,[0],[1.0])|(1,[0],[1.0])|             (2,[0],[1.0])|                0.0|(120,[0,1,2,3,5,6...|\n",
            "|    8500.0|   16.55|   2000.0|           2.0|Charged Off|     0.0|    25537.0|    11.0|    0.0|                 0.0|    837.0|      83.7|     11.0|  (50,[23],[1.0])|                 2012|1334.0| (34,[13],[1.0])|        (5,[1],[1.0])|          (1,[0],[1.0])|(13,[0],[1.0])|(1,[0],[1.0])|                 (2,[],[])|                1.0|(120,[0,1,2,3,5,6...|\n",
            "|    8800.0|   13.18|   4400.0|           2.0| Fully Paid|     0.0|     5563.0|     7.0|    0.0|                 0.0|   4568.0|      22.8|      8.0|  (50,[11],[1.0])|                 2008|1404.0|  (34,[5],[1.0])|        (5,[0],[1.0])|          (1,[0],[1.0])|(13,[0],[1.0])|(1,[0],[1.0])|                 (2,[],[])|                0.0|(120,[0,1,2,3,5,6...|\n",
            "|    9000.0|   10.99|   3950.0|           3.0|Charged Off|     0.0|     3140.0|     4.0|    0.0|                 0.0|   3140.0|      46.2|      4.0|   (50,[4],[1.0])|                 2010|1414.0|  (34,[1],[1.0])|        (5,[1],[1.0])|          (1,[0],[1.0])|(13,[1],[1.0])|(1,[0],[1.0])|             (2,[0],[1.0])|                1.0|(120,[0,1,2,3,5,6...|\n",
            "|    9000.0|   13.33|   2800.0|           4.0| Fully Paid|     0.0|     4515.0|     5.0|    0.0|                 0.0|   4515.0|      52.5|      5.0|   (50,[4],[1.0])|                 2011|1364.0|  (34,[5],[1.0])|        (5,[1],[1.0])|          (1,[0],[1.0])|(13,[0],[1.0])|(1,[0],[1.0])|             (2,[0],[1.0])|                0.0|(120,[0,1,2,3,5,6...|\n",
            "|    9000.0|   17.57|   2725.0|           4.0|Charged Off|     0.0|     9672.0|     6.0|    0.0|                 0.0|   4014.0|      17.9|      9.0|  (50,[10],[1.0])|                 1995|1414.0| (34,[16],[1.0])|        (5,[2],[1.0])|          (1,[0],[1.0])|(13,[1],[1.0])|(1,[0],[1.0])|                 (2,[],[])|                1.0|(120,[0,1,2,3,5,6...|\n",
            "|    9084.0|   14.33|   2000.0|           2.0| Fully Paid|     0.0|     1587.0|     4.0|    0.0|                 0.0|   1587.0|      29.9|      5.0|   (50,[3],[1.0])|                 2005|1324.0|  (34,[9],[1.0])|        (5,[1],[1.0])|          (1,[0],[1.0])|(13,[0],[1.0])|(1,[0],[1.0])|             (2,[0],[1.0])|                0.0|(120,[0,1,2,3,5,6...|\n",
            "|    9600.0|   13.18|   1500.0|           4.0| Fully Paid|     0.0|   103604.0|    10.0|    0.0|                 0.0|   2885.0|       8.5|     11.0|  (50,[12],[1.0])|                 2006|1364.0|  (34,[5],[1.0])|        (5,[1],[1.0])|          (1,[0],[1.0])|(13,[3],[1.0])|(1,[0],[1.0])|             (2,[0],[1.0])|                0.0|(120,[0,1,2,3,5,6...|\n",
            "|    9600.0|   16.55|   3450.0|           1.0| Fully Paid|     0.0|     4914.0|     3.0|    0.0|                 0.0|   4914.0|      69.2|      5.0|  (50,[12],[1.0])|                 1995|1434.0| (34,[13],[1.0])|        (5,[1],[1.0])|          (1,[0],[1.0])|(13,[0],[1.0])|(1,[0],[1.0])|                 (2,[],[])|                0.0|(120,[0,1,2,3,5,6...|\n",
            "+----------+--------+---------+--------------+-----------+--------+-----------+--------+-------+--------------------+---------+----------+---------+-----------------+---------------------+------+----------------+---------------------+-----------------------+--------------+-------------+--------------------------+-------------------+--------------------+\n",
            "only showing top 20 rows\n",
            "\n"
          ]
        }
      ]
    },
    {
      "cell_type": "code",
      "source": [
        "assembled_train_data=assembled_train_data.na.drop()"
      ],
      "metadata": {
        "id": "TrO2JQ6WGNNf"
      },
      "execution_count": null,
      "outputs": []
    },
    {
      "cell_type": "code",
      "source": [
        "assembled_train_data.filter(assembled_train_data['loan_status_numeric'].isNull()).count()"
      ],
      "metadata": {
        "colab": {
          "base_uri": "https://localhost:8080/"
        },
        "id": "uDwAemA2H4hu",
        "outputId": "a20ce9f6-fa1b-45fd-cf60-0b3ffff6075d"
      },
      "execution_count": null,
      "outputs": [
        {
          "output_type": "execute_result",
          "data": {
            "text/plain": [
              "0"
            ]
          },
          "metadata": {},
          "execution_count": 86
        }
      ]
    },
    {
      "cell_type": "code",
      "source": [
        "assembled_train_data.printSchema()"
      ],
      "metadata": {
        "colab": {
          "base_uri": "https://localhost:8080/"
        },
        "id": "LdsvjItOH6vb",
        "outputId": "94b47d21-385f-4ebb-ac45-5d934d49c5ba"
      },
      "execution_count": null,
      "outputs": [
        {
          "output_type": "stream",
          "name": "stdout",
          "text": [
            "root\n",
            " |-- annual_inc: double (nullable = true)\n",
            " |-- int_rate: double (nullable = true)\n",
            " |-- loan_amnt: double (nullable = true)\n",
            " |-- num_actv_bc_tl: double (nullable = true)\n",
            " |-- loan_status: string (nullable = true)\n",
            " |-- mort_acc: double (nullable = true)\n",
            " |-- tot_cur_bal: double (nullable = true)\n",
            " |-- open_acc: double (nullable = true)\n",
            " |-- pub_rec: double (nullable = true)\n",
            " |-- pub_rec_bankruptcies: double (nullable = true)\n",
            " |-- revol_bal: double (nullable = true)\n",
            " |-- revol_util: double (nullable = true)\n",
            " |-- total_acc: double (nullable = true)\n",
            " |-- addr_state_onehot: vector (nullable = true)\n",
            " |-- earliest_cr_line_year: integer (nullable = true)\n",
            " |-- fico: double (nullable = true)\n",
            " |-- sub_grade_onehot: vector (nullable = true)\n",
            " |-- home_ownership_onehot: vector (nullable = true)\n",
            " |-- application_type_onehot: vector (nullable = true)\n",
            " |-- purpose_onehot: vector (nullable = true)\n",
            " |-- term_onehot: vector (nullable = true)\n",
            " |-- verification_status_onehot: vector (nullable = true)\n",
            " |-- loan_status_numeric: double (nullable = false)\n",
            " |-- featureVector: vector (nullable = true)\n",
            "\n"
          ]
        }
      ]
    },
    {
      "cell_type": "code",
      "source": [
        "assembled_train_data = assembled_train_data.select([\"featureVector\",\"loan_status_numeric\"])"
      ],
      "metadata": {
        "id": "FgwH-9ihN4Hm"
      },
      "execution_count": null,
      "outputs": []
    },
    {
      "cell_type": "code",
      "source": [
        "assembled_train_data.show()"
      ],
      "metadata": {
        "colab": {
          "base_uri": "https://localhost:8080/"
        },
        "id": "ADiudgsRf-KP",
        "outputId": "30bd7b9e-2be2-4795-d128-db8731a3a73a"
      },
      "execution_count": null,
      "outputs": [
        {
          "output_type": "stream",
          "name": "stdout",
          "text": [
            "+--------------------+-------------------+\n",
            "|       featureVector|loan_status_numeric|\n",
            "+--------------------+-------------------+\n",
            "|(120,[0,1,2,3,4,5...|                0.0|\n",
            "|(120,[0,1,2,3,5,6...|                0.0|\n",
            "|(120,[0,1,2,3,5,6...|                0.0|\n",
            "|(120,[0,1,2,3,5,6...|                0.0|\n",
            "|(120,[0,1,2,3,5,6...|                0.0|\n",
            "|(120,[0,1,2,3,5,6...|                0.0|\n",
            "|(120,[0,1,2,3,5,6...|                0.0|\n",
            "|(120,[0,1,2,3,5,6...|                0.0|\n",
            "|(120,[0,1,2,3,5,6...|                0.0|\n",
            "|(120,[0,1,2,3,5,6...|                0.0|\n",
            "|(120,[0,1,2,3,5,6...|                0.0|\n",
            "|(120,[0,1,2,3,5,6...|                0.0|\n",
            "|(120,[0,1,2,3,5,6...|                1.0|\n",
            "|(120,[0,1,2,3,5,6...|                0.0|\n",
            "|(120,[0,1,2,3,5,6...|                1.0|\n",
            "|(120,[0,1,2,3,5,6...|                0.0|\n",
            "|(120,[0,1,2,3,5,6...|                1.0|\n",
            "|(120,[0,1,2,3,5,6...|                0.0|\n",
            "|(120,[0,1,2,3,5,6...|                0.0|\n",
            "|(120,[0,1,2,3,5,6...|                0.0|\n",
            "+--------------------+-------------------+\n",
            "only showing top 20 rows\n",
            "\n"
          ]
        }
      ]
    },
    {
      "cell_type": "code",
      "source": [
        "from pyspark.sql.types import StructType, StructField\n",
        "\n",
        "# Change column metadata\n",
        "fields = [StructField(field.name,\n",
        "          field.dataType,\n",
        "          False) for field in assembled_train_data.schema.fields]\n",
        "\n",
        "# Store changed data frame in new_schema\n",
        "new_schema = StructType(fields)\n",
        "assembled_train_data = spark.createDataFrame(assembled_train_data.rdd,\n",
        "                           new_schema)\n",
        "assembled_train_data.printSchema()"
      ],
      "metadata": {
        "colab": {
          "base_uri": "https://localhost:8080/"
        },
        "id": "SPrCwZHKI-HS",
        "outputId": "f7ad688c-2d48-4012-ef08-b2ec7229764a"
      },
      "execution_count": null,
      "outputs": [
        {
          "output_type": "stream",
          "name": "stdout",
          "text": [
            "root\n",
            " |-- featureVector: vector (nullable = false)\n",
            " |-- loan_status_numeric: double (nullable = false)\n",
            "\n"
          ]
        }
      ]
    },
    {
      "cell_type": "markdown",
      "source": [
        "Creating function to get model metrics"
      ],
      "metadata": {
        "id": "j00gBRWfebv6"
      }
    },
    {
      "cell_type": "code",
      "source": [
        "def printAllMetrics(predictionsDF):\n",
        "    TP = predictionsDF.select(\"loan_status_numeric\", \"prediction\").filter(\"loan_status_numeric == 1.0 and prediction == 1.0\").count()\n",
        "    FN = predictionsDF.select(\"loan_status_numeric\", \"prediction\").filter(\"loan_status_numeric == 1.0 and prediction == 0.0\").count()\n",
        "    TN = predictionsDF.select(\"loan_status_numeric\", \"prediction\").filter(\"loan_status_numeric == 0.0 and prediction == 0.0\").count()\n",
        "    FP = predictionsDF.select(\"loan_status_numeric\", \"prediction\").filter(\"loan_status_numeric == 0.0 and prediction == 1.0\").count()\n",
        "\n",
        "    precision_p   = TP/(TP+FP)\n",
        "    precision_n   = TN/(TN+FN)\n",
        "    recall_p      = TP/(TP+FN)\n",
        "    recall_n      = TN/(TN+FP)\n",
        "    f1_p          = 2*precision_p*recall_p/(precision_p+recall_p)\n",
        "    f1_n          = 2*precision_n*recall_n/(precision_n+recall_n)\n",
        "    avg_precision = (precision_p*(TP+FN)+precision_n*(TN+FP))/(TP+FN+TN+FP)\n",
        "    avg_recall    = (recall_p*(TP+FN)+recall_n*(TN+FP))/(TP+FN+TN+FP)\n",
        "    avg_f1        = (f1_p*(TP+FN)+f1_n*(TN+FP))/(TP+FN+TN+FP)\n",
        "    accuracy      = (TN+TP)/(TP+FN+TN+FP)\n",
        "\n",
        "    # print('Precision of True    ', precision_p)\n",
        "    # print('Precision of False   ', precision_n)\n",
        "    print('AVERAGE PRECISION     ', f\"{avg_precision*1:.2f}\")\n",
        "    # print('Recall of True       ', recall_p)\n",
        "    # print('Recall of False      ', recall_n)\n",
        "    print('AVERAGE RECALL        ', f\"{avg_recall*1:.2f}\")\n",
        "    # print('F1 of True           ', f1_p)\n",
        "    # print('F1 of False          ', f1_n)\n",
        "    print('AVERAGE F1             ', f\"{avg_f1*1:.2f}\")\n",
        "    print('ACCURACY               ', f\"{accuracy*100:.2f}%\")"
      ],
      "metadata": {
        "id": "usYiRS46zFdn"
      },
      "execution_count": null,
      "outputs": []
    },
    {
      "cell_type": "markdown",
      "source": [
        "# LOGISTIC REGRESSION"
      ],
      "metadata": {
        "id": "FL297WVKejIJ"
      }
    },
    {
      "cell_type": "code",
      "source": [
        "from pyspark.ml.classification import LogisticRegression\n",
        "assembled_train_data.persist()\n",
        "log_reg = LogisticRegression(featuresCol='featureVector', labelCol='loan_status_numeric')\n",
        "model = log_reg.fit(assembled_train_data)\n"
      ],
      "metadata": {
        "id": "3n50039nGYDJ"
      },
      "execution_count": null,
      "outputs": []
    },
    {
      "cell_type": "code",
      "source": [
        "assembled_test_data = vector_assembler.transform(test_data)\n",
        "assembled_train_data = assembled_train_data.select([\"featureVector\",\"loan_status_numeric\"])\n",
        "assembled_test_data.show()"
      ],
      "metadata": {
        "colab": {
          "base_uri": "https://localhost:8080/"
        },
        "id": "wrIeHx0Sn3Tj",
        "outputId": "7dbbfdf9-3250-46e4-835a-d06d79269ac7"
      },
      "execution_count": null,
      "outputs": [
        {
          "output_type": "stream",
          "name": "stdout",
          "text": [
            "+----------+--------+---------+--------------+-----------+--------+-----------+--------+-------+--------------------+---------+----------+---------+-----------------+---------------------+------+----------------+---------------------+-----------------------+--------------+-------------+--------------------------+-------------------+--------------------+\n",
            "|annual_inc|int_rate|loan_amnt|num_actv_bc_tl|loan_status|mort_acc|tot_cur_bal|open_acc|pub_rec|pub_rec_bankruptcies|revol_bal|revol_util|total_acc|addr_state_onehot|earliest_cr_line_year|  fico|sub_grade_onehot|home_ownership_onehot|application_type_onehot|purpose_onehot|  term_onehot|verification_status_onehot|loan_status_numeric|       featureVector|\n",
            "+----------+--------+---------+--------------+-----------+--------+-----------+--------+-------+--------------------+---------+----------+---------+-----------------+---------------------+------+----------------+---------------------+-----------------------+--------------+-------------+--------------------------+-------------------+--------------------+\n",
            "|    5000.0|   16.99|  19000.0|           3.0| Fully Paid|     3.0|   314343.0|    25.0|    0.0|                 0.0|  19104.0|      33.3|     62.0|   (50,[1],[1.0])|                 1985|1354.0| (34,[15],[1.0])|        (5,[0],[1.0])|              (1,[],[])|(13,[3],[1.0])|    (1,[],[])|             (2,[0],[1.0])|                0.0|(120,[0,1,2,3,4,5...|\n",
            "|    5360.0|   12.59|   1000.0|           1.0|Charged Off|     0.0|     1807.0|     5.0|    0.0|                 0.0|    821.0|       1.7|     28.0|   (50,[4],[1.0])|                 1998|1364.0|  (34,[3],[1.0])|        (5,[1],[1.0])|          (1,[0],[1.0])|(13,[3],[1.0])|(1,[0],[1.0])|             (2,[0],[1.0])|                1.0|(120,[0,1,2,3,5,6...|\n",
            "|    8000.0|    9.99|   2800.0|           2.0|Charged Off|     0.0|     1478.0|     5.0|    0.0|                 0.0|   1478.0|      12.0|      5.0|   (50,[3],[1.0])|                 2011|1504.0|  (34,[4],[1.0])|        (5,[1],[1.0])|          (1,[0],[1.0])|(13,[4],[1.0])|(1,[0],[1.0])|             (2,[1],[1.0])|                1.0|(120,[0,1,2,3,5,6...|\n",
            "|    8400.0|   17.86|   2500.0|           0.0|Charged Off|     0.0|      600.0|     3.0|    0.0|                 0.0|    600.0|       3.6|      4.0|  (50,[18],[1.0])|                 2001|1414.0| (34,[19],[1.0])|        (5,[2],[1.0])|          (1,[0],[1.0])|(13,[3],[1.0])|(1,[0],[1.0])|                 (2,[],[])|                1.0|(120,[0,1,2,5,6,9...|\n",
            "|    8663.0|    18.2|   2750.0|           1.0| Fully Paid|     0.0|    31966.0|    11.0|    0.0|                 0.0|   1877.0|      45.8|     11.0|   (50,[3],[1.0])|                 2011|1384.0| (34,[20],[1.0])|        (5,[1],[1.0])|          (1,[0],[1.0])|(13,[7],[1.0])|(1,[0],[1.0])|                 (2,[],[])|                0.0|(120,[0,1,2,3,5,6...|\n",
            "|   10000.0|   13.18|   3600.0|           3.0| Fully Paid|     0.0|     5799.0|    14.0|    0.0|                 0.0|   5799.0|      39.7|     16.0|   (50,[0],[1.0])|                 2008|1334.0|  (34,[5],[1.0])|        (5,[1],[1.0])|          (1,[0],[1.0])|(13,[0],[1.0])|(1,[0],[1.0])|             (2,[0],[1.0])|                0.0|(120,[0,1,2,3,5,6...|\n",
            "|   10000.0|   14.65|   2500.0|           4.0| Fully Paid|     0.0|     3191.0|     6.0|    0.0|                 0.0|   3191.0|      34.7|      6.0|   (50,[1],[1.0])|                 2006|1404.0|  (34,[9],[1.0])|        (5,[1],[1.0])|          (1,[0],[1.0])|(13,[0],[1.0])|(1,[0],[1.0])|                 (2,[],[])|                0.0|(120,[0,1,2,3,5,6...|\n",
            "|   10000.0|   15.61|   3600.0|           3.0| Fully Paid|     0.0|     3423.0|     7.0|    0.0|                 0.0|   3423.0|      46.9|      7.0|   (50,[3],[1.0])|                 2008|1354.0| (34,[11],[1.0])|        (5,[1],[1.0])|          (1,[0],[1.0])|(13,[0],[1.0])|(1,[0],[1.0])|             (2,[0],[1.0])|                0.0|(120,[0,1,2,3,5,6...|\n",
            "|   10000.0|   17.57|   4400.0|           1.0| Fully Paid|     0.0|    11184.0|     3.0|    0.0|                 0.0|  11184.0|      86.0|      7.0|   (50,[1],[1.0])|                 2002|1364.0| (34,[16],[1.0])|        (5,[2],[1.0])|          (1,[0],[1.0])|(13,[0],[1.0])|(1,[0],[1.0])|                 (2,[],[])|                0.0|(120,[0,1,2,3,5,6...|\n",
            "|   10500.0|   12.59|   4400.0|           2.0| Fully Paid|     0.0|     4490.0|     3.0|    0.0|                 0.0|   4490.0|      76.1|      5.0|   (50,[1],[1.0])|                 2012|1364.0|  (34,[3],[1.0])|        (5,[1],[1.0])|          (1,[0],[1.0])|(13,[0],[1.0])|(1,[0],[1.0])|             (2,[0],[1.0])|                0.0|(120,[0,1,2,3,5,6...|\n",
            "|   11000.0|   13.33|   4600.0|           2.0| Fully Paid|     0.0|     7250.0|    13.0|    0.0|                 0.0|   3841.0|      25.1|     17.0|  (50,[22],[1.0])|                 1995|1384.0|  (34,[5],[1.0])|        (5,[0],[1.0])|          (1,[0],[1.0])|(13,[0],[1.0])|(1,[0],[1.0])|                 (2,[],[])|                0.0|(120,[0,1,2,3,5,6...|\n",
            "|   11000.0|   13.67|   3675.0|           8.0| Fully Paid|     0.0|    35757.0|    18.0|    0.0|                 0.0|   8412.0|      60.1|     21.0|   (50,[5],[1.0])|                 2011|1334.0|  (34,[6],[1.0])|        (5,[1],[1.0])|          (1,[0],[1.0])|(13,[0],[1.0])|(1,[0],[1.0])|             (2,[0],[1.0])|                0.0|(120,[0,1,2,3,5,6...|\n",
            "|   11000.0|   16.99|   4825.0|           1.0| Fully Paid|     0.0|    43328.0|    18.0|    0.0|                 0.0|   5272.0|      40.6|     21.0|   (50,[2],[1.0])|                 2010|1444.0| (34,[15],[1.0])|        (5,[1],[1.0])|          (1,[0],[1.0])|(13,[0],[1.0])|(1,[0],[1.0])|                 (2,[],[])|                0.0|(120,[0,1,2,3,5,6...|\n",
            "|   11000.0|   18.25|   3950.0|           1.0| Fully Paid|     0.0|    13167.0|    11.0|    0.0|                 0.0|   3399.0|      19.2|     28.0|   (50,[0],[1.0])|                 2005|1444.0| (34,[20],[1.0])|        (5,[1],[1.0])|          (1,[0],[1.0])|(13,[3],[1.0])|(1,[0],[1.0])|                 (2,[],[])|                0.0|(120,[0,1,2,3,5,6...|\n",
            "|   12000.0|    6.89|   5000.0|           4.0| Fully Paid|     0.0|     5247.0|    10.0|    0.0|                 0.0|   5247.0|      36.4|     11.0|   (50,[2],[1.0])|                 2008|1444.0| (34,[17],[1.0])|        (5,[2],[1.0])|          (1,[0],[1.0])|(13,[0],[1.0])|(1,[0],[1.0])|             (2,[0],[1.0])|                0.0|(120,[0,1,2,3,5,6...|\n",
            "|   12000.0|    7.89|   5050.0|           3.0|Charged Off|     0.0|     5050.0|     5.0|    0.0|                 0.0|   5050.0|      53.7|      8.0|  (50,[32],[1.0])|                 1998|1424.0| (34,[10],[1.0])|        (5,[1],[1.0])|          (1,[0],[1.0])|(13,[0],[1.0])|(1,[0],[1.0])|             (2,[0],[1.0])|                1.0|(120,[0,1,2,3,5,6...|\n",
            "|   12000.0|    9.99|   4000.0|           3.0| Fully Paid|     0.0|    30921.0|    16.0|    0.0|                 0.0|   2669.0|      13.4|     18.0|   (50,[5],[1.0])|                 2008|1394.0|  (34,[4],[1.0])|        (5,[1],[1.0])|          (1,[0],[1.0])|(13,[6],[1.0])|(1,[0],[1.0])|             (2,[0],[1.0])|                0.0|(120,[0,1,2,3,5,6...|\n",
            "|   12000.0|   12.05|   3000.0|           2.0| Fully Paid|     0.0|    28969.0|    11.0|    2.0|                 2.0|   3250.0|      28.0|     12.0|   (50,[7],[1.0])|                 2009|1374.0|  (34,[0],[1.0])|        (5,[1],[1.0])|          (1,[0],[1.0])|(13,[0],[1.0])|(1,[0],[1.0])|             (2,[0],[1.0])|                0.0|(120,[0,1,2,3,5,6...|\n",
            "|   12000.0|   12.59|   3200.0|           2.0| Fully Paid|     0.0|    13573.0|     7.0|    0.0|                 0.0|   3073.0|      27.7|      8.0|   (50,[0],[1.0])|                 2012|1384.0|  (34,[3],[1.0])|        (5,[1],[1.0])|          (1,[0],[1.0])|(13,[4],[1.0])|(1,[0],[1.0])|             (2,[0],[1.0])|                0.0|(120,[0,1,2,3,5,6...|\n",
            "|   12000.0|   13.33|   5500.0|           3.0| Fully Paid|     0.0|    20666.0|     5.0|    0.0|                 0.0|   4782.0|      78.4|     13.0|   (50,[1],[1.0])|                 2008|1374.0|  (34,[5],[1.0])|        (5,[0],[1.0])|          (1,[0],[1.0])|(13,[1],[1.0])|(1,[0],[1.0])|                 (2,[],[])|                0.0|(120,[0,1,2,3,5,6...|\n",
            "+----------+--------+---------+--------------+-----------+--------+-----------+--------+-------+--------------------+---------+----------+---------+-----------------+---------------------+------+----------------+---------------------+-----------------------+--------------+-------------+--------------------------+-------------------+--------------------+\n",
            "only showing top 20 rows\n",
            "\n"
          ]
        }
      ]
    },
    {
      "cell_type": "code",
      "source": [
        "results = model.transform(assembled_test_data )\n",
        "results.show()"
      ],
      "metadata": {
        "colab": {
          "base_uri": "https://localhost:8080/"
        },
        "id": "D5sJNxxxq2GD",
        "outputId": "f12cb578-07a1-4163-f6ad-e9d60f44f39f"
      },
      "execution_count": null,
      "outputs": [
        {
          "output_type": "stream",
          "name": "stdout",
          "text": [
            "+----------+--------+---------+--------------+-----------+--------+-----------+--------+-------+--------------------+---------+----------+---------+-----------------+---------------------+------+----------------+---------------------+-----------------------+--------------+-------------+--------------------------+-------------------+--------------------+--------------------+--------------------+----------+\n",
            "|annual_inc|int_rate|loan_amnt|num_actv_bc_tl|loan_status|mort_acc|tot_cur_bal|open_acc|pub_rec|pub_rec_bankruptcies|revol_bal|revol_util|total_acc|addr_state_onehot|earliest_cr_line_year|  fico|sub_grade_onehot|home_ownership_onehot|application_type_onehot|purpose_onehot|  term_onehot|verification_status_onehot|loan_status_numeric|       featureVector|       rawPrediction|         probability|prediction|\n",
            "+----------+--------+---------+--------------+-----------+--------+-----------+--------+-------+--------------------+---------+----------+---------+-----------------+---------------------+------+----------------+---------------------+-----------------------+--------------+-------------+--------------------------+-------------------+--------------------+--------------------+--------------------+----------+\n",
            "|    5000.0|   16.99|  19000.0|           3.0| Fully Paid|     3.0|   314343.0|    25.0|    0.0|                 0.0|  19104.0|      33.3|     62.0|   (50,[1],[1.0])|                 1985|1354.0| (34,[15],[1.0])|        (5,[0],[1.0])|              (1,[],[])|(13,[3],[1.0])|    (1,[],[])|             (2,[0],[1.0])|                0.0|(120,[0,1,2,3,4,5...|[0.19422719191390...|[0.54840472443310...|       0.0|\n",
            "|    5360.0|   12.59|   1000.0|           1.0|Charged Off|     0.0|     1807.0|     5.0|    0.0|                 0.0|    821.0|       1.7|     28.0|   (50,[4],[1.0])|                 1998|1364.0|  (34,[3],[1.0])|        (5,[1],[1.0])|          (1,[0],[1.0])|(13,[3],[1.0])|(1,[0],[1.0])|             (2,[0],[1.0])|                1.0|(120,[0,1,2,3,5,6...|[1.42099578298691...|[0.80549447630224...|       0.0|\n",
            "|    8000.0|    9.99|   2800.0|           2.0|Charged Off|     0.0|     1478.0|     5.0|    0.0|                 0.0|   1478.0|      12.0|      5.0|   (50,[3],[1.0])|                 2011|1504.0|  (34,[4],[1.0])|        (5,[1],[1.0])|          (1,[0],[1.0])|(13,[4],[1.0])|(1,[0],[1.0])|             (2,[1],[1.0])|                1.0|(120,[0,1,2,3,5,6...|[1.94531083959697...|[0.87493443579498...|       0.0|\n",
            "|    8400.0|   17.86|   2500.0|           0.0|Charged Off|     0.0|      600.0|     3.0|    0.0|                 0.0|    600.0|       3.6|      4.0|  (50,[18],[1.0])|                 2001|1414.0| (34,[19],[1.0])|        (5,[2],[1.0])|          (1,[0],[1.0])|(13,[3],[1.0])|(1,[0],[1.0])|                 (2,[],[])|                1.0|(120,[0,1,2,5,6,9...|[1.02012638591591...|[0.73499721717971...|       0.0|\n",
            "|    8663.0|    18.2|   2750.0|           1.0| Fully Paid|     0.0|    31966.0|    11.0|    0.0|                 0.0|   1877.0|      45.8|     11.0|   (50,[3],[1.0])|                 2011|1384.0| (34,[20],[1.0])|        (5,[1],[1.0])|          (1,[0],[1.0])|(13,[7],[1.0])|(1,[0],[1.0])|                 (2,[],[])|                0.0|(120,[0,1,2,3,5,6...|[0.23504786147003...|[0.55849291408446...|       0.0|\n",
            "|   10000.0|   13.18|   3600.0|           3.0| Fully Paid|     0.0|     5799.0|    14.0|    0.0|                 0.0|   5799.0|      39.7|     16.0|   (50,[0],[1.0])|                 2008|1334.0|  (34,[5],[1.0])|        (5,[1],[1.0])|          (1,[0],[1.0])|(13,[0],[1.0])|(1,[0],[1.0])|             (2,[0],[1.0])|                0.0|(120,[0,1,2,3,5,6...|[0.92720768397706...|[0.71650844188827...|       0.0|\n",
            "|   10000.0|   14.65|   2500.0|           4.0| Fully Paid|     0.0|     3191.0|     6.0|    0.0|                 0.0|   3191.0|      34.7|      6.0|   (50,[1],[1.0])|                 2006|1404.0|  (34,[9],[1.0])|        (5,[1],[1.0])|          (1,[0],[1.0])|(13,[0],[1.0])|(1,[0],[1.0])|                 (2,[],[])|                0.0|(120,[0,1,2,3,5,6...|[0.99727801015524...|[0.73052306647047...|       0.0|\n",
            "|   10000.0|   15.61|   3600.0|           3.0| Fully Paid|     0.0|     3423.0|     7.0|    0.0|                 0.0|   3423.0|      46.9|      7.0|   (50,[3],[1.0])|                 2008|1354.0| (34,[11],[1.0])|        (5,[1],[1.0])|          (1,[0],[1.0])|(13,[0],[1.0])|(1,[0],[1.0])|             (2,[0],[1.0])|                0.0|(120,[0,1,2,3,5,6...|[0.78026544677470...|[0.68573732097571...|       0.0|\n",
            "|   10000.0|   17.57|   4400.0|           1.0| Fully Paid|     0.0|    11184.0|     3.0|    0.0|                 0.0|  11184.0|      86.0|      7.0|   (50,[1],[1.0])|                 2002|1364.0| (34,[16],[1.0])|        (5,[2],[1.0])|          (1,[0],[1.0])|(13,[0],[1.0])|(1,[0],[1.0])|                 (2,[],[])|                0.0|(120,[0,1,2,3,5,6...|[0.96189888349260...|[0.72350183211025...|       0.0|\n",
            "|   10500.0|   12.59|   4400.0|           2.0| Fully Paid|     0.0|     4490.0|     3.0|    0.0|                 0.0|   4490.0|      76.1|      5.0|   (50,[1],[1.0])|                 2012|1364.0|  (34,[3],[1.0])|        (5,[1],[1.0])|          (1,[0],[1.0])|(13,[0],[1.0])|(1,[0],[1.0])|             (2,[0],[1.0])|                0.0|(120,[0,1,2,3,5,6...|[1.18901836799468...|[0.76656545415721...|       0.0|\n",
            "|   11000.0|   13.33|   4600.0|           2.0| Fully Paid|     0.0|     7250.0|    13.0|    0.0|                 0.0|   3841.0|      25.1|     17.0|  (50,[22],[1.0])|                 1995|1384.0|  (34,[5],[1.0])|        (5,[0],[1.0])|          (1,[0],[1.0])|(13,[0],[1.0])|(1,[0],[1.0])|                 (2,[],[])|                0.0|(120,[0,1,2,3,5,6...|[1.52877961458007...|[0.82182768708996...|       0.0|\n",
            "|   11000.0|   13.67|   3675.0|           8.0| Fully Paid|     0.0|    35757.0|    18.0|    0.0|                 0.0|   8412.0|      60.1|     21.0|   (50,[5],[1.0])|                 2011|1334.0|  (34,[6],[1.0])|        (5,[1],[1.0])|          (1,[0],[1.0])|(13,[0],[1.0])|(1,[0],[1.0])|             (2,[0],[1.0])|                0.0|(120,[0,1,2,3,5,6...|[0.53843078974147...|[0.63144730399052...|       0.0|\n",
            "|   11000.0|   16.99|   4825.0|           1.0| Fully Paid|     0.0|    43328.0|    18.0|    0.0|                 0.0|   5272.0|      40.6|     21.0|   (50,[2],[1.0])|                 2010|1444.0| (34,[15],[1.0])|        (5,[1],[1.0])|          (1,[0],[1.0])|(13,[0],[1.0])|(1,[0],[1.0])|                 (2,[],[])|                0.0|(120,[0,1,2,3,5,6...|[0.73026476507318...|[0.67486337076590...|       0.0|\n",
            "|   11000.0|   18.25|   3950.0|           1.0| Fully Paid|     0.0|    13167.0|    11.0|    0.0|                 0.0|   3399.0|      19.2|     28.0|   (50,[0],[1.0])|                 2005|1444.0| (34,[20],[1.0])|        (5,[1],[1.0])|          (1,[0],[1.0])|(13,[3],[1.0])|(1,[0],[1.0])|                 (2,[],[])|                0.0|(120,[0,1,2,3,5,6...|[0.83531623199381...|[0.69747784430412...|       0.0|\n",
            "|   12000.0|    6.89|   5000.0|           4.0| Fully Paid|     0.0|     5247.0|    10.0|    0.0|                 0.0|   5247.0|      36.4|     11.0|   (50,[2],[1.0])|                 2008|1444.0| (34,[17],[1.0])|        (5,[2],[1.0])|          (1,[0],[1.0])|(13,[0],[1.0])|(1,[0],[1.0])|             (2,[0],[1.0])|                0.0|(120,[0,1,2,3,5,6...|[2.47639123044887...|[0.92247009537917...|       0.0|\n",
            "|   12000.0|    7.89|   5050.0|           3.0|Charged Off|     0.0|     5050.0|     5.0|    0.0|                 0.0|   5050.0|      53.7|      8.0|  (50,[32],[1.0])|                 1998|1424.0| (34,[10],[1.0])|        (5,[1],[1.0])|          (1,[0],[1.0])|(13,[0],[1.0])|(1,[0],[1.0])|             (2,[0],[1.0])|                1.0|(120,[0,1,2,3,5,6...|[1.87427592808788...|[0.86695226316561...|       0.0|\n",
            "|   12000.0|    9.99|   4000.0|           3.0| Fully Paid|     0.0|    30921.0|    16.0|    0.0|                 0.0|   2669.0|      13.4|     18.0|   (50,[5],[1.0])|                 2008|1394.0|  (34,[4],[1.0])|        (5,[1],[1.0])|          (1,[0],[1.0])|(13,[6],[1.0])|(1,[0],[1.0])|             (2,[0],[1.0])|                0.0|(120,[0,1,2,3,5,6...|[1.55376811930515...|[0.82545729918715...|       0.0|\n",
            "|   12000.0|   12.05|   3000.0|           2.0| Fully Paid|     0.0|    28969.0|    11.0|    2.0|                 2.0|   3250.0|      28.0|     12.0|   (50,[7],[1.0])|                 2009|1374.0|  (34,[0],[1.0])|        (5,[1],[1.0])|          (1,[0],[1.0])|(13,[0],[1.0])|(1,[0],[1.0])|             (2,[0],[1.0])|                0.0|(120,[0,1,2,3,5,6...|[1.11508885864980...|[0.75307661425676...|       0.0|\n",
            "|   12000.0|   12.59|   3200.0|           2.0| Fully Paid|     0.0|    13573.0|     7.0|    0.0|                 0.0|   3073.0|      27.7|      8.0|   (50,[0],[1.0])|                 2012|1384.0|  (34,[3],[1.0])|        (5,[1],[1.0])|          (1,[0],[1.0])|(13,[4],[1.0])|(1,[0],[1.0])|             (2,[0],[1.0])|                0.0|(120,[0,1,2,3,5,6...|[1.18128166328404...|[0.76517817197454...|       0.0|\n",
            "|   12000.0|   13.33|   5500.0|           3.0| Fully Paid|     0.0|    20666.0|     5.0|    0.0|                 0.0|   4782.0|      78.4|     13.0|   (50,[1],[1.0])|                 2008|1374.0|  (34,[5],[1.0])|        (5,[0],[1.0])|          (1,[0],[1.0])|(13,[1],[1.0])|(1,[0],[1.0])|                 (2,[],[])|                0.0|(120,[0,1,2,3,5,6...|[1.39413651922507...|[0.80125179385185...|       0.0|\n",
            "+----------+--------+---------+--------------+-----------+--------+-----------+--------+-------+--------------------+---------+----------+---------+-----------------+---------------------+------+----------------+---------------------+-----------------------+--------------+-------------+--------------------------+-------------------+--------------------+--------------------+--------------------+----------+\n",
            "only showing top 20 rows\n",
            "\n"
          ]
        }
      ]
    },
    {
      "cell_type": "markdown",
      "source": [
        "Model Metrics"
      ],
      "metadata": {
        "id": "7hO4fAfJept4"
      }
    },
    {
      "cell_type": "code",
      "source": [
        "printAllMetrics(results)"
      ],
      "metadata": {
        "colab": {
          "base_uri": "https://localhost:8080/"
        },
        "id": "e6Upxf5wza8W",
        "outputId": "1fa28363-466a-4ca8-9862-2e8bc70583d1"
      },
      "execution_count": null,
      "outputs": [
        {
          "output_type": "stream",
          "name": "stdout",
          "text": [
            "AVERAGE PRECISION      0.76\n",
            "AVERAGE RECALL         0.80\n",
            "AVERAGE F1              0.73\n",
            "ACCURACY                80.27%\n"
          ]
        }
      ]
    },
    {
      "cell_type": "markdown",
      "source": [
        "# DECISION TREE"
      ],
      "metadata": {
        "id": "Oz7UybIXer9Z"
      }
    },
    {
      "cell_type": "code",
      "source": [
        "from pyspark.ml.classification import DecisionTreeClassifier\n",
        "\n",
        "classifier = DecisionTreeClassifier(seed=1234,labelCol=\"loan_status_numeric\",featuresCol=\"featureVector\",predictionCol=\"prediction\")\n",
        "model=classifier.fit(assembled_train_data)\n",
        "print(model.toDebugString)"
      ],
      "metadata": {
        "colab": {
          "base_uri": "https://localhost:8080/"
        },
        "id": "px8t5MB4x2xu",
        "outputId": "8e6081f3-2e56-412b-f822-09387ecb4992"
      },
      "execution_count": null,
      "outputs": [
        {
          "output_type": "stream",
          "name": "stdout",
          "text": [
            "DecisionTreeClassificationModel: uid=DecisionTreeClassifier_7c1ca8242668, depth=5, numNodes=11, numClasses=2, numFeatures=120\n",
            "  If (feature 1 <= 13.465)\n",
            "   Predict: 0.0\n",
            "  Else (feature 1 > 13.465)\n",
            "   If (feature 117 <= 0.5)\n",
            "    If (feature 1 <= 17.369999999999997)\n",
            "     Predict: 0.0\n",
            "    Else (feature 1 > 17.369999999999997)\n",
            "     If (feature 99 <= 0.5)\n",
            "      Predict: 0.0\n",
            "     Else (feature 99 > 0.5)\n",
            "      If (feature 1 <= 24.034999999999997)\n",
            "       Predict: 0.0\n",
            "      Else (feature 1 > 24.034999999999997)\n",
            "       Predict: 1.0\n",
            "   Else (feature 117 > 0.5)\n",
            "    Predict: 0.0\n",
            "\n"
          ]
        }
      ]
    },
    {
      "cell_type": "code",
      "source": [
        "results = model.transform(assembled_test_data )\n",
        "results.show()"
      ],
      "metadata": {
        "colab": {
          "base_uri": "https://localhost:8080/"
        },
        "id": "i139x3NN-s8i",
        "outputId": "64045520-8770-4982-b4eb-b564cb0ad9d3"
      },
      "execution_count": null,
      "outputs": [
        {
          "output_type": "stream",
          "name": "stdout",
          "text": [
            "+----------+--------+---------+--------------+-----------+--------+-----------+--------+-------+--------------------+---------+----------+---------+-----------------+---------------------+------+----------------+---------------------+-----------------------+--------------+-------------+--------------------------+-------------------+--------------------+------------------+--------------------+----------+\n",
            "|annual_inc|int_rate|loan_amnt|num_actv_bc_tl|loan_status|mort_acc|tot_cur_bal|open_acc|pub_rec|pub_rec_bankruptcies|revol_bal|revol_util|total_acc|addr_state_onehot|earliest_cr_line_year|  fico|sub_grade_onehot|home_ownership_onehot|application_type_onehot|purpose_onehot|  term_onehot|verification_status_onehot|loan_status_numeric|       featureVector|     rawPrediction|         probability|prediction|\n",
            "+----------+--------+---------+--------------+-----------+--------+-----------+--------+-------+--------------------+---------+----------+---------+-----------------+---------------------+------+----------------+---------------------+-----------------------+--------------+-------------+--------------------------+-------------------+--------------------+------------------+--------------------+----------+\n",
            "|    5000.0|   16.99|  19000.0|           3.0| Fully Paid|     3.0|   314343.0|    25.0|    0.0|                 0.0|  19104.0|      33.3|     62.0|   (50,[1],[1.0])|                 1985|1354.0| (34,[15],[1.0])|        (5,[0],[1.0])|              (1,[],[])|(13,[3],[1.0])|    (1,[],[])|             (2,[0],[1.0])|                0.0|(120,[0,1,2,3,4,5...| [49770.0,21719.0]|[0.69619102239505...|       0.0|\n",
            "|    5360.0|   12.59|   1000.0|           1.0|Charged Off|     0.0|     1807.0|     5.0|    0.0|                 0.0|    821.0|       1.7|     28.0|   (50,[4],[1.0])|                 1998|1364.0|  (34,[3],[1.0])|        (5,[1],[1.0])|          (1,[0],[1.0])|(13,[3],[1.0])|(1,[0],[1.0])|             (2,[0],[1.0])|                1.0|(120,[0,1,2,3,5,6...|[420579.0,57856.0]|[0.87907239227899...|       0.0|\n",
            "|    8000.0|    9.99|   2800.0|           2.0|Charged Off|     0.0|     1478.0|     5.0|    0.0|                 0.0|   1478.0|      12.0|      5.0|   (50,[3],[1.0])|                 2011|1504.0|  (34,[4],[1.0])|        (5,[1],[1.0])|          (1,[0],[1.0])|(13,[4],[1.0])|(1,[0],[1.0])|             (2,[1],[1.0])|                1.0|(120,[0,1,2,3,5,6...|[420579.0,57856.0]|[0.87907239227899...|       0.0|\n",
            "|    8400.0|   17.86|   2500.0|           0.0|Charged Off|     0.0|      600.0|     3.0|    0.0|                 0.0|    600.0|       3.6|      4.0|  (50,[18],[1.0])|                 2001|1414.0| (34,[19],[1.0])|        (5,[2],[1.0])|          (1,[0],[1.0])|(13,[3],[1.0])|(1,[0],[1.0])|                 (2,[],[])|                1.0|(120,[0,1,2,5,6,9...|[171885.0,55344.0]|[0.75643953896729...|       0.0|\n",
            "|    8663.0|    18.2|   2750.0|           1.0| Fully Paid|     0.0|    31966.0|    11.0|    0.0|                 0.0|   1877.0|      45.8|     11.0|   (50,[3],[1.0])|                 2011|1384.0| (34,[20],[1.0])|        (5,[1],[1.0])|          (1,[0],[1.0])|(13,[7],[1.0])|(1,[0],[1.0])|                 (2,[],[])|                0.0|(120,[0,1,2,3,5,6...|[171885.0,55344.0]|[0.75643953896729...|       0.0|\n",
            "|   10000.0|   13.18|   3600.0|           3.0| Fully Paid|     0.0|     5799.0|    14.0|    0.0|                 0.0|   5799.0|      39.7|     16.0|   (50,[0],[1.0])|                 2008|1334.0|  (34,[5],[1.0])|        (5,[1],[1.0])|          (1,[0],[1.0])|(13,[0],[1.0])|(1,[0],[1.0])|             (2,[0],[1.0])|                0.0|(120,[0,1,2,3,5,6...|[420579.0,57856.0]|[0.87907239227899...|       0.0|\n",
            "|   10000.0|   14.65|   2500.0|           4.0| Fully Paid|     0.0|     3191.0|     6.0|    0.0|                 0.0|   3191.0|      34.7|      6.0|   (50,[1],[1.0])|                 2006|1404.0|  (34,[9],[1.0])|        (5,[1],[1.0])|          (1,[0],[1.0])|(13,[0],[1.0])|(1,[0],[1.0])|                 (2,[],[])|                0.0|(120,[0,1,2,3,5,6...|[171885.0,55344.0]|[0.75643953896729...|       0.0|\n",
            "|   10000.0|   15.61|   3600.0|           3.0| Fully Paid|     0.0|     3423.0|     7.0|    0.0|                 0.0|   3423.0|      46.9|      7.0|   (50,[3],[1.0])|                 2008|1354.0| (34,[11],[1.0])|        (5,[1],[1.0])|          (1,[0],[1.0])|(13,[0],[1.0])|(1,[0],[1.0])|             (2,[0],[1.0])|                0.0|(120,[0,1,2,3,5,6...|[171885.0,55344.0]|[0.75643953896729...|       0.0|\n",
            "|   10000.0|   17.57|   4400.0|           1.0| Fully Paid|     0.0|    11184.0|     3.0|    0.0|                 0.0|  11184.0|      86.0|      7.0|   (50,[1],[1.0])|                 2002|1364.0| (34,[16],[1.0])|        (5,[2],[1.0])|          (1,[0],[1.0])|(13,[0],[1.0])|(1,[0],[1.0])|                 (2,[],[])|                0.0|(120,[0,1,2,3,5,6...|[171885.0,55344.0]|[0.75643953896729...|       0.0|\n",
            "|   10500.0|   12.59|   4400.0|           2.0| Fully Paid|     0.0|     4490.0|     3.0|    0.0|                 0.0|   4490.0|      76.1|      5.0|   (50,[1],[1.0])|                 2012|1364.0|  (34,[3],[1.0])|        (5,[1],[1.0])|          (1,[0],[1.0])|(13,[0],[1.0])|(1,[0],[1.0])|             (2,[0],[1.0])|                0.0|(120,[0,1,2,3,5,6...|[420579.0,57856.0]|[0.87907239227899...|       0.0|\n",
            "|   11000.0|   13.33|   4600.0|           2.0| Fully Paid|     0.0|     7250.0|    13.0|    0.0|                 0.0|   3841.0|      25.1|     17.0|  (50,[22],[1.0])|                 1995|1384.0|  (34,[5],[1.0])|        (5,[0],[1.0])|          (1,[0],[1.0])|(13,[0],[1.0])|(1,[0],[1.0])|                 (2,[],[])|                0.0|(120,[0,1,2,3,5,6...|[420579.0,57856.0]|[0.87907239227899...|       0.0|\n",
            "|   11000.0|   13.67|   3675.0|           8.0| Fully Paid|     0.0|    35757.0|    18.0|    0.0|                 0.0|   8412.0|      60.1|     21.0|   (50,[5],[1.0])|                 2011|1334.0|  (34,[6],[1.0])|        (5,[1],[1.0])|          (1,[0],[1.0])|(13,[0],[1.0])|(1,[0],[1.0])|             (2,[0],[1.0])|                0.0|(120,[0,1,2,3,5,6...|[171885.0,55344.0]|[0.75643953896729...|       0.0|\n",
            "|   11000.0|   16.99|   4825.0|           1.0| Fully Paid|     0.0|    43328.0|    18.0|    0.0|                 0.0|   5272.0|      40.6|     21.0|   (50,[2],[1.0])|                 2010|1444.0| (34,[15],[1.0])|        (5,[1],[1.0])|          (1,[0],[1.0])|(13,[0],[1.0])|(1,[0],[1.0])|                 (2,[],[])|                0.0|(120,[0,1,2,3,5,6...|[171885.0,55344.0]|[0.75643953896729...|       0.0|\n",
            "|   11000.0|   18.25|   3950.0|           1.0| Fully Paid|     0.0|    13167.0|    11.0|    0.0|                 0.0|   3399.0|      19.2|     28.0|   (50,[0],[1.0])|                 2005|1444.0| (34,[20],[1.0])|        (5,[1],[1.0])|          (1,[0],[1.0])|(13,[3],[1.0])|(1,[0],[1.0])|                 (2,[],[])|                0.0|(120,[0,1,2,3,5,6...|[171885.0,55344.0]|[0.75643953896729...|       0.0|\n",
            "|   12000.0|    6.89|   5000.0|           4.0| Fully Paid|     0.0|     5247.0|    10.0|    0.0|                 0.0|   5247.0|      36.4|     11.0|   (50,[2],[1.0])|                 2008|1444.0| (34,[17],[1.0])|        (5,[2],[1.0])|          (1,[0],[1.0])|(13,[0],[1.0])|(1,[0],[1.0])|             (2,[0],[1.0])|                0.0|(120,[0,1,2,3,5,6...|[420579.0,57856.0]|[0.87907239227899...|       0.0|\n",
            "|   12000.0|    7.89|   5050.0|           3.0|Charged Off|     0.0|     5050.0|     5.0|    0.0|                 0.0|   5050.0|      53.7|      8.0|  (50,[32],[1.0])|                 1998|1424.0| (34,[10],[1.0])|        (5,[1],[1.0])|          (1,[0],[1.0])|(13,[0],[1.0])|(1,[0],[1.0])|             (2,[0],[1.0])|                1.0|(120,[0,1,2,3,5,6...|[420579.0,57856.0]|[0.87907239227899...|       0.0|\n",
            "|   12000.0|    9.99|   4000.0|           3.0| Fully Paid|     0.0|    30921.0|    16.0|    0.0|                 0.0|   2669.0|      13.4|     18.0|   (50,[5],[1.0])|                 2008|1394.0|  (34,[4],[1.0])|        (5,[1],[1.0])|          (1,[0],[1.0])|(13,[6],[1.0])|(1,[0],[1.0])|             (2,[0],[1.0])|                0.0|(120,[0,1,2,3,5,6...|[420579.0,57856.0]|[0.87907239227899...|       0.0|\n",
            "|   12000.0|   12.05|   3000.0|           2.0| Fully Paid|     0.0|    28969.0|    11.0|    2.0|                 2.0|   3250.0|      28.0|     12.0|   (50,[7],[1.0])|                 2009|1374.0|  (34,[0],[1.0])|        (5,[1],[1.0])|          (1,[0],[1.0])|(13,[0],[1.0])|(1,[0],[1.0])|             (2,[0],[1.0])|                0.0|(120,[0,1,2,3,5,6...|[420579.0,57856.0]|[0.87907239227899...|       0.0|\n",
            "|   12000.0|   12.59|   3200.0|           2.0| Fully Paid|     0.0|    13573.0|     7.0|    0.0|                 0.0|   3073.0|      27.7|      8.0|   (50,[0],[1.0])|                 2012|1384.0|  (34,[3],[1.0])|        (5,[1],[1.0])|          (1,[0],[1.0])|(13,[4],[1.0])|(1,[0],[1.0])|             (2,[0],[1.0])|                0.0|(120,[0,1,2,3,5,6...|[420579.0,57856.0]|[0.87907239227899...|       0.0|\n",
            "|   12000.0|   13.33|   5500.0|           3.0| Fully Paid|     0.0|    20666.0|     5.0|    0.0|                 0.0|   4782.0|      78.4|     13.0|   (50,[1],[1.0])|                 2008|1374.0|  (34,[5],[1.0])|        (5,[0],[1.0])|          (1,[0],[1.0])|(13,[1],[1.0])|(1,[0],[1.0])|                 (2,[],[])|                0.0|(120,[0,1,2,3,5,6...|[420579.0,57856.0]|[0.87907239227899...|       0.0|\n",
            "+----------+--------+---------+--------------+-----------+--------+-----------+--------+-------+--------------------+---------+----------+---------+-----------------+---------------------+------+----------------+---------------------+-----------------------+--------------+-------------+--------------------------+-------------------+--------------------+------------------+--------------------+----------+\n",
            "only showing top 20 rows\n",
            "\n"
          ]
        }
      ]
    },
    {
      "cell_type": "markdown",
      "source": [
        "Model Metrics"
      ],
      "metadata": {
        "id": "-tyCGbJZgnLW"
      }
    },
    {
      "cell_type": "code",
      "source": [
        "printAllMetrics(results)"
      ],
      "metadata": {
        "colab": {
          "base_uri": "https://localhost:8080/"
        },
        "id": "dU_oQgZ-2LsA",
        "outputId": "67a883eb-2901-40ff-f40d-7185e25a0773"
      },
      "execution_count": null,
      "outputs": [
        {
          "output_type": "stream",
          "name": "stdout",
          "text": [
            "AVERAGE PRECISION      0.75\n",
            "AVERAGE RECALL         0.80\n",
            "AVERAGE F1              0.72\n",
            "ACCURACY                80.13%\n"
          ]
        }
      ]
    },
    {
      "cell_type": "markdown",
      "source": [
        "# RANDOM FOREST CLASSIFIER"
      ],
      "metadata": {
        "id": "HWRgQn3vgdGT"
      }
    },
    {
      "cell_type": "code",
      "source": [
        "from pyspark.ml.classification import RandomForestClassifier\n",
        "model = RandomForestClassifier(labelCol=\"loan_status_numeric\",featuresCol=\"featureVector\",predictionCol=\"prediction\")\n",
        "model=classifier.fit(assembled_train_data)"
      ],
      "metadata": {
        "id": "LH_TQXRJ2o4j"
      },
      "execution_count": null,
      "outputs": []
    },
    {
      "cell_type": "code",
      "source": [
        "results = model.transform(assembled_test_data)\n",
        "results.show()"
      ],
      "metadata": {
        "colab": {
          "base_uri": "https://localhost:8080/"
        },
        "id": "E-vOsiRNEiWx",
        "outputId": "d7b93340-8fe7-4846-a781-1a77b8bf938f"
      },
      "execution_count": null,
      "outputs": [
        {
          "output_type": "stream",
          "name": "stdout",
          "text": [
            "+----------+--------+---------+--------------+-----------+--------+-----------+--------+-------+--------------------+---------+----------+---------+-----------------+---------------------+------+----------------+---------------------+-----------------------+--------------+-------------+--------------------------+-------------------+--------------------+------------------+--------------------+----------+\n",
            "|annual_inc|int_rate|loan_amnt|num_actv_bc_tl|loan_status|mort_acc|tot_cur_bal|open_acc|pub_rec|pub_rec_bankruptcies|revol_bal|revol_util|total_acc|addr_state_onehot|earliest_cr_line_year|  fico|sub_grade_onehot|home_ownership_onehot|application_type_onehot|purpose_onehot|  term_onehot|verification_status_onehot|loan_status_numeric|       featureVector|     rawPrediction|         probability|prediction|\n",
            "+----------+--------+---------+--------------+-----------+--------+-----------+--------+-------+--------------------+---------+----------+---------+-----------------+---------------------+------+----------------+---------------------+-----------------------+--------------+-------------+--------------------------+-------------------+--------------------+------------------+--------------------+----------+\n",
            "|    5000.0|   16.99|  19000.0|           3.0| Fully Paid|     3.0|   314343.0|    25.0|    0.0|                 0.0|  19104.0|      33.3|     62.0|   (50,[1],[1.0])|                 1985|1354.0| (34,[15],[1.0])|        (5,[0],[1.0])|              (1,[],[])|(13,[3],[1.0])|    (1,[],[])|             (2,[0],[1.0])|                0.0|(120,[0,1,2,3,4,5...| [49770.0,21719.0]|[0.69619102239505...|       0.0|\n",
            "|    5360.0|   12.59|   1000.0|           1.0|Charged Off|     0.0|     1807.0|     5.0|    0.0|                 0.0|    821.0|       1.7|     28.0|   (50,[4],[1.0])|                 1998|1364.0|  (34,[3],[1.0])|        (5,[1],[1.0])|          (1,[0],[1.0])|(13,[3],[1.0])|(1,[0],[1.0])|             (2,[0],[1.0])|                1.0|(120,[0,1,2,3,5,6...|[420579.0,57856.0]|[0.87907239227899...|       0.0|\n",
            "|    8000.0|    9.99|   2800.0|           2.0|Charged Off|     0.0|     1478.0|     5.0|    0.0|                 0.0|   1478.0|      12.0|      5.0|   (50,[3],[1.0])|                 2011|1504.0|  (34,[4],[1.0])|        (5,[1],[1.0])|          (1,[0],[1.0])|(13,[4],[1.0])|(1,[0],[1.0])|             (2,[1],[1.0])|                1.0|(120,[0,1,2,3,5,6...|[420579.0,57856.0]|[0.87907239227899...|       0.0|\n",
            "|    8400.0|   17.86|   2500.0|           0.0|Charged Off|     0.0|      600.0|     3.0|    0.0|                 0.0|    600.0|       3.6|      4.0|  (50,[18],[1.0])|                 2001|1414.0| (34,[19],[1.0])|        (5,[2],[1.0])|          (1,[0],[1.0])|(13,[3],[1.0])|(1,[0],[1.0])|                 (2,[],[])|                1.0|(120,[0,1,2,5,6,9...|[171885.0,55344.0]|[0.75643953896729...|       0.0|\n",
            "|    8663.0|    18.2|   2750.0|           1.0| Fully Paid|     0.0|    31966.0|    11.0|    0.0|                 0.0|   1877.0|      45.8|     11.0|   (50,[3],[1.0])|                 2011|1384.0| (34,[20],[1.0])|        (5,[1],[1.0])|          (1,[0],[1.0])|(13,[7],[1.0])|(1,[0],[1.0])|                 (2,[],[])|                0.0|(120,[0,1,2,3,5,6...|[171885.0,55344.0]|[0.75643953896729...|       0.0|\n",
            "|   10000.0|   13.18|   3600.0|           3.0| Fully Paid|     0.0|     5799.0|    14.0|    0.0|                 0.0|   5799.0|      39.7|     16.0|   (50,[0],[1.0])|                 2008|1334.0|  (34,[5],[1.0])|        (5,[1],[1.0])|          (1,[0],[1.0])|(13,[0],[1.0])|(1,[0],[1.0])|             (2,[0],[1.0])|                0.0|(120,[0,1,2,3,5,6...|[420579.0,57856.0]|[0.87907239227899...|       0.0|\n",
            "|   10000.0|   14.65|   2500.0|           4.0| Fully Paid|     0.0|     3191.0|     6.0|    0.0|                 0.0|   3191.0|      34.7|      6.0|   (50,[1],[1.0])|                 2006|1404.0|  (34,[9],[1.0])|        (5,[1],[1.0])|          (1,[0],[1.0])|(13,[0],[1.0])|(1,[0],[1.0])|                 (2,[],[])|                0.0|(120,[0,1,2,3,5,6...|[171885.0,55344.0]|[0.75643953896729...|       0.0|\n",
            "|   10000.0|   15.61|   3600.0|           3.0| Fully Paid|     0.0|     3423.0|     7.0|    0.0|                 0.0|   3423.0|      46.9|      7.0|   (50,[3],[1.0])|                 2008|1354.0| (34,[11],[1.0])|        (5,[1],[1.0])|          (1,[0],[1.0])|(13,[0],[1.0])|(1,[0],[1.0])|             (2,[0],[1.0])|                0.0|(120,[0,1,2,3,5,6...|[171885.0,55344.0]|[0.75643953896729...|       0.0|\n",
            "|   10000.0|   17.57|   4400.0|           1.0| Fully Paid|     0.0|    11184.0|     3.0|    0.0|                 0.0|  11184.0|      86.0|      7.0|   (50,[1],[1.0])|                 2002|1364.0| (34,[16],[1.0])|        (5,[2],[1.0])|          (1,[0],[1.0])|(13,[0],[1.0])|(1,[0],[1.0])|                 (2,[],[])|                0.0|(120,[0,1,2,3,5,6...|[171885.0,55344.0]|[0.75643953896729...|       0.0|\n",
            "|   10500.0|   12.59|   4400.0|           2.0| Fully Paid|     0.0|     4490.0|     3.0|    0.0|                 0.0|   4490.0|      76.1|      5.0|   (50,[1],[1.0])|                 2012|1364.0|  (34,[3],[1.0])|        (5,[1],[1.0])|          (1,[0],[1.0])|(13,[0],[1.0])|(1,[0],[1.0])|             (2,[0],[1.0])|                0.0|(120,[0,1,2,3,5,6...|[420579.0,57856.0]|[0.87907239227899...|       0.0|\n",
            "|   11000.0|   13.33|   4600.0|           2.0| Fully Paid|     0.0|     7250.0|    13.0|    0.0|                 0.0|   3841.0|      25.1|     17.0|  (50,[22],[1.0])|                 1995|1384.0|  (34,[5],[1.0])|        (5,[0],[1.0])|          (1,[0],[1.0])|(13,[0],[1.0])|(1,[0],[1.0])|                 (2,[],[])|                0.0|(120,[0,1,2,3,5,6...|[420579.0,57856.0]|[0.87907239227899...|       0.0|\n",
            "|   11000.0|   13.67|   3675.0|           8.0| Fully Paid|     0.0|    35757.0|    18.0|    0.0|                 0.0|   8412.0|      60.1|     21.0|   (50,[5],[1.0])|                 2011|1334.0|  (34,[6],[1.0])|        (5,[1],[1.0])|          (1,[0],[1.0])|(13,[0],[1.0])|(1,[0],[1.0])|             (2,[0],[1.0])|                0.0|(120,[0,1,2,3,5,6...|[171885.0,55344.0]|[0.75643953896729...|       0.0|\n",
            "|   11000.0|   16.99|   4825.0|           1.0| Fully Paid|     0.0|    43328.0|    18.0|    0.0|                 0.0|   5272.0|      40.6|     21.0|   (50,[2],[1.0])|                 2010|1444.0| (34,[15],[1.0])|        (5,[1],[1.0])|          (1,[0],[1.0])|(13,[0],[1.0])|(1,[0],[1.0])|                 (2,[],[])|                0.0|(120,[0,1,2,3,5,6...|[171885.0,55344.0]|[0.75643953896729...|       0.0|\n",
            "|   11000.0|   18.25|   3950.0|           1.0| Fully Paid|     0.0|    13167.0|    11.0|    0.0|                 0.0|   3399.0|      19.2|     28.0|   (50,[0],[1.0])|                 2005|1444.0| (34,[20],[1.0])|        (5,[1],[1.0])|          (1,[0],[1.0])|(13,[3],[1.0])|(1,[0],[1.0])|                 (2,[],[])|                0.0|(120,[0,1,2,3,5,6...|[171885.0,55344.0]|[0.75643953896729...|       0.0|\n",
            "|   12000.0|    6.89|   5000.0|           4.0| Fully Paid|     0.0|     5247.0|    10.0|    0.0|                 0.0|   5247.0|      36.4|     11.0|   (50,[2],[1.0])|                 2008|1444.0| (34,[17],[1.0])|        (5,[2],[1.0])|          (1,[0],[1.0])|(13,[0],[1.0])|(1,[0],[1.0])|             (2,[0],[1.0])|                0.0|(120,[0,1,2,3,5,6...|[420579.0,57856.0]|[0.87907239227899...|       0.0|\n",
            "|   12000.0|    7.89|   5050.0|           3.0|Charged Off|     0.0|     5050.0|     5.0|    0.0|                 0.0|   5050.0|      53.7|      8.0|  (50,[32],[1.0])|                 1998|1424.0| (34,[10],[1.0])|        (5,[1],[1.0])|          (1,[0],[1.0])|(13,[0],[1.0])|(1,[0],[1.0])|             (2,[0],[1.0])|                1.0|(120,[0,1,2,3,5,6...|[420579.0,57856.0]|[0.87907239227899...|       0.0|\n",
            "|   12000.0|    9.99|   4000.0|           3.0| Fully Paid|     0.0|    30921.0|    16.0|    0.0|                 0.0|   2669.0|      13.4|     18.0|   (50,[5],[1.0])|                 2008|1394.0|  (34,[4],[1.0])|        (5,[1],[1.0])|          (1,[0],[1.0])|(13,[6],[1.0])|(1,[0],[1.0])|             (2,[0],[1.0])|                0.0|(120,[0,1,2,3,5,6...|[420579.0,57856.0]|[0.87907239227899...|       0.0|\n",
            "|   12000.0|   12.05|   3000.0|           2.0| Fully Paid|     0.0|    28969.0|    11.0|    2.0|                 2.0|   3250.0|      28.0|     12.0|   (50,[7],[1.0])|                 2009|1374.0|  (34,[0],[1.0])|        (5,[1],[1.0])|          (1,[0],[1.0])|(13,[0],[1.0])|(1,[0],[1.0])|             (2,[0],[1.0])|                0.0|(120,[0,1,2,3,5,6...|[420579.0,57856.0]|[0.87907239227899...|       0.0|\n",
            "|   12000.0|   12.59|   3200.0|           2.0| Fully Paid|     0.0|    13573.0|     7.0|    0.0|                 0.0|   3073.0|      27.7|      8.0|   (50,[0],[1.0])|                 2012|1384.0|  (34,[3],[1.0])|        (5,[1],[1.0])|          (1,[0],[1.0])|(13,[4],[1.0])|(1,[0],[1.0])|             (2,[0],[1.0])|                0.0|(120,[0,1,2,3,5,6...|[420579.0,57856.0]|[0.87907239227899...|       0.0|\n",
            "|   12000.0|   13.33|   5500.0|           3.0| Fully Paid|     0.0|    20666.0|     5.0|    0.0|                 0.0|   4782.0|      78.4|     13.0|   (50,[1],[1.0])|                 2008|1374.0|  (34,[5],[1.0])|        (5,[0],[1.0])|          (1,[0],[1.0])|(13,[1],[1.0])|(1,[0],[1.0])|                 (2,[],[])|                0.0|(120,[0,1,2,3,5,6...|[420579.0,57856.0]|[0.87907239227899...|       0.0|\n",
            "+----------+--------+---------+--------------+-----------+--------+-----------+--------+-------+--------------------+---------+----------+---------+-----------------+---------------------+------+----------------+---------------------+-----------------------+--------------+-------------+--------------------------+-------------------+--------------------+------------------+--------------------+----------+\n",
            "only showing top 20 rows\n",
            "\n"
          ]
        }
      ]
    },
    {
      "cell_type": "markdown",
      "source": [
        "Model Metrics"
      ],
      "metadata": {
        "id": "VG_GfrHVgkHD"
      }
    },
    {
      "cell_type": "code",
      "source": [
        "printAllMetrics(results)"
      ],
      "metadata": {
        "colab": {
          "base_uri": "https://localhost:8080/"
        },
        "id": "4cP2EDHsEmud",
        "outputId": "7bcfc98e-3172-4ac8-8081-215ccfbf6940"
      },
      "execution_count": null,
      "outputs": [
        {
          "output_type": "stream",
          "name": "stdout",
          "text": [
            "AVERAGE PRECISION      0.75\n",
            "AVERAGE RECALL         0.80\n",
            "AVERAGE F1              0.72\n",
            "ACCURACY                80.13%\n"
          ]
        }
      ]
    },
    {
      "cell_type": "markdown",
      "source": [
        "# GRADIENT BOOSTING CLASSIFIER"
      ],
      "metadata": {
        "id": "AkRvViBLgp31"
      }
    },
    {
      "cell_type": "code",
      "source": [
        "from pyspark.ml.classification import GBTClassifier\n",
        "model = BTClassifier(labelCol=\"loan_status_numeric\",featuresCol=\"featureVector\",predictionCol=\"prediction\")\n",
        "model=classifier.fit(assembled_train_data)"
      ],
      "metadata": {
        "id": "JG3da0dAE5NK"
      },
      "execution_count": null,
      "outputs": []
    },
    {
      "cell_type": "code",
      "source": [
        "results = model.transform(assembled_test_data )\n",
        "results.show()"
      ],
      "metadata": {
        "colab": {
          "base_uri": "https://localhost:8080/"
        },
        "id": "sMeNuSW3E7Yr",
        "outputId": "9984aaed-0d27-4352-ad89-aebea49a0aeb"
      },
      "execution_count": null,
      "outputs": [
        {
          "output_type": "stream",
          "name": "stdout",
          "text": [
            "+----------+--------+---------+--------------+-----------+--------+-----------+--------+-------+--------------------+---------+----------+---------+-----------------+---------------------+------+----------------+---------------------+-----------------------+--------------+-------------+--------------------------+-------------------+--------------------+------------------+--------------------+----------+\n",
            "|annual_inc|int_rate|loan_amnt|num_actv_bc_tl|loan_status|mort_acc|tot_cur_bal|open_acc|pub_rec|pub_rec_bankruptcies|revol_bal|revol_util|total_acc|addr_state_onehot|earliest_cr_line_year|  fico|sub_grade_onehot|home_ownership_onehot|application_type_onehot|purpose_onehot|  term_onehot|verification_status_onehot|loan_status_numeric|       featureVector|     rawPrediction|         probability|prediction|\n",
            "+----------+--------+---------+--------------+-----------+--------+-----------+--------+-------+--------------------+---------+----------+---------+-----------------+---------------------+------+----------------+---------------------+-----------------------+--------------+-------------+--------------------------+-------------------+--------------------+------------------+--------------------+----------+\n",
            "|    5000.0|   16.99|  19000.0|           3.0| Fully Paid|     3.0|   314343.0|    25.0|    0.0|                 0.0|  19104.0|      33.3|     62.0|   (50,[1],[1.0])|                 1985|1354.0| (34,[15],[1.0])|        (5,[0],[1.0])|              (1,[],[])|(13,[3],[1.0])|    (1,[],[])|             (2,[0],[1.0])|                0.0|(120,[0,1,2,3,4,5...| [49770.0,21719.0]|[0.69619102239505...|       0.0|\n",
            "|    5360.0|   12.59|   1000.0|           1.0|Charged Off|     0.0|     1807.0|     5.0|    0.0|                 0.0|    821.0|       1.7|     28.0|   (50,[4],[1.0])|                 1998|1364.0|  (34,[3],[1.0])|        (5,[1],[1.0])|          (1,[0],[1.0])|(13,[3],[1.0])|(1,[0],[1.0])|             (2,[0],[1.0])|                1.0|(120,[0,1,2,3,5,6...|[420579.0,57856.0]|[0.87907239227899...|       0.0|\n",
            "|    8000.0|    9.99|   2800.0|           2.0|Charged Off|     0.0|     1478.0|     5.0|    0.0|                 0.0|   1478.0|      12.0|      5.0|   (50,[3],[1.0])|                 2011|1504.0|  (34,[4],[1.0])|        (5,[1],[1.0])|          (1,[0],[1.0])|(13,[4],[1.0])|(1,[0],[1.0])|             (2,[1],[1.0])|                1.0|(120,[0,1,2,3,5,6...|[420579.0,57856.0]|[0.87907239227899...|       0.0|\n",
            "|    8400.0|   17.86|   2500.0|           0.0|Charged Off|     0.0|      600.0|     3.0|    0.0|                 0.0|    600.0|       3.6|      4.0|  (50,[18],[1.0])|                 2001|1414.0| (34,[19],[1.0])|        (5,[2],[1.0])|          (1,[0],[1.0])|(13,[3],[1.0])|(1,[0],[1.0])|                 (2,[],[])|                1.0|(120,[0,1,2,5,6,9...|[171885.0,55344.0]|[0.75643953896729...|       0.0|\n",
            "|    8663.0|    18.2|   2750.0|           1.0| Fully Paid|     0.0|    31966.0|    11.0|    0.0|                 0.0|   1877.0|      45.8|     11.0|   (50,[3],[1.0])|                 2011|1384.0| (34,[20],[1.0])|        (5,[1],[1.0])|          (1,[0],[1.0])|(13,[7],[1.0])|(1,[0],[1.0])|                 (2,[],[])|                0.0|(120,[0,1,2,3,5,6...|[171885.0,55344.0]|[0.75643953896729...|       0.0|\n",
            "|   10000.0|   13.18|   3600.0|           3.0| Fully Paid|     0.0|     5799.0|    14.0|    0.0|                 0.0|   5799.0|      39.7|     16.0|   (50,[0],[1.0])|                 2008|1334.0|  (34,[5],[1.0])|        (5,[1],[1.0])|          (1,[0],[1.0])|(13,[0],[1.0])|(1,[0],[1.0])|             (2,[0],[1.0])|                0.0|(120,[0,1,2,3,5,6...|[420579.0,57856.0]|[0.87907239227899...|       0.0|\n",
            "|   10000.0|   14.65|   2500.0|           4.0| Fully Paid|     0.0|     3191.0|     6.0|    0.0|                 0.0|   3191.0|      34.7|      6.0|   (50,[1],[1.0])|                 2006|1404.0|  (34,[9],[1.0])|        (5,[1],[1.0])|          (1,[0],[1.0])|(13,[0],[1.0])|(1,[0],[1.0])|                 (2,[],[])|                0.0|(120,[0,1,2,3,5,6...|[171885.0,55344.0]|[0.75643953896729...|       0.0|\n",
            "|   10000.0|   15.61|   3600.0|           3.0| Fully Paid|     0.0|     3423.0|     7.0|    0.0|                 0.0|   3423.0|      46.9|      7.0|   (50,[3],[1.0])|                 2008|1354.0| (34,[11],[1.0])|        (5,[1],[1.0])|          (1,[0],[1.0])|(13,[0],[1.0])|(1,[0],[1.0])|             (2,[0],[1.0])|                0.0|(120,[0,1,2,3,5,6...|[171885.0,55344.0]|[0.75643953896729...|       0.0|\n",
            "|   10000.0|   17.57|   4400.0|           1.0| Fully Paid|     0.0|    11184.0|     3.0|    0.0|                 0.0|  11184.0|      86.0|      7.0|   (50,[1],[1.0])|                 2002|1364.0| (34,[16],[1.0])|        (5,[2],[1.0])|          (1,[0],[1.0])|(13,[0],[1.0])|(1,[0],[1.0])|                 (2,[],[])|                0.0|(120,[0,1,2,3,5,6...|[171885.0,55344.0]|[0.75643953896729...|       0.0|\n",
            "|   10500.0|   12.59|   4400.0|           2.0| Fully Paid|     0.0|     4490.0|     3.0|    0.0|                 0.0|   4490.0|      76.1|      5.0|   (50,[1],[1.0])|                 2012|1364.0|  (34,[3],[1.0])|        (5,[1],[1.0])|          (1,[0],[1.0])|(13,[0],[1.0])|(1,[0],[1.0])|             (2,[0],[1.0])|                0.0|(120,[0,1,2,3,5,6...|[420579.0,57856.0]|[0.87907239227899...|       0.0|\n",
            "|   11000.0|   13.33|   4600.0|           2.0| Fully Paid|     0.0|     7250.0|    13.0|    0.0|                 0.0|   3841.0|      25.1|     17.0|  (50,[22],[1.0])|                 1995|1384.0|  (34,[5],[1.0])|        (5,[0],[1.0])|          (1,[0],[1.0])|(13,[0],[1.0])|(1,[0],[1.0])|                 (2,[],[])|                0.0|(120,[0,1,2,3,5,6...|[420579.0,57856.0]|[0.87907239227899...|       0.0|\n",
            "|   11000.0|   13.67|   3675.0|           8.0| Fully Paid|     0.0|    35757.0|    18.0|    0.0|                 0.0|   8412.0|      60.1|     21.0|   (50,[5],[1.0])|                 2011|1334.0|  (34,[6],[1.0])|        (5,[1],[1.0])|          (1,[0],[1.0])|(13,[0],[1.0])|(1,[0],[1.0])|             (2,[0],[1.0])|                0.0|(120,[0,1,2,3,5,6...|[171885.0,55344.0]|[0.75643953896729...|       0.0|\n",
            "|   11000.0|   16.99|   4825.0|           1.0| Fully Paid|     0.0|    43328.0|    18.0|    0.0|                 0.0|   5272.0|      40.6|     21.0|   (50,[2],[1.0])|                 2010|1444.0| (34,[15],[1.0])|        (5,[1],[1.0])|          (1,[0],[1.0])|(13,[0],[1.0])|(1,[0],[1.0])|                 (2,[],[])|                0.0|(120,[0,1,2,3,5,6...|[171885.0,55344.0]|[0.75643953896729...|       0.0|\n",
            "|   11000.0|   18.25|   3950.0|           1.0| Fully Paid|     0.0|    13167.0|    11.0|    0.0|                 0.0|   3399.0|      19.2|     28.0|   (50,[0],[1.0])|                 2005|1444.0| (34,[20],[1.0])|        (5,[1],[1.0])|          (1,[0],[1.0])|(13,[3],[1.0])|(1,[0],[1.0])|                 (2,[],[])|                0.0|(120,[0,1,2,3,5,6...|[171885.0,55344.0]|[0.75643953896729...|       0.0|\n",
            "|   12000.0|    6.89|   5000.0|           4.0| Fully Paid|     0.0|     5247.0|    10.0|    0.0|                 0.0|   5247.0|      36.4|     11.0|   (50,[2],[1.0])|                 2008|1444.0| (34,[17],[1.0])|        (5,[2],[1.0])|          (1,[0],[1.0])|(13,[0],[1.0])|(1,[0],[1.0])|             (2,[0],[1.0])|                0.0|(120,[0,1,2,3,5,6...|[420579.0,57856.0]|[0.87907239227899...|       0.0|\n",
            "|   12000.0|    7.89|   5050.0|           3.0|Charged Off|     0.0|     5050.0|     5.0|    0.0|                 0.0|   5050.0|      53.7|      8.0|  (50,[32],[1.0])|                 1998|1424.0| (34,[10],[1.0])|        (5,[1],[1.0])|          (1,[0],[1.0])|(13,[0],[1.0])|(1,[0],[1.0])|             (2,[0],[1.0])|                1.0|(120,[0,1,2,3,5,6...|[420579.0,57856.0]|[0.87907239227899...|       0.0|\n",
            "|   12000.0|    9.99|   4000.0|           3.0| Fully Paid|     0.0|    30921.0|    16.0|    0.0|                 0.0|   2669.0|      13.4|     18.0|   (50,[5],[1.0])|                 2008|1394.0|  (34,[4],[1.0])|        (5,[1],[1.0])|          (1,[0],[1.0])|(13,[6],[1.0])|(1,[0],[1.0])|             (2,[0],[1.0])|                0.0|(120,[0,1,2,3,5,6...|[420579.0,57856.0]|[0.87907239227899...|       0.0|\n",
            "|   12000.0|   12.05|   3000.0|           2.0| Fully Paid|     0.0|    28969.0|    11.0|    2.0|                 2.0|   3250.0|      28.0|     12.0|   (50,[7],[1.0])|                 2009|1374.0|  (34,[0],[1.0])|        (5,[1],[1.0])|          (1,[0],[1.0])|(13,[0],[1.0])|(1,[0],[1.0])|             (2,[0],[1.0])|                0.0|(120,[0,1,2,3,5,6...|[420579.0,57856.0]|[0.87907239227899...|       0.0|\n",
            "|   12000.0|   12.59|   3200.0|           2.0| Fully Paid|     0.0|    13573.0|     7.0|    0.0|                 0.0|   3073.0|      27.7|      8.0|   (50,[0],[1.0])|                 2012|1384.0|  (34,[3],[1.0])|        (5,[1],[1.0])|          (1,[0],[1.0])|(13,[4],[1.0])|(1,[0],[1.0])|             (2,[0],[1.0])|                0.0|(120,[0,1,2,3,5,6...|[420579.0,57856.0]|[0.87907239227899...|       0.0|\n",
            "|   12000.0|   13.33|   5500.0|           3.0| Fully Paid|     0.0|    20666.0|     5.0|    0.0|                 0.0|   4782.0|      78.4|     13.0|   (50,[1],[1.0])|                 2008|1374.0|  (34,[5],[1.0])|        (5,[0],[1.0])|          (1,[0],[1.0])|(13,[1],[1.0])|(1,[0],[1.0])|                 (2,[],[])|                0.0|(120,[0,1,2,3,5,6...|[420579.0,57856.0]|[0.87907239227899...|       0.0|\n",
            "+----------+--------+---------+--------------+-----------+--------+-----------+--------+-------+--------------------+---------+----------+---------+-----------------+---------------------+------+----------------+---------------------+-----------------------+--------------+-------------+--------------------------+-------------------+--------------------+------------------+--------------------+----------+\n",
            "only showing top 20 rows\n",
            "\n"
          ]
        }
      ]
    },
    {
      "cell_type": "markdown",
      "source": [
        "Model Metrics"
      ],
      "metadata": {
        "id": "AQ5RGyAug9dN"
      }
    },
    {
      "cell_type": "code",
      "source": [
        "printAllMetrics(results)"
      ],
      "metadata": {
        "colab": {
          "base_uri": "https://localhost:8080/"
        },
        "id": "FnZOrVcbE_us",
        "outputId": "84dbf7b6-bcd3-4627-86e8-fbe551fb714c"
      },
      "execution_count": null,
      "outputs": [
        {
          "output_type": "stream",
          "name": "stdout",
          "text": [
            "AVERAGE PRECISION      0.75\n",
            "AVERAGE RECALL         0.80\n",
            "AVERAGE F1              0.72\n",
            "ACCURACY                80.13%\n"
          ]
        }
      ]
    },
    {
      "cell_type": "markdown",
      "source": [
        "# CONCLUSION"
      ],
      "metadata": {
        "id": "oakG9AfLhQ3F"
      }
    },
    {
      "cell_type": "markdown",
      "source": [
        "All models have good accuracies around the 80% range and provide a safe estimation of the risk of each loan"
      ],
      "metadata": {
        "id": "DsXi6BOEhVgv"
      }
    }
  ]
}